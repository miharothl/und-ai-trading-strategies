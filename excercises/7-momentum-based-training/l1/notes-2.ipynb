{
 "cells": [
  {
   "cell_type": "markdown",
   "id": "97fab669-a7bf-495b-96d0-294a9e02eed9",
   "metadata": {},
   "source": [
    "# "
   ]
  },
  {
   "cell_type": "code",
   "execution_count": 3,
   "id": "05f167b1-dec5-4cca-816d-af1972b5f2d1",
   "metadata": {},
   "outputs": [],
   "source": [
    "import numpy as np\n",
    "from scipy.stats import norm"
   ]
  },
  {
   "cell_type": "code",
   "execution_count": 4,
   "id": "fd61d142-b14f-4cb7-8624-8fe330b705d7",
   "metadata": {},
   "outputs": [
    {
     "data": {
      "text/plain": [
       "np.float64(1.959963984540054)"
      ]
     },
     "execution_count": 4,
     "metadata": {},
     "output_type": "execute_result"
    }
   ],
   "source": [
    "norm.ppf(0.975)"
   ]
  },
  {
   "cell_type": "code",
   "execution_count": 6,
   "id": "b22bb67c-d10d-4226-935b-ea958d9c32ad",
   "metadata": {},
   "outputs": [
    {
     "data": {
      "text/plain": [
       "np.float64(0.975)"
      ]
     },
     "execution_count": 6,
     "metadata": {},
     "output_type": "execute_result"
    }
   ],
   "source": [
    "norm.cdf(1.959963984540054)"
   ]
  },
  {
   "cell_type": "code",
   "execution_count": null,
   "id": "8dbc5325-2e66-4801-b020-1aa6c1a21ffb",
   "metadata": {},
   "outputs": [],
   "source": []
  },
  {
   "cell_type": "code",
   "execution_count": null,
   "id": "1f095a0d-611d-452b-9095-8661e8db96ae",
   "metadata": {},
   "outputs": [],
   "source": []
  },
  {
   "cell_type": "code",
   "execution_count": null,
   "id": "2b6bd288-1638-426a-99d8-87d59485e937",
   "metadata": {},
   "outputs": [],
   "source": []
  },
  {
   "cell_type": "code",
   "execution_count": null,
   "id": "9ffeb3bb-578d-4507-af39-19dd7064a572",
   "metadata": {},
   "outputs": [],
   "source": []
  },
  {
   "cell_type": "code",
   "execution_count": 9,
   "id": "fe398cb2-7bfa-47d1-be39-81a8fd6ac56b",
   "metadata": {},
   "outputs": [
    {
     "name": "stdout",
     "output_type": "stream",
     "text": [
      "[4.87030538 5.36829767]\n"
     ]
    }
   ],
   "source": [
    "import numpy as np\n",
    "from scipy.stats import norm\n",
    "\n",
    "mu = 0.3\n",
    "sigma = 0.25\n",
    "t = 1.0/12\n",
    "\n",
    "mean = (mu - sigma**2/2)* t\n",
    "std = sigma * np.sqrt(t)\n",
    "\n",
    "Q = norm.ppf([0.25, 0.75], loc=mean, scale=std)\n",
    "P = 5 * np.exp(Q)\n",
    "print(P)"
   ]
  },
  {
   "cell_type": "code",
   "execution_count": null,
   "id": "4e56940a-0bf1-4013-b05a-69e676c5e597",
   "metadata": {},
   "outputs": [],
   "source": [
    "    "
   ]
  }
 ],
 "metadata": {
  "kernelspec": {
   "display_name": "Python 3 (ipykernel)",
   "language": "python",
   "name": "python3"
  },
  "language_info": {
   "codemirror_mode": {
    "name": "ipython",
    "version": 3
   },
   "file_extension": ".py",
   "mimetype": "text/x-python",
   "name": "python",
   "nbconvert_exporter": "python",
   "pygments_lexer": "ipython3",
   "version": "3.10.18"
  }
 },
 "nbformat": 4,
 "nbformat_minor": 5
}
