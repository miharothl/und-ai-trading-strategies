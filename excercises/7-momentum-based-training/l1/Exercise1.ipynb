{
 "cells": [
  {
   "cell_type": "markdown",
   "id": "871808c0-07e3-4260-bf07-d1159f52d2b9",
   "metadata": {},
   "source": [
    "# Exercise 1"
   ]
  },
  {
   "cell_type": "markdown",
   "id": "d65a1192-55fe-45bc-b2af-5bda0ed0afd7",
   "metadata": {},
   "source": [
    "## Question 1 ##\n",
    "Use scipy.stats.norm to generate 20 arrays, each containing 200 independent, identically distributed, normal random variables. Calculate and print the mean and the standard deviation of the samples in each of these arrays."
   ]
  },
  {
   "cell_type": "code",
   "execution_count": 3,
   "id": "d08860fe-2dd5-4049-8b8f-67b568fb04e6",
   "metadata": {},
   "outputs": [
    {
     "name": "stdout",
     "output_type": "stream",
     "text": [
      "sample mean:\n",
      "  0.03  0.03 -0.04 -0.03 -0.02  0.09  0.06 -0.08 -0.02 -0.02  0.07  0.07  0.03 -0.05  0.01  0.12 -0.01 -0.03  0.00  0.04\n",
      "sample standard deviation:\n",
      "  0.99  1.02  0.89  1.11  0.96  1.02  0.98  1.05  1.06  0.92  0.95  0.99  0.98  1.02  1.04  1.02  0.94  1.00  1.02  0.90"
     ]
    }
   ],
   "source": [
    "import numpy as np\n",
    "from scipy.stats import norm\n",
    "N = 200\n",
    "K = 20\n",
    "\n",
    "X = np.reshape(norm.rvs(size=N*K), (N, K))\n",
    "\n",
    "M = [np.mean(X[:, i]) for i in range(X.shape[1])]\n",
    "S = [np.std(X[:, i]) for i in range(X.shape[1])]\n",
    "print(\"sample mean:\")\n",
    "for m in M:\n",
    "    print(\"% 6.2f\" % m, end=\"\")\n",
    "print()\n",
    "print(\"sample standard deviation:\")\n",
    "for m in S:\n",
    "    print(\"% 6.2f\" % m, end=\"\")"
   ]
  },
  {
   "cell_type": "markdown",
   "id": "7f4681cd-0895-4fd2-b6f0-3e37e1dac44f",
   "metadata": {},
   "source": [
    "## Question 2 ##\n",
    "Perform the Student's t-test on each of these samples with the null hypothesis\n",
    "   \n",
    "    $H_0$: The sample comes from a distribution of 0 mean.\n",
    "\n",
    "\n",
    "Calculate the p-value of these tests. If we reject $H_0$ when the p-value is less than 5%, in how many cases will we reject $H_0$?"
   ]
  },
  {
   "cell_type": "code",
   "execution_count": 4,
   "id": "29060bec-7fe2-4bd7-9279-f8241f074bd1",
   "metadata": {},
   "outputs": [
    {
     "name": "stdout",
     "output_type": "stream",
     "text": [
      "p-values:\n",
      " 0.637 0.684 0.550 0.748 0.761 0.189 0.392 0.297 0.827 0.798 0.277 0.319 0.682 0.526 0.890 0.092 0.914 0.710 0.971 0.497"
     ]
    }
   ],
   "source": [
    "from scipy.stats import t as Students_t\n",
    "T = np.asarray([M[i]/S[i] * np.sqrt(N) for i in range(X.shape[1])])\n",
    "pval = ([2 * Students_t.cdf(-abs(q), df=N-1) for q in T])\n",
    "print(\"p-values:\")\n",
    "for x in pval:\n",
    "    print(\"% 6.3f\" % x, end=\"\")\n"
   ]
  },
  {
   "cell_type": "code",
   "execution_count": null,
   "id": "d580d75a-8027-4d1a-a4bb-2d5b140a2412",
   "metadata": {},
   "outputs": [],
   "source": []
  },
  {
   "cell_type": "code",
   "execution_count": null,
   "id": "b76fdd21-2bac-45e2-8950-5e7e4bdb0a85",
   "metadata": {},
   "outputs": [],
   "source": []
  },
  {
   "cell_type": "code",
   "execution_count": null,
   "id": "047be492-42dd-4d6f-a176-d116fa495ea0",
   "metadata": {},
   "outputs": [],
   "source": []
  }
 ],
 "metadata": {
  "kernelspec": {
   "display_name": "Python 3 (ipykernel)",
   "language": "python",
   "name": "python3"
  },
  "language_info": {
   "codemirror_mode": {
    "name": "ipython",
    "version": 3
   },
   "file_extension": ".py",
   "mimetype": "text/x-python",
   "name": "python",
   "nbconvert_exporter": "python",
   "pygments_lexer": "ipython3",
   "version": "3.10.18"
  }
 },
 "nbformat": 4,
 "nbformat_minor": 5
}
