{
 "cells": [
  {
   "cell_type": "markdown",
   "id": "81942eb1",
   "metadata": {},
   "source": [
    "# Course 2 Project: ML Pipeline for Feature Engineering"
   ]
  },
  {
   "cell_type": "markdown",
   "id": "4f241775",
   "metadata": {},
   "source": [
    "## Instructions\n",
    "\n",
    "In this project, you'll use data related to microeconomic indicators and historical stock prices to explore the data engineering pipline. You'll get to practice:\n",
    "\n",
    "* Data ingestion \n",
    "* Data cleaning\n",
    "* Data imputation\n",
    "* Exploratory data analysis (EDA) through charts and graphs"
   ]
  },
  {
   "cell_type": "markdown",
   "id": "1f12b277",
   "metadata": {},
   "source": [
    "## Packages\n",
    "\n",
    "You'll use `pandas` and `matplotlib`, which were covered in the course material, to import, clean, and plot data. They have been installed in this workspace for you. If you're working locally and you installed Jupyter using Anaconda, these packages will already be installed. "
   ]
  },
  {
   "cell_type": "code",
   "execution_count": 1,
   "id": "882241d4",
   "metadata": {},
   "outputs": [],
   "source": [
    "import pandas as pd\n",
    "import matplotlib.pyplot as plt\n",
    "import seaborn as sns\n",
    "import sys\n",
    "import os\n",
    "\n",
    "from sklearn.preprocessing import StandardScaler\n",
    "\n",
    "# Manually set the path relative to the py file's location that you want to import\n",
    "func_lib_path = os.path.abspath(os.path.join(os.getcwd(), './'))\n",
    "# Add the path to sys.path\n",
    "sys.path.append(func_lib_path)\n",
    "# Now you can import func_lib\n",
    "import func_lib"
   ]
  },
  {
   "cell_type": "markdown",
   "id": "f9fcd352",
   "metadata": {},
   "source": [
    "## Load data\n",
    "\n",
    "The first step in a data engineering pipeline for machine learning is to ingest the data that will be used. For this project, data is hosted on a public GitHub repo. \n",
    "\n",
    "Your tasks:\n",
    "* Import data from the provided GitHub repo using `pandas`\n",
    "* Verify that the data has been imported correctly into `pandas` dataframes. Use methods like `head()` and `info()`\n",
    "* You may need to change column names to make them easier to work with\n",
    "* You may need to cast datetime data to the `datetime` format using `pandas` `to_datetime()` method\n",
    "\n",
    "Data files to import: \n",
    "1. GDP\n",
    "2. Inflation \n",
    "3. Apple stock prices \n",
    "4. Microsoft stock prices"
   ]
  },
  {
   "cell_type": "code",
   "execution_count": 2,
   "id": "d6eec7e9-25c4-45c8-b3f9-471a60434b98",
   "metadata": {},
   "outputs": [],
   "source": [
    "# Load historical GDP data\n",
    "df_gdp = func_lib.load_historical_data(filepath='https://raw.githubusercontent.com/udacity/CD13649-Project/refs/heads/main/Project/GDP.csv')"
   ]
  },
  {
   "cell_type": "code",
   "execution_count": 3,
   "id": "cf36d7c0",
   "metadata": {},
   "outputs": [
    {
     "data": {
      "text/html": [
       "<div>\n",
       "<style scoped>\n",
       "    .dataframe tbody tr th:only-of-type {\n",
       "        vertical-align: middle;\n",
       "    }\n",
       "\n",
       "    .dataframe tbody tr th {\n",
       "        vertical-align: top;\n",
       "    }\n",
       "\n",
       "    .dataframe thead th {\n",
       "        text-align: right;\n",
       "    }\n",
       "</style>\n",
       "<table border=\"1\" class=\"dataframe\">\n",
       "  <thead>\n",
       "    <tr style=\"text-align: right;\">\n",
       "      <th></th>\n",
       "      <th>DATE</th>\n",
       "      <th>GDP</th>\n",
       "    </tr>\n",
       "  </thead>\n",
       "  <tbody>\n",
       "    <tr>\n",
       "      <th>0</th>\n",
       "      <td>1947-01-01</td>\n",
       "      <td>243.164</td>\n",
       "    </tr>\n",
       "    <tr>\n",
       "      <th>1</th>\n",
       "      <td>1947-04-01</td>\n",
       "      <td>245.968</td>\n",
       "    </tr>\n",
       "    <tr>\n",
       "      <th>2</th>\n",
       "      <td>1947-07-01</td>\n",
       "      <td>249.585</td>\n",
       "    </tr>\n",
       "    <tr>\n",
       "      <th>3</th>\n",
       "      <td>1947-10-01</td>\n",
       "      <td>259.745</td>\n",
       "    </tr>\n",
       "    <tr>\n",
       "      <th>4</th>\n",
       "      <td>1948-01-01</td>\n",
       "      <td>265.742</td>\n",
       "    </tr>\n",
       "  </tbody>\n",
       "</table>\n",
       "</div>"
      ],
      "text/plain": [
       "         DATE      GDP\n",
       "0  1947-01-01  243.164\n",
       "1  1947-04-01  245.968\n",
       "2  1947-07-01  249.585\n",
       "3  1947-10-01  259.745\n",
       "4  1948-01-01  265.742"
      ]
     },
     "execution_count": 3,
     "metadata": {},
     "output_type": "execute_result"
    }
   ],
   "source": [
    "# Check the first few rows of data\n",
    "df_gdp.head()"
   ]
  },
  {
   "cell_type": "code",
   "execution_count": 4,
   "id": "2a2478c9",
   "metadata": {},
   "outputs": [],
   "source": [
    "# Load the historical stock price data for Apple and Microsoft\n",
    "df_apple = func_lib.load_historical_data('https://raw.githubusercontent.com/udacity/CD13649-Project/refs/heads/main/Project/apple_historical_data.csv')\n",
    "df_microsoft = func_lib.load_historical_data('https://raw.githubusercontent.com/udacity/CD13649-Project/refs/heads/main/Project/microsoft_historical_data.csv')"
   ]
  },
  {
   "cell_type": "code",
   "execution_count": 5,
   "id": "80ec2438-58ad-4301-979b-170c4270c64e",
   "metadata": {},
   "outputs": [
    {
     "data": {
      "text/html": [
       "<div>\n",
       "<style scoped>\n",
       "    .dataframe tbody tr th:only-of-type {\n",
       "        vertical-align: middle;\n",
       "    }\n",
       "\n",
       "    .dataframe tbody tr th {\n",
       "        vertical-align: top;\n",
       "    }\n",
       "\n",
       "    .dataframe thead th {\n",
       "        text-align: right;\n",
       "    }\n",
       "</style>\n",
       "<table border=\"1\" class=\"dataframe\">\n",
       "  <thead>\n",
       "    <tr style=\"text-align: right;\">\n",
       "      <th></th>\n",
       "      <th>DATE</th>\n",
       "      <th>CLOSE/LAST</th>\n",
       "      <th>VOLUME</th>\n",
       "      <th>OPEN</th>\n",
       "      <th>HIGH</th>\n",
       "      <th>LOW</th>\n",
       "    </tr>\n",
       "  </thead>\n",
       "  <tbody>\n",
       "    <tr>\n",
       "      <th>0</th>\n",
       "      <td>5/3/2024</td>\n",
       "      <td>$183.38</td>\n",
       "      <td>163224100</td>\n",
       "      <td>$186.65</td>\n",
       "      <td>$187.00</td>\n",
       "      <td>$182.66</td>\n",
       "    </tr>\n",
       "    <tr>\n",
       "      <th>1</th>\n",
       "      <td>5/2/2024</td>\n",
       "      <td>$173.03</td>\n",
       "      <td>94214920</td>\n",
       "      <td>$172.51</td>\n",
       "      <td>$173.42</td>\n",
       "      <td>$170.89</td>\n",
       "    </tr>\n",
       "    <tr>\n",
       "      <th>2</th>\n",
       "      <td>5/1/2024</td>\n",
       "      <td>$169.30</td>\n",
       "      <td>50383150</td>\n",
       "      <td>$169.58</td>\n",
       "      <td>$172.71</td>\n",
       "      <td>$169.11</td>\n",
       "    </tr>\n",
       "    <tr>\n",
       "      <th>3</th>\n",
       "      <td>4/30/2024</td>\n",
       "      <td>$170.33</td>\n",
       "      <td>65934780</td>\n",
       "      <td>$173.33</td>\n",
       "      <td>$174.99</td>\n",
       "      <td>$170.00</td>\n",
       "    </tr>\n",
       "    <tr>\n",
       "      <th>4</th>\n",
       "      <td>4/29/2024</td>\n",
       "      <td>$173.50</td>\n",
       "      <td>68169420</td>\n",
       "      <td>$173.37</td>\n",
       "      <td>$176.03</td>\n",
       "      <td>$173.10</td>\n",
       "    </tr>\n",
       "  </tbody>\n",
       "</table>\n",
       "</div>"
      ],
      "text/plain": [
       "        DATE CLOSE/LAST     VOLUME      OPEN      HIGH       LOW\n",
       "0   5/3/2024   $183.38   163224100  $186.65   $187.00   $182.66 \n",
       "1   5/2/2024   $173.03    94214920  $172.51   $173.42   $170.89 \n",
       "2   5/1/2024   $169.30    50383150  $169.58   $172.71   $169.11 \n",
       "3  4/30/2024   $170.33    65934780  $173.33   $174.99   $170.00 \n",
       "4  4/29/2024   $173.50    68169420  $173.37   $176.03   $173.10 "
      ]
     },
     "execution_count": 5,
     "metadata": {},
     "output_type": "execute_result"
    }
   ],
   "source": [
    "# Check the first few rows of data\n",
    "df_apple.head()"
   ]
  },
  {
   "cell_type": "code",
   "execution_count": 6,
   "id": "a2b67805-dc4b-4ca5-8780-d04d23334bc4",
   "metadata": {},
   "outputs": [
    {
     "data": {
      "text/html": [
       "<div>\n",
       "<style scoped>\n",
       "    .dataframe tbody tr th:only-of-type {\n",
       "        vertical-align: middle;\n",
       "    }\n",
       "\n",
       "    .dataframe tbody tr th {\n",
       "        vertical-align: top;\n",
       "    }\n",
       "\n",
       "    .dataframe thead th {\n",
       "        text-align: right;\n",
       "    }\n",
       "</style>\n",
       "<table border=\"1\" class=\"dataframe\">\n",
       "  <thead>\n",
       "    <tr style=\"text-align: right;\">\n",
       "      <th></th>\n",
       "      <th>DATE</th>\n",
       "      <th>CLOSE/LAST</th>\n",
       "      <th>VOLUME</th>\n",
       "      <th>OPEN</th>\n",
       "      <th>HIGH</th>\n",
       "      <th>LOW</th>\n",
       "    </tr>\n",
       "  </thead>\n",
       "  <tbody>\n",
       "    <tr>\n",
       "      <th>0</th>\n",
       "      <td>05/03/2024</td>\n",
       "      <td>$406.66</td>\n",
       "      <td>17446720</td>\n",
       "      <td>$402.28</td>\n",
       "      <td>$407.15</td>\n",
       "      <td>$401.86</td>\n",
       "    </tr>\n",
       "    <tr>\n",
       "      <th>1</th>\n",
       "      <td>05/02/2024</td>\n",
       "      <td>$397.84</td>\n",
       "      <td>17709360</td>\n",
       "      <td>$397.66</td>\n",
       "      <td>$399.93</td>\n",
       "      <td>$394.6515</td>\n",
       "    </tr>\n",
       "    <tr>\n",
       "      <th>2</th>\n",
       "      <td>05/01/2024</td>\n",
       "      <td>$394.94</td>\n",
       "      <td>23562480</td>\n",
       "      <td>$392.61</td>\n",
       "      <td>$401.7199</td>\n",
       "      <td>$390.31</td>\n",
       "    </tr>\n",
       "    <tr>\n",
       "      <th>3</th>\n",
       "      <td>04/30/2024</td>\n",
       "      <td>$389.33</td>\n",
       "      <td>28781370</td>\n",
       "      <td>$401.49</td>\n",
       "      <td>$402.16</td>\n",
       "      <td>$389.17</td>\n",
       "    </tr>\n",
       "    <tr>\n",
       "      <th>4</th>\n",
       "      <td>04/29/2024</td>\n",
       "      <td>$402.25</td>\n",
       "      <td>19582090</td>\n",
       "      <td>$405.25</td>\n",
       "      <td>$406.32</td>\n",
       "      <td>$399.19</td>\n",
       "    </tr>\n",
       "  </tbody>\n",
       "</table>\n",
       "</div>"
      ],
      "text/plain": [
       "         DATE CLOSE/LAST    VOLUME     OPEN       HIGH        LOW\n",
       "0  05/03/2024    $406.66  17446720  $402.28    $407.15    $401.86\n",
       "1  05/02/2024    $397.84  17709360  $397.66    $399.93  $394.6515\n",
       "2  05/01/2024    $394.94  23562480  $392.61  $401.7199    $390.31\n",
       "3  04/30/2024    $389.33  28781370  $401.49    $402.16    $389.17\n",
       "4  04/29/2024    $402.25  19582090  $405.25    $406.32    $399.19"
      ]
     },
     "execution_count": 6,
     "metadata": {},
     "output_type": "execute_result"
    }
   ],
   "source": [
    "df_microsoft.head()"
   ]
  },
  {
   "cell_type": "code",
   "execution_count": 7,
   "id": "8c9bed17",
   "metadata": {},
   "outputs": [
    {
     "name": "stdout",
     "output_type": "stream",
     "text": [
      "GDP\n",
      "\n",
      "--- DataFrame Info ---\n",
      "<class 'pandas.core.frame.DataFrame'>\n",
      "RangeIndex: 309 entries, 0 to 308\n",
      "Data columns (total 2 columns):\n",
      " #   Column  Non-Null Count  Dtype  \n",
      "---  ------  --------------  -----  \n",
      " 0   DATE    309 non-null    object \n",
      " 1   GDP     309 non-null    float64\n",
      "dtypes: float64(1), object(1)\n",
      "memory usage: 5.0+ KB\n",
      "\n",
      "--- Descriptive Statistics ---\n",
      "              DATE           GDP\n",
      "count          309    309.000000\n",
      "unique         309           NaN\n",
      "top     2024-01-01           NaN\n",
      "freq             1           NaN\n",
      "mean           NaN   7227.754935\n",
      "std            NaN   7478.297734\n",
      "min            NaN    243.164000\n",
      "25%            NaN    804.981000\n",
      "50%            NaN   4386.773000\n",
      "75%            NaN  12527.214000\n",
      "max            NaN  28284.498000\n"
     ]
    }
   ],
   "source": [
    "# Use methods like .info() and .describe() to explore the data\n",
    "func_lib.explore_data(df_gdp)"
   ]
  },
  {
   "cell_type": "code",
   "execution_count": 8,
   "id": "af6ef458-294f-4dda-902f-1fefc26d14d1",
   "metadata": {},
   "outputs": [
    {
     "name": "stdout",
     "output_type": "stream",
     "text": [
      "APPLE_HISTORICAL_DATA\n",
      "\n",
      "--- DataFrame Info ---\n",
      "<class 'pandas.core.frame.DataFrame'>\n",
      "RangeIndex: 2517 entries, 0 to 2516\n",
      "Data columns (total 6 columns):\n",
      " #   Column      Non-Null Count  Dtype \n",
      "---  ------      --------------  ----- \n",
      " 0   DATE        2517 non-null   object\n",
      " 1   CLOSE/LAST  2514 non-null   object\n",
      " 2   VOLUME      2517 non-null   int64 \n",
      " 3   OPEN        2517 non-null   object\n",
      " 4   HIGH        2517 non-null   object\n",
      " 5   LOW         2517 non-null   object\n",
      "dtypes: int64(1), object(5)\n",
      "memory usage: 118.1+ KB\n",
      "\n",
      "--- Descriptive Statistics ---\n",
      "            DATE CLOSE/LAST        VOLUME     OPEN     HIGH      LOW\n",
      "count       2517       2514  2.517000e+03     2517     2517     2517\n",
      "unique      2517       2152           NaN     2143     2155     2177\n",
      "top     5/6/2014    $43.56            NaN  $28.58   $29.13   $32.08 \n",
      "freq           1          5           NaN        4        7        5\n",
      "mean         NaN        NaN  1.277394e+08      NaN      NaN      NaN\n",
      "std          NaN        NaN  7.357405e+07      NaN      NaN      NaN\n",
      "min          NaN        NaN  2.404834e+07      NaN      NaN      NaN\n",
      "25%          NaN        NaN  7.741776e+07      NaN      NaN      NaN\n",
      "50%          NaN        NaN  1.077601e+08      NaN      NaN      NaN\n",
      "75%          NaN        NaN  1.567789e+08      NaN      NaN      NaN\n",
      "max          NaN        NaN  7.576780e+08      NaN      NaN      NaN\n"
     ]
    }
   ],
   "source": [
    "func_lib.explore_data(df_apple)"
   ]
  },
  {
   "cell_type": "code",
   "execution_count": 9,
   "id": "4073f1c9-2dba-4f62-934f-f0fb7773b850",
   "metadata": {},
   "outputs": [
    {
     "name": "stdout",
     "output_type": "stream",
     "text": [
      "MICROSOFT_HISTORICAL_DATA\n",
      "\n",
      "--- DataFrame Info ---\n",
      "<class 'pandas.core.frame.DataFrame'>\n",
      "RangeIndex: 2517 entries, 0 to 2516\n",
      "Data columns (total 6 columns):\n",
      " #   Column      Non-Null Count  Dtype \n",
      "---  ------      --------------  ----- \n",
      " 0   DATE        2517 non-null   object\n",
      " 1   CLOSE/LAST  2517 non-null   object\n",
      " 2   VOLUME      2517 non-null   int64 \n",
      " 3   OPEN        2517 non-null   object\n",
      " 4   HIGH        2517 non-null   object\n",
      " 5   LOW         2517 non-null   object\n",
      "dtypes: int64(1), object(5)\n",
      "memory usage: 118.1+ KB\n",
      "\n",
      "--- Descriptive Statistics ---\n",
      "              DATE CLOSE/LAST        VOLUME    OPEN    HIGH      LOW\n",
      "count         2517       2517  2.517000e+03    2517    2517     2517\n",
      "unique        2517       2332           NaN    2356    2348     2359\n",
      "top     05/06/2014     $62.30           NaN  $45.45  $47.77  $135.00\n",
      "freq             1          4           NaN       4       4        3\n",
      "mean           NaN        NaN  2.953106e+07     NaN     NaN      NaN\n",
      "std            NaN        NaN  1.370138e+07     NaN     NaN      NaN\n",
      "min            NaN        NaN  7.425603e+06     NaN     NaN      NaN\n",
      "25%            NaN        NaN  2.131892e+07     NaN     NaN      NaN\n",
      "50%            NaN        NaN  2.639470e+07     NaN     NaN      NaN\n",
      "75%            NaN        NaN  3.360003e+07     NaN     NaN      NaN\n",
      "max            NaN        NaN  2.025141e+08     NaN     NaN      NaN\n"
     ]
    }
   ],
   "source": [
    "func_lib.explore_data(df_microsoft)"
   ]
  },
  {
   "cell_type": "code",
   "execution_count": 10,
   "id": "e1b5eb11-7b88-4b0b-90ad-6a2c2d4f6b40",
   "metadata": {},
   "outputs": [
    {
     "data": {
      "text/html": [
       "<div>\n",
       "<style scoped>\n",
       "    .dataframe tbody tr th:only-of-type {\n",
       "        vertical-align: middle;\n",
       "    }\n",
       "\n",
       "    .dataframe tbody tr th {\n",
       "        vertical-align: top;\n",
       "    }\n",
       "\n",
       "    .dataframe thead th {\n",
       "        text-align: right;\n",
       "    }\n",
       "</style>\n",
       "<table border=\"1\" class=\"dataframe\">\n",
       "  <thead>\n",
       "    <tr style=\"text-align: right;\">\n",
       "      <th></th>\n",
       "      <th>VOLUME</th>\n",
       "    </tr>\n",
       "  </thead>\n",
       "  <tbody>\n",
       "    <tr>\n",
       "      <th>count</th>\n",
       "      <td>2.517000e+03</td>\n",
       "    </tr>\n",
       "    <tr>\n",
       "      <th>mean</th>\n",
       "      <td>1.277394e+08</td>\n",
       "    </tr>\n",
       "    <tr>\n",
       "      <th>std</th>\n",
       "      <td>7.357405e+07</td>\n",
       "    </tr>\n",
       "    <tr>\n",
       "      <th>min</th>\n",
       "      <td>2.404834e+07</td>\n",
       "    </tr>\n",
       "    <tr>\n",
       "      <th>25%</th>\n",
       "      <td>7.741776e+07</td>\n",
       "    </tr>\n",
       "    <tr>\n",
       "      <th>50%</th>\n",
       "      <td>1.077601e+08</td>\n",
       "    </tr>\n",
       "    <tr>\n",
       "      <th>75%</th>\n",
       "      <td>1.567789e+08</td>\n",
       "    </tr>\n",
       "    <tr>\n",
       "      <th>max</th>\n",
       "      <td>7.576780e+08</td>\n",
       "    </tr>\n",
       "  </tbody>\n",
       "</table>\n",
       "</div>"
      ],
      "text/plain": [
       "             VOLUME\n",
       "count  2.517000e+03\n",
       "mean   1.277394e+08\n",
       "std    7.357405e+07\n",
       "min    2.404834e+07\n",
       "25%    7.741776e+07\n",
       "50%    1.077601e+08\n",
       "75%    1.567789e+08\n",
       "max    7.576780e+08"
      ]
     },
     "execution_count": 10,
     "metadata": {},
     "output_type": "execute_result"
    }
   ],
   "source": [
    "df_apple.describe()"
   ]
  },
  {
   "cell_type": "code",
   "execution_count": 11,
   "id": "376a4ac3-1ca1-4ef1-a4e8-11f429c3e7f7",
   "metadata": {},
   "outputs": [
    {
     "name": "stdout",
     "output_type": "stream",
     "text": [
      "<class 'pandas.core.frame.DataFrame'>\n",
      "RangeIndex: 2517 entries, 0 to 2516\n",
      "Data columns (total 6 columns):\n",
      " #   Column      Non-Null Count  Dtype \n",
      "---  ------      --------------  ----- \n",
      " 0   DATE        2517 non-null   object\n",
      " 1   CLOSE/LAST  2517 non-null   object\n",
      " 2   VOLUME      2517 non-null   int64 \n",
      " 3   OPEN        2517 non-null   object\n",
      " 4   HIGH        2517 non-null   object\n",
      " 5   LOW         2517 non-null   object\n",
      "dtypes: int64(1), object(5)\n",
      "memory usage: 118.1+ KB\n"
     ]
    }
   ],
   "source": [
    "df_microsoft.info()"
   ]
  },
  {
   "cell_type": "code",
   "execution_count": 12,
   "id": "8577051b-0491-4f44-9c77-db10499e11f4",
   "metadata": {},
   "outputs": [
    {
     "data": {
      "text/html": [
       "<div>\n",
       "<style scoped>\n",
       "    .dataframe tbody tr th:only-of-type {\n",
       "        vertical-align: middle;\n",
       "    }\n",
       "\n",
       "    .dataframe tbody tr th {\n",
       "        vertical-align: top;\n",
       "    }\n",
       "\n",
       "    .dataframe thead th {\n",
       "        text-align: right;\n",
       "    }\n",
       "</style>\n",
       "<table border=\"1\" class=\"dataframe\">\n",
       "  <thead>\n",
       "    <tr style=\"text-align: right;\">\n",
       "      <th></th>\n",
       "      <th>VOLUME</th>\n",
       "    </tr>\n",
       "  </thead>\n",
       "  <tbody>\n",
       "    <tr>\n",
       "      <th>count</th>\n",
       "      <td>2.517000e+03</td>\n",
       "    </tr>\n",
       "    <tr>\n",
       "      <th>mean</th>\n",
       "      <td>2.953106e+07</td>\n",
       "    </tr>\n",
       "    <tr>\n",
       "      <th>std</th>\n",
       "      <td>1.370138e+07</td>\n",
       "    </tr>\n",
       "    <tr>\n",
       "      <th>min</th>\n",
       "      <td>7.425603e+06</td>\n",
       "    </tr>\n",
       "    <tr>\n",
       "      <th>25%</th>\n",
       "      <td>2.131892e+07</td>\n",
       "    </tr>\n",
       "    <tr>\n",
       "      <th>50%</th>\n",
       "      <td>2.639470e+07</td>\n",
       "    </tr>\n",
       "    <tr>\n",
       "      <th>75%</th>\n",
       "      <td>3.360003e+07</td>\n",
       "    </tr>\n",
       "    <tr>\n",
       "      <th>max</th>\n",
       "      <td>2.025141e+08</td>\n",
       "    </tr>\n",
       "  </tbody>\n",
       "</table>\n",
       "</div>"
      ],
      "text/plain": [
       "             VOLUME\n",
       "count  2.517000e+03\n",
       "mean   2.953106e+07\n",
       "std    1.370138e+07\n",
       "min    7.425603e+06\n",
       "25%    2.131892e+07\n",
       "50%    2.639470e+07\n",
       "75%    3.360003e+07\n",
       "max    2.025141e+08"
      ]
     },
     "execution_count": 12,
     "metadata": {},
     "output_type": "execute_result"
    }
   ],
   "source": [
    "df_microsoft.describe()"
   ]
  },
  {
   "cell_type": "markdown",
   "id": "06c8d9dc",
   "metadata": {},
   "source": [
    "## Data preprocessing: Check for missing data and forward fill\n",
    "\n",
    "Check the Apple historical prices for missing data. Check for missing data in all columns. If there's data missing, use a forward fill to fill in those missing prices. "
   ]
  },
  {
   "cell_type": "code",
   "execution_count": 13,
   "id": "4807173e",
   "metadata": {},
   "outputs": [
    {
     "name": "stdout",
     "output_type": "stream",
     "text": [
      "APPLE_HISTORICAL_DATA\n",
      "DATE          0\n",
      "CLOSE/LAST    3\n",
      "VOLUME        0\n",
      "OPEN          0\n",
      "HIGH          0\n",
      "LOW           0\n",
      "dtype: int64\n"
     ]
    }
   ],
   "source": [
    "# Check for nulls\n",
    "func_lib.check_for_nulls(df_apple)"
   ]
  },
  {
   "cell_type": "code",
   "execution_count": 14,
   "id": "00e4d6f5",
   "metadata": {},
   "outputs": [],
   "source": [
    "# Forward fill any missing data\n",
    "func_lib.forward_fill(df_apple)"
   ]
  },
  {
   "cell_type": "code",
   "execution_count": 15,
   "id": "f82d3b2d",
   "metadata": {},
   "outputs": [
    {
     "name": "stdout",
     "output_type": "stream",
     "text": [
      "APPLE_HISTORICAL_DATA\n",
      "OK - No nulls\n"
     ]
    }
   ],
   "source": [
    "# Check again for nulls after using forward fill\n",
    "func_lib.check_for_nulls(df_apple)"
   ]
  },
  {
   "cell_type": "markdown",
   "id": "2614c615",
   "metadata": {},
   "source": [
    "## Data preprocessing: Remove special characters and convert to numeric/datetime\n",
    "\n",
    "The next step in the data engineering process is to standardize and clean up data. In this step, you'll check for odd formatting and special characters that will make it difficult to work with data as numeric or datetime. \n",
    "\n",
    "In this step:\n",
    "* Create a function that takes in a dataframe and a list of columns and removes dollar signs ('$') from those columns\n",
    "* Convert any columns with date/time data into a `pandas` `datetime` format"
   ]
  },
  {
   "cell_type": "code",
   "execution_count": 16,
   "id": "055f8621",
   "metadata": {},
   "outputs": [],
   "source": [
    "# Remove special characters and convert to numeric/datetime\n",
    "func_lib.convert_dollar_columns_to_numeric(df_apple, ['CLOSE/LAST', 'OPEN', 'HIGH', 'LOW' ])\n",
    "func_lib.convert_dollar_columns_to_numeric(df_microsoft, ['CLOSE/LAST', 'OPEN', 'HIGH', 'LOW' ])"
   ]
  },
  {
   "cell_type": "code",
   "execution_count": 17,
   "id": "c16f4705-03c8-4d0c-9299-eca9839c716d",
   "metadata": {},
   "outputs": [],
   "source": [
    "# Use pandas's to_datetime() to convert any columns that are in a datetime format\n",
    "func_lib.convert_datetime_columns_to_datetime(df_apple, ['DATE'])\n",
    "func_lib.convert_datetime_columns_to_datetime(df_microsoft, ['DATE'])"
   ]
  },
  {
   "cell_type": "code",
   "execution_count": 18,
   "id": "8a2089e3",
   "metadata": {},
   "outputs": [
    {
     "name": "stdout",
     "output_type": "stream",
     "text": [
      "<class 'pandas.core.frame.DataFrame'>\n",
      "RangeIndex: 2517 entries, 0 to 2516\n",
      "Data columns (total 6 columns):\n",
      " #   Column      Non-Null Count  Dtype         \n",
      "---  ------      --------------  -----         \n",
      " 0   DATE        2517 non-null   datetime64[ns]\n",
      " 1   CLOSE/LAST  2517 non-null   float64       \n",
      " 2   VOLUME      2517 non-null   int64         \n",
      " 3   OPEN        2517 non-null   float64       \n",
      " 4   HIGH        2517 non-null   float64       \n",
      " 5   LOW         2517 non-null   float64       \n",
      "dtypes: datetime64[ns](1), float64(4), int64(1)\n",
      "memory usage: 118.1 KB\n"
     ]
    }
   ],
   "source": [
    "# Use .info() and check the type of each column to ensure that the above steps worked\n",
    "df_apple.info()"
   ]
  },
  {
   "cell_type": "code",
   "execution_count": 19,
   "id": "3a736c80-8918-45fb-80b6-c704418a4a4c",
   "metadata": {},
   "outputs": [
    {
     "name": "stdout",
     "output_type": "stream",
     "text": [
      "<class 'pandas.core.frame.DataFrame'>\n",
      "RangeIndex: 2517 entries, 0 to 2516\n",
      "Data columns (total 6 columns):\n",
      " #   Column      Non-Null Count  Dtype         \n",
      "---  ------      --------------  -----         \n",
      " 0   DATE        2517 non-null   datetime64[ns]\n",
      " 1   CLOSE/LAST  2517 non-null   float64       \n",
      " 2   VOLUME      2517 non-null   int64         \n",
      " 3   OPEN        2517 non-null   float64       \n",
      " 4   HIGH        2517 non-null   float64       \n",
      " 5   LOW         2517 non-null   float64       \n",
      "dtypes: datetime64[ns](1), float64(4), int64(1)\n",
      "memory usage: 118.1 KB\n"
     ]
    }
   ],
   "source": [
    "df_microsoft.info()"
   ]
  },
  {
   "cell_type": "markdown",
   "id": "95ad8e72",
   "metadata": {},
   "source": [
    "## Data preprocessing: Align datetime data\n",
    "\n",
    "Data engineering includes changing data with a datetime component if needed so that different time series can be more easily compared or plotted against each other. \n",
    "\n",
    "In this step:\n",
    "\n",
    "* Align the inflation date so that it falls on the last day of the month instead of the first\n",
    "\n",
    "Helpful hints: \n",
    "* Use the `pandas` `offsets` method using `MonthEnd(0)` to set the 'Date' column to month-end"
   ]
  },
  {
   "cell_type": "code",
   "execution_count": 20,
   "id": "fe782db6",
   "metadata": {},
   "outputs": [
    {
     "data": {
      "text/html": [
       "<div>\n",
       "<style scoped>\n",
       "    .dataframe tbody tr th:only-of-type {\n",
       "        vertical-align: middle;\n",
       "    }\n",
       "\n",
       "    .dataframe tbody tr th {\n",
       "        vertical-align: top;\n",
       "    }\n",
       "\n",
       "    .dataframe thead th {\n",
       "        text-align: right;\n",
       "    }\n",
       "</style>\n",
       "<table border=\"1\" class=\"dataframe\">\n",
       "  <thead>\n",
       "    <tr style=\"text-align: right;\">\n",
       "      <th></th>\n",
       "      <th>DATE</th>\n",
       "      <th>CORESTICKM159SFRBATL</th>\n",
       "    </tr>\n",
       "  </thead>\n",
       "  <tbody>\n",
       "    <tr>\n",
       "      <th>0</th>\n",
       "      <td>1968-01-01</td>\n",
       "      <td>3.651861</td>\n",
       "    </tr>\n",
       "    <tr>\n",
       "      <th>1</th>\n",
       "      <td>1968-02-01</td>\n",
       "      <td>3.673819</td>\n",
       "    </tr>\n",
       "    <tr>\n",
       "      <th>2</th>\n",
       "      <td>1968-03-01</td>\n",
       "      <td>4.142164</td>\n",
       "    </tr>\n",
       "    <tr>\n",
       "      <th>3</th>\n",
       "      <td>1968-04-01</td>\n",
       "      <td>4.155828</td>\n",
       "    </tr>\n",
       "    <tr>\n",
       "      <th>4</th>\n",
       "      <td>1968-05-01</td>\n",
       "      <td>4.088245</td>\n",
       "    </tr>\n",
       "  </tbody>\n",
       "</table>\n",
       "</div>"
      ],
      "text/plain": [
       "         DATE  CORESTICKM159SFRBATL\n",
       "0  1968-01-01              3.651861\n",
       "1  1968-02-01              3.673819\n",
       "2  1968-03-01              4.142164\n",
       "3  1968-04-01              4.155828\n",
       "4  1968-05-01              4.088245"
      ]
     },
     "execution_count": 20,
     "metadata": {},
     "output_type": "execute_result"
    }
   ],
   "source": [
    "# Align inflation data so that the date is the month end (e.g. Jan 31, Feb 28/28)\n",
    "df_inflation = func_lib.load_historical_data('https://raw.githubusercontent.com/udacity/CD13649-Project/refs/heads/main/Project/inflation_monthly.csv')\n",
    "df_inflation.head()"
   ]
  },
  {
   "cell_type": "code",
   "execution_count": 21,
   "id": "a958ffeb-462a-4be1-8f8c-3ba608a25805",
   "metadata": {},
   "outputs": [
    {
     "name": "stdout",
     "output_type": "stream",
     "text": [
      "<class 'pandas.core.frame.DataFrame'>\n",
      "RangeIndex: 675 entries, 0 to 674\n",
      "Data columns (total 2 columns):\n",
      " #   Column                Non-Null Count  Dtype  \n",
      "---  ------                --------------  -----  \n",
      " 0   DATE                  675 non-null    object \n",
      " 1   CORESTICKM159SFRBATL  675 non-null    float64\n",
      "dtypes: float64(1), object(1)\n",
      "memory usage: 10.7+ KB\n"
     ]
    }
   ],
   "source": [
    "df_inflation.info()"
   ]
  },
  {
   "cell_type": "code",
   "execution_count": 22,
   "id": "cca22d44-b79a-4079-8a35-f17d5d720602",
   "metadata": {},
   "outputs": [],
   "source": [
    "func_lib.convert_datetime_columns_to_datetime(df_inflation, ['DATE'])"
   ]
  },
  {
   "cell_type": "code",
   "execution_count": 23,
   "id": "55a1b75d-18de-4ea1-9556-fddb73a83558",
   "metadata": {},
   "outputs": [
    {
     "name": "stdout",
     "output_type": "stream",
     "text": [
      "<class 'pandas.core.frame.DataFrame'>\n",
      "RangeIndex: 675 entries, 0 to 674\n",
      "Data columns (total 2 columns):\n",
      " #   Column                Non-Null Count  Dtype         \n",
      "---  ------                --------------  -----         \n",
      " 0   DATE                  675 non-null    datetime64[ns]\n",
      " 1   CORESTICKM159SFRBATL  675 non-null    float64       \n",
      "dtypes: datetime64[ns](1), float64(1)\n",
      "memory usage: 10.7 KB\n"
     ]
    }
   ],
   "source": [
    "df_inflation.info()"
   ]
  },
  {
   "cell_type": "code",
   "execution_count": 24,
   "id": "51b04941-4092-41eb-a4df-8fa1a73d5c4b",
   "metadata": {},
   "outputs": [],
   "source": [
    "func_lib.align_date_to_end_of_month(df_inflation, ['DATE'])"
   ]
  },
  {
   "cell_type": "code",
   "execution_count": 25,
   "id": "995eb078-fb01-4ddc-a848-383dc8fd4f59",
   "metadata": {},
   "outputs": [
    {
     "data": {
      "text/html": [
       "<div>\n",
       "<style scoped>\n",
       "    .dataframe tbody tr th:only-of-type {\n",
       "        vertical-align: middle;\n",
       "    }\n",
       "\n",
       "    .dataframe tbody tr th {\n",
       "        vertical-align: top;\n",
       "    }\n",
       "\n",
       "    .dataframe thead th {\n",
       "        text-align: right;\n",
       "    }\n",
       "</style>\n",
       "<table border=\"1\" class=\"dataframe\">\n",
       "  <thead>\n",
       "    <tr style=\"text-align: right;\">\n",
       "      <th></th>\n",
       "      <th>DATE</th>\n",
       "      <th>CORESTICKM159SFRBATL</th>\n",
       "    </tr>\n",
       "  </thead>\n",
       "  <tbody>\n",
       "    <tr>\n",
       "      <th>0</th>\n",
       "      <td>1968-01-31</td>\n",
       "      <td>3.651861</td>\n",
       "    </tr>\n",
       "    <tr>\n",
       "      <th>1</th>\n",
       "      <td>1968-02-29</td>\n",
       "      <td>3.673819</td>\n",
       "    </tr>\n",
       "    <tr>\n",
       "      <th>2</th>\n",
       "      <td>1968-03-31</td>\n",
       "      <td>4.142164</td>\n",
       "    </tr>\n",
       "    <tr>\n",
       "      <th>3</th>\n",
       "      <td>1968-04-30</td>\n",
       "      <td>4.155828</td>\n",
       "    </tr>\n",
       "    <tr>\n",
       "      <th>4</th>\n",
       "      <td>1968-05-31</td>\n",
       "      <td>4.088245</td>\n",
       "    </tr>\n",
       "  </tbody>\n",
       "</table>\n",
       "</div>"
      ],
      "text/plain": [
       "        DATE  CORESTICKM159SFRBATL\n",
       "0 1968-01-31              3.651861\n",
       "1 1968-02-29              3.673819\n",
       "2 1968-03-31              4.142164\n",
       "3 1968-04-30              4.155828\n",
       "4 1968-05-31              4.088245"
      ]
     },
     "execution_count": 25,
     "metadata": {},
     "output_type": "execute_result"
    }
   ],
   "source": [
    "df_inflation.head()"
   ]
  },
  {
   "cell_type": "markdown",
   "id": "e072f4a1",
   "metadata": {},
   "source": [
    "## Data preprocessing: Upsample, downsample and interpolate data\n",
    "\n",
    "Inflation data is presented monthly in this dataset. However, for some models, you may need it at a quarterly frequency, and for some models you may need it at a quarterly frequency. \n",
    "\n",
    "In this step:\n",
    "* Create a new quarterly inflation dataframe by downsampling the monthly inflation data to quarterly using the mean (e.g. for quarter 1 in a given year, use the average values from January, February, and March)\n",
    "* Create a new weekly inflation dataframe by upsampling the monthly inflation data. For this, you'll need to use `resample` and then you'll need to `interpolate` to fill in the missing data at the weekly frequency\n",
    "\n",
    "Note that you may need to change the index for some of these operations! "
   ]
  },
  {
   "cell_type": "code",
   "execution_count": 26,
   "id": "69e6f7ae-9152-49d1-9299-25bf0b1d9cbf",
   "metadata": {},
   "outputs": [],
   "source": [
    "# Upsample and interpolate from monthly to weekly \n",
    "df_inflation_weekly = func_lib.upsample_monthly_to_weekly(df_inflation, 'DATE')"
   ]
  },
  {
   "cell_type": "code",
   "execution_count": 27,
   "id": "3c276ff5-7252-4ad9-aa38-05ba1cfac9d5",
   "metadata": {},
   "outputs": [
    {
     "data": {
      "text/html": [
       "<div>\n",
       "<style scoped>\n",
       "    .dataframe tbody tr th:only-of-type {\n",
       "        vertical-align: middle;\n",
       "    }\n",
       "\n",
       "    .dataframe tbody tr th {\n",
       "        vertical-align: top;\n",
       "    }\n",
       "\n",
       "    .dataframe thead th {\n",
       "        text-align: right;\n",
       "    }\n",
       "</style>\n",
       "<table border=\"1\" class=\"dataframe\">\n",
       "  <thead>\n",
       "    <tr style=\"text-align: right;\">\n",
       "      <th></th>\n",
       "      <th>CORESTICKM159SFRBATL</th>\n",
       "    </tr>\n",
       "    <tr>\n",
       "      <th>DATE</th>\n",
       "      <th></th>\n",
       "    </tr>\n",
       "  </thead>\n",
       "  <tbody>\n",
       "    <tr>\n",
       "      <th>1968-02-04</th>\n",
       "      <td>NaN</td>\n",
       "    </tr>\n",
       "    <tr>\n",
       "      <th>1968-02-11</th>\n",
       "      <td>NaN</td>\n",
       "    </tr>\n",
       "    <tr>\n",
       "      <th>1968-02-18</th>\n",
       "      <td>NaN</td>\n",
       "    </tr>\n",
       "    <tr>\n",
       "      <th>1968-02-25</th>\n",
       "      <td>NaN</td>\n",
       "    </tr>\n",
       "    <tr>\n",
       "      <th>1968-03-03</th>\n",
       "      <td>NaN</td>\n",
       "    </tr>\n",
       "    <tr>\n",
       "      <th>1968-03-10</th>\n",
       "      <td>NaN</td>\n",
       "    </tr>\n",
       "    <tr>\n",
       "      <th>1968-03-17</th>\n",
       "      <td>NaN</td>\n",
       "    </tr>\n",
       "    <tr>\n",
       "      <th>1968-03-24</th>\n",
       "      <td>NaN</td>\n",
       "    </tr>\n",
       "    <tr>\n",
       "      <th>1968-03-31</th>\n",
       "      <td>4.142164</td>\n",
       "    </tr>\n",
       "    <tr>\n",
       "      <th>1968-04-07</th>\n",
       "      <td>4.173195</td>\n",
       "    </tr>\n",
       "    <tr>\n",
       "      <th>1968-04-14</th>\n",
       "      <td>4.204226</td>\n",
       "    </tr>\n",
       "    <tr>\n",
       "      <th>1968-04-21</th>\n",
       "      <td>4.235258</td>\n",
       "    </tr>\n",
       "    <tr>\n",
       "      <th>1968-04-28</th>\n",
       "      <td>4.266289</td>\n",
       "    </tr>\n",
       "    <tr>\n",
       "      <th>1968-05-05</th>\n",
       "      <td>4.297320</td>\n",
       "    </tr>\n",
       "    <tr>\n",
       "      <th>1968-05-12</th>\n",
       "      <td>4.328351</td>\n",
       "    </tr>\n",
       "    <tr>\n",
       "      <th>1968-05-19</th>\n",
       "      <td>4.359382</td>\n",
       "    </tr>\n",
       "    <tr>\n",
       "      <th>1968-05-26</th>\n",
       "      <td>4.390413</td>\n",
       "    </tr>\n",
       "    <tr>\n",
       "      <th>1968-06-02</th>\n",
       "      <td>4.421445</td>\n",
       "    </tr>\n",
       "    <tr>\n",
       "      <th>1968-06-09</th>\n",
       "      <td>4.452476</td>\n",
       "    </tr>\n",
       "    <tr>\n",
       "      <th>1968-06-16</th>\n",
       "      <td>4.483507</td>\n",
       "    </tr>\n",
       "  </tbody>\n",
       "</table>\n",
       "</div>"
      ],
      "text/plain": [
       "            CORESTICKM159SFRBATL\n",
       "DATE                            \n",
       "1968-02-04                   NaN\n",
       "1968-02-11                   NaN\n",
       "1968-02-18                   NaN\n",
       "1968-02-25                   NaN\n",
       "1968-03-03                   NaN\n",
       "1968-03-10                   NaN\n",
       "1968-03-17                   NaN\n",
       "1968-03-24                   NaN\n",
       "1968-03-31              4.142164\n",
       "1968-04-07              4.173195\n",
       "1968-04-14              4.204226\n",
       "1968-04-21              4.235258\n",
       "1968-04-28              4.266289\n",
       "1968-05-05              4.297320\n",
       "1968-05-12              4.328351\n",
       "1968-05-19              4.359382\n",
       "1968-05-26              4.390413\n",
       "1968-06-02              4.421445\n",
       "1968-06-09              4.452476\n",
       "1968-06-16              4.483507"
      ]
     },
     "execution_count": 27,
     "metadata": {},
     "output_type": "execute_result"
    }
   ],
   "source": [
    "df_inflation_weekly.head(n = 20)"
   ]
  },
  {
   "cell_type": "code",
   "execution_count": 28,
   "id": "635647a1",
   "metadata": {},
   "outputs": [],
   "source": [
    "# Downsample from monthly to quarterly "
   ]
  },
  {
   "cell_type": "code",
   "execution_count": 29,
   "id": "3d7f8329-2186-4c01-900b-08a9469485ef",
   "metadata": {},
   "outputs": [],
   "source": [
    "df_inflation_quarterly = func_lib.downsample_monthly_to_quarterly(df_inflation, 'DATE')"
   ]
  },
  {
   "cell_type": "code",
   "execution_count": 30,
   "id": "b16897bd-77ea-41a1-a8b1-e2725c8c4b2d",
   "metadata": {},
   "outputs": [
    {
     "data": {
      "text/html": [
       "<div>\n",
       "<style scoped>\n",
       "    .dataframe tbody tr th:only-of-type {\n",
       "        vertical-align: middle;\n",
       "    }\n",
       "\n",
       "    .dataframe tbody tr th {\n",
       "        vertical-align: top;\n",
       "    }\n",
       "\n",
       "    .dataframe thead th {\n",
       "        text-align: right;\n",
       "    }\n",
       "</style>\n",
       "<table border=\"1\" class=\"dataframe\">\n",
       "  <thead>\n",
       "    <tr style=\"text-align: right;\">\n",
       "      <th></th>\n",
       "      <th>CORESTICKM159SFRBATL</th>\n",
       "    </tr>\n",
       "    <tr>\n",
       "      <th>DATE</th>\n",
       "      <th></th>\n",
       "    </tr>\n",
       "  </thead>\n",
       "  <tbody>\n",
       "    <tr>\n",
       "      <th>1968-03-31</th>\n",
       "      <td>3.822615</td>\n",
       "    </tr>\n",
       "    <tr>\n",
       "      <th>1968-06-30</th>\n",
       "      <td>4.263214</td>\n",
       "    </tr>\n",
       "    <tr>\n",
       "      <th>1968-09-30</th>\n",
       "      <td>4.882643</td>\n",
       "    </tr>\n",
       "    <tr>\n",
       "      <th>1968-12-31</th>\n",
       "      <td>5.429443</td>\n",
       "    </tr>\n",
       "    <tr>\n",
       "      <th>1969-03-31</th>\n",
       "      <td>5.873770</td>\n",
       "    </tr>\n",
       "  </tbody>\n",
       "</table>\n",
       "</div>"
      ],
      "text/plain": [
       "            CORESTICKM159SFRBATL\n",
       "DATE                            \n",
       "1968-03-31              3.822615\n",
       "1968-06-30              4.263214\n",
       "1968-09-30              4.882643\n",
       "1968-12-31              5.429443\n",
       "1969-03-31              5.873770"
      ]
     },
     "execution_count": 30,
     "metadata": {},
     "output_type": "execute_result"
    }
   ],
   "source": [
    "df_inflation_quarterly.head()"
   ]
  },
  {
   "cell_type": "markdown",
   "id": "0ea82443",
   "metadata": {},
   "source": [
    "## Data preprocessing: Normalize/standardize a feature\n",
    "\n",
    "Economic time series data often involve variables measured on different scales (e.g., GDP in trillions of dollars, inflation in percentage points). Standardizing these variables (typically by subtracting the mean and dividing by the standard deviation) puts them on a common scale, allowing for meaningful comparisons and analyses.\n",
    "\n",
    "Your task:\n",
    "* Standardize the GDP data. You may do this manually by subtracting the mean and dividing by the standard deviation, or you may use a built-in method from a library like `sklearn`'s `StandardScaler`"
   ]
  },
  {
   "cell_type": "code",
   "execution_count": 31,
   "id": "4f88d246",
   "metadata": {},
   "outputs": [],
   "source": [
    "# Standardize the GDP measure\n",
    "scaler = StandardScaler()\n",
    "df_gdp['GDP'] = scaler.fit_transform(df_gdp[['GDP']])"
   ]
  },
  {
   "cell_type": "code",
   "execution_count": 32,
   "id": "e4801c53",
   "metadata": {},
   "outputs": [
    {
     "data": {
      "text/html": [
       "<div>\n",
       "<style scoped>\n",
       "    .dataframe tbody tr th:only-of-type {\n",
       "        vertical-align: middle;\n",
       "    }\n",
       "\n",
       "    .dataframe tbody tr th {\n",
       "        vertical-align: top;\n",
       "    }\n",
       "\n",
       "    .dataframe thead th {\n",
       "        text-align: right;\n",
       "    }\n",
       "</style>\n",
       "<table border=\"1\" class=\"dataframe\">\n",
       "  <thead>\n",
       "    <tr style=\"text-align: right;\">\n",
       "      <th></th>\n",
       "      <th>GDP</th>\n",
       "    </tr>\n",
       "  </thead>\n",
       "  <tbody>\n",
       "    <tr>\n",
       "      <th>count</th>\n",
       "      <td>3.090000e+02</td>\n",
       "    </tr>\n",
       "    <tr>\n",
       "      <th>mean</th>\n",
       "      <td>-1.839593e-16</td>\n",
       "    </tr>\n",
       "    <tr>\n",
       "      <th>std</th>\n",
       "      <td>1.001622e+00</td>\n",
       "    </tr>\n",
       "    <tr>\n",
       "      <th>min</th>\n",
       "      <td>-9.354964e-01</td>\n",
       "    </tr>\n",
       "    <tr>\n",
       "      <th>25%</th>\n",
       "      <td>-8.602482e-01</td>\n",
       "    </tr>\n",
       "    <tr>\n",
       "      <th>50%</th>\n",
       "      <td>-3.805131e-01</td>\n",
       "    </tr>\n",
       "    <tr>\n",
       "      <th>75%</th>\n",
       "      <td>7.097946e-01</td>\n",
       "    </tr>\n",
       "    <tr>\n",
       "      <th>max</th>\n",
       "      <td>2.820281e+00</td>\n",
       "    </tr>\n",
       "  </tbody>\n",
       "</table>\n",
       "</div>"
      ],
      "text/plain": [
       "                GDP\n",
       "count  3.090000e+02\n",
       "mean  -1.839593e-16\n",
       "std    1.001622e+00\n",
       "min   -9.354964e-01\n",
       "25%   -8.602482e-01\n",
       "50%   -3.805131e-01\n",
       "75%    7.097946e-01\n",
       "max    2.820281e+00"
      ]
     },
     "execution_count": 32,
     "metadata": {},
     "output_type": "execute_result"
    }
   ],
   "source": [
    "# Check the dataframe to make sure the calculation worked as expected \n",
    "df_gdp.describe()"
   ]
  },
  {
   "cell_type": "markdown",
   "id": "1f1a89d2",
   "metadata": {},
   "source": [
    "## EDA: Plotting a time series of adjusted open vs close price\n",
    "\n",
    "As part of your EDA, you'll frequently want to plot two time series on the same graph and using the same axis to compare their movements. \n",
    "\n",
    "Your task:\n",
    "* Plot the Apple open and close price time series on the same chart **for the last three months only**. Be sure to use a legend to label each line\n",
    "\n",
    "**NOTE**: This is a large dataset. If you try to plot the entire series, your graph will be hard to interpret and may take a long time to plot. Be sure to use only the most recent three months of data. "
   ]
  },
  {
   "cell_type": "code",
   "execution_count": 33,
   "id": "51e7ad90-f8f8-4346-bc26-eb582141a903",
   "metadata": {},
   "outputs": [
    {
     "data": {
      "text/html": [
       "<div>\n",
       "<style scoped>\n",
       "    .dataframe tbody tr th:only-of-type {\n",
       "        vertical-align: middle;\n",
       "    }\n",
       "\n",
       "    .dataframe tbody tr th {\n",
       "        vertical-align: top;\n",
       "    }\n",
       "\n",
       "    .dataframe thead th {\n",
       "        text-align: right;\n",
       "    }\n",
       "</style>\n",
       "<table border=\"1\" class=\"dataframe\">\n",
       "  <thead>\n",
       "    <tr style=\"text-align: right;\">\n",
       "      <th></th>\n",
       "      <th>DATE</th>\n",
       "      <th>CLOSE/LAST</th>\n",
       "      <th>VOLUME</th>\n",
       "      <th>OPEN</th>\n",
       "      <th>HIGH</th>\n",
       "      <th>LOW</th>\n",
       "    </tr>\n",
       "  </thead>\n",
       "  <tbody>\n",
       "    <tr>\n",
       "      <th>0</th>\n",
       "      <td>2024-05-03</td>\n",
       "      <td>183.38</td>\n",
       "      <td>163224100</td>\n",
       "      <td>186.65</td>\n",
       "      <td>187.00</td>\n",
       "      <td>182.66</td>\n",
       "    </tr>\n",
       "    <tr>\n",
       "      <th>1</th>\n",
       "      <td>2024-05-02</td>\n",
       "      <td>173.03</td>\n",
       "      <td>94214920</td>\n",
       "      <td>172.51</td>\n",
       "      <td>173.42</td>\n",
       "      <td>170.89</td>\n",
       "    </tr>\n",
       "    <tr>\n",
       "      <th>2</th>\n",
       "      <td>2024-05-01</td>\n",
       "      <td>169.30</td>\n",
       "      <td>50383150</td>\n",
       "      <td>169.58</td>\n",
       "      <td>172.71</td>\n",
       "      <td>169.11</td>\n",
       "    </tr>\n",
       "    <tr>\n",
       "      <th>3</th>\n",
       "      <td>2024-04-30</td>\n",
       "      <td>170.33</td>\n",
       "      <td>65934780</td>\n",
       "      <td>173.33</td>\n",
       "      <td>174.99</td>\n",
       "      <td>170.00</td>\n",
       "    </tr>\n",
       "    <tr>\n",
       "      <th>4</th>\n",
       "      <td>2024-04-29</td>\n",
       "      <td>173.50</td>\n",
       "      <td>68169420</td>\n",
       "      <td>173.37</td>\n",
       "      <td>176.03</td>\n",
       "      <td>173.10</td>\n",
       "    </tr>\n",
       "  </tbody>\n",
       "</table>\n",
       "</div>"
      ],
      "text/plain": [
       "        DATE  CLOSE/LAST     VOLUME    OPEN    HIGH     LOW\n",
       "0 2024-05-03      183.38  163224100  186.65  187.00  182.66\n",
       "1 2024-05-02      173.03   94214920  172.51  173.42  170.89\n",
       "2 2024-05-01      169.30   50383150  169.58  172.71  169.11\n",
       "3 2024-04-30      170.33   65934780  173.33  174.99  170.00\n",
       "4 2024-04-29      173.50   68169420  173.37  176.03  173.10"
      ]
     },
     "execution_count": 33,
     "metadata": {},
     "output_type": "execute_result"
    }
   ],
   "source": [
    "df_apple.head()"
   ]
  },
  {
   "cell_type": "code",
   "execution_count": 34,
   "id": "9b490f9b",
   "metadata": {},
   "outputs": [
    {
     "data": {
      "text/plain": [
       "Timestamp('2024-05-03 00:00:00')"
      ]
     },
     "execution_count": 34,
     "metadata": {},
     "output_type": "execute_result"
    }
   ],
   "source": [
    "# Get max date in timeseries\n",
    "max_date = df_apple['DATE'].max()\n",
    "max_date"
   ]
  },
  {
   "cell_type": "code",
   "execution_count": 35,
   "id": "03b51a20",
   "metadata": {},
   "outputs": [],
   "source": [
    "# Use the max date calculated above to get the last three months of data in the dataset "
   ]
  },
  {
   "cell_type": "code",
   "execution_count": 36,
   "id": "5669a943-82ad-4b99-9cdf-cb3be7a6e540",
   "metadata": {},
   "outputs": [],
   "source": [
    "df_apple_last_3_months = func_lib.get_last_x_months_of_data_by_column(df_apple, date_col='DATE', last_x_months=3)"
   ]
  },
  {
   "cell_type": "code",
   "execution_count": 37,
   "id": "742d55b4-e284-4564-b28e-7b104047fcf0",
   "metadata": {},
   "outputs": [
    {
     "data": {
      "text/html": [
       "<div>\n",
       "<style scoped>\n",
       "    .dataframe tbody tr th:only-of-type {\n",
       "        vertical-align: middle;\n",
       "    }\n",
       "\n",
       "    .dataframe tbody tr th {\n",
       "        vertical-align: top;\n",
       "    }\n",
       "\n",
       "    .dataframe thead th {\n",
       "        text-align: right;\n",
       "    }\n",
       "</style>\n",
       "<table border=\"1\" class=\"dataframe\">\n",
       "  <thead>\n",
       "    <tr style=\"text-align: right;\">\n",
       "      <th></th>\n",
       "      <th>DATE</th>\n",
       "      <th>CLOSE/LAST</th>\n",
       "      <th>VOLUME</th>\n",
       "      <th>OPEN</th>\n",
       "      <th>HIGH</th>\n",
       "      <th>LOW</th>\n",
       "    </tr>\n",
       "  </thead>\n",
       "  <tbody>\n",
       "    <tr>\n",
       "      <th>0</th>\n",
       "      <td>2024-05-03</td>\n",
       "      <td>183.38</td>\n",
       "      <td>163224100</td>\n",
       "      <td>186.65</td>\n",
       "      <td>187.00</td>\n",
       "      <td>182.66</td>\n",
       "    </tr>\n",
       "    <tr>\n",
       "      <th>1</th>\n",
       "      <td>2024-05-02</td>\n",
       "      <td>173.03</td>\n",
       "      <td>94214920</td>\n",
       "      <td>172.51</td>\n",
       "      <td>173.42</td>\n",
       "      <td>170.89</td>\n",
       "    </tr>\n",
       "    <tr>\n",
       "      <th>2</th>\n",
       "      <td>2024-05-01</td>\n",
       "      <td>169.30</td>\n",
       "      <td>50383150</td>\n",
       "      <td>169.58</td>\n",
       "      <td>172.71</td>\n",
       "      <td>169.11</td>\n",
       "    </tr>\n",
       "    <tr>\n",
       "      <th>3</th>\n",
       "      <td>2024-04-30</td>\n",
       "      <td>170.33</td>\n",
       "      <td>65934780</td>\n",
       "      <td>173.33</td>\n",
       "      <td>174.99</td>\n",
       "      <td>170.00</td>\n",
       "    </tr>\n",
       "    <tr>\n",
       "      <th>4</th>\n",
       "      <td>2024-04-29</td>\n",
       "      <td>173.50</td>\n",
       "      <td>68169420</td>\n",
       "      <td>173.37</td>\n",
       "      <td>176.03</td>\n",
       "      <td>173.10</td>\n",
       "    </tr>\n",
       "    <tr>\n",
       "      <th>...</th>\n",
       "      <td>...</td>\n",
       "      <td>...</td>\n",
       "      <td>...</td>\n",
       "      <td>...</td>\n",
       "      <td>...</td>\n",
       "      <td>...</td>\n",
       "    </tr>\n",
       "    <tr>\n",
       "      <th>58</th>\n",
       "      <td>2024-02-09</td>\n",
       "      <td>188.85</td>\n",
       "      <td>45155220</td>\n",
       "      <td>188.65</td>\n",
       "      <td>189.99</td>\n",
       "      <td>188.00</td>\n",
       "    </tr>\n",
       "    <tr>\n",
       "      <th>59</th>\n",
       "      <td>2024-02-08</td>\n",
       "      <td>188.32</td>\n",
       "      <td>40962050</td>\n",
       "      <td>189.39</td>\n",
       "      <td>189.54</td>\n",
       "      <td>187.35</td>\n",
       "    </tr>\n",
       "    <tr>\n",
       "      <th>60</th>\n",
       "      <td>2024-02-07</td>\n",
       "      <td>189.41</td>\n",
       "      <td>53438960</td>\n",
       "      <td>190.64</td>\n",
       "      <td>191.05</td>\n",
       "      <td>188.61</td>\n",
       "    </tr>\n",
       "    <tr>\n",
       "      <th>61</th>\n",
       "      <td>2024-02-06</td>\n",
       "      <td>189.30</td>\n",
       "      <td>43490760</td>\n",
       "      <td>186.86</td>\n",
       "      <td>189.31</td>\n",
       "      <td>186.77</td>\n",
       "    </tr>\n",
       "    <tr>\n",
       "      <th>62</th>\n",
       "      <td>2024-02-05</td>\n",
       "      <td>187.68</td>\n",
       "      <td>69668820</td>\n",
       "      <td>188.15</td>\n",
       "      <td>189.25</td>\n",
       "      <td>185.84</td>\n",
       "    </tr>\n",
       "  </tbody>\n",
       "</table>\n",
       "<p>63 rows × 6 columns</p>\n",
       "</div>"
      ],
      "text/plain": [
       "         DATE  CLOSE/LAST     VOLUME    OPEN    HIGH     LOW\n",
       "0  2024-05-03      183.38  163224100  186.65  187.00  182.66\n",
       "1  2024-05-02      173.03   94214920  172.51  173.42  170.89\n",
       "2  2024-05-01      169.30   50383150  169.58  172.71  169.11\n",
       "3  2024-04-30      170.33   65934780  173.33  174.99  170.00\n",
       "4  2024-04-29      173.50   68169420  173.37  176.03  173.10\n",
       "..        ...         ...        ...     ...     ...     ...\n",
       "58 2024-02-09      188.85   45155220  188.65  189.99  188.00\n",
       "59 2024-02-08      188.32   40962050  189.39  189.54  187.35\n",
       "60 2024-02-07      189.41   53438960  190.64  191.05  188.61\n",
       "61 2024-02-06      189.30   43490760  186.86  189.31  186.77\n",
       "62 2024-02-05      187.68   69668820  188.15  189.25  185.84\n",
       "\n",
       "[63 rows x 6 columns]"
      ]
     },
     "execution_count": 37,
     "metadata": {},
     "output_type": "execute_result"
    }
   ],
   "source": [
    "df_apple_last_3_months"
   ]
  },
  {
   "cell_type": "code",
   "execution_count": 38,
   "id": "039404e1",
   "metadata": {},
   "outputs": [
    {
     "data": {
      "image/png": "[encoded data removed]",
      "text/plain": [
       "<Figure size 1200x600 with 1 Axes>"
      ]
     },
     "metadata": {},
     "output_type": "display_data"
    }
   ],
   "source": [
    "# Plot time series of open v. close stock price for Apple using the last 3 months of data\n",
    "func_lib.plot_line_open_vs_close(df_apple_last_3_months, \"Apple\")"
   ]
  },
  {
   "cell_type": "markdown",
   "id": "bc0070c6",
   "metadata": {},
   "source": [
    "## EDA: Plotting a histogram of a stock's closing price in the last three months\n",
    "\n",
    "One way to see how much a stock's price generally moves is to plot the frequency of closing prices over a set time period. \n",
    "\n",
    "Your task:\n",
    "* Use the **last three months** of Apple stock data and plot a histogram of closing price"
   ]
  },
  {
   "cell_type": "code",
   "execution_count": 39,
   "id": "b48760fd",
   "metadata": {},
   "outputs": [
    {
     "data": {
      "image/png": "[encoded data removed]",
      "text/plain": [
       "<Figure size 1000x600 with 1 Axes>"
      ]
     },
     "metadata": {},
     "output_type": "display_data"
    }
   ],
   "source": [
    "# Plot the histogram of Apple's closing price over the last 3 months \n",
    "func_lib.plot_histogram_close(df_apple_last_3_months, \"Apple\")"
   ]
  },
  {
   "cell_type": "markdown",
   "id": "01e1b22c",
   "metadata": {},
   "source": [
    "## Calculating correlation between a stock price and a macroeconomic variable \n",
    "\n",
    "Inflation affects the purchasing power of money and can influence corporate profits, interest rates, and consumer behavior. By analyzing the correlation between stock prices and inflation, one can gauge how inflationary trends impact stock market performance. For instance, high inflation might erode profit margins and reduce stock prices, while moderate inflation might indicate a growing economy, benefiting stocks.\n",
    "\n",
    "Your task:\n",
    "* Plot a heatmap that shows the correlation between Microsoft and Apple returns and inflation \n",
    "\n",
    "This will require several steps:\n",
    "1. Calculate the returns for Apple and Microsoft and the change in monthly inflation (use the `pct_change` method for each)\n",
    "2. Interpolate the daily stock returns data to monthly so it can be compared to the monthly inflation data\n",
    "3. Merge the stock returns (Apple and Microsoft) and inflation data series into a single dataframe\n",
    "4. Calculate the correlation matrix between the Apple returns, Microsoft returns, and inflation change\n",
    "5. Plot the correlation matrix as a heatmap"
   ]
  },
  {
   "cell_type": "markdown",
   "id": "c38842ed",
   "metadata": {},
   "source": [
    "### 1. Calculate returns for Microsoft / Apple and the monthly change in inflation"
   ]
  },
  {
   "cell_type": "code",
   "execution_count": 40,
   "id": "a112dc12",
   "metadata": {},
   "outputs": [],
   "source": [
    "# Calculate daily returns for Apple and Microsoft and the percent change in inflation from month to month"
   ]
  },
  {
   "cell_type": "code",
   "execution_count": 41,
   "id": "819a6815-842a-4a5d-89ea-243151b2571b",
   "metadata": {},
   "outputs": [],
   "source": [
    "func_lib.set_index_and_sort_by_index(df_apple, 'DATE')\n",
    "func_lib.set_index_and_sort_by_index(df_microsoft, 'DATE')"
   ]
  },
  {
   "cell_type": "code",
   "execution_count": 42,
   "id": "6e3345f8-a452-45b3-80be-6a075cdb81df",
   "metadata": {},
   "outputs": [],
   "source": [
    "func_lib.calculate_percent_change(df_apple)\n",
    "func_lib.calculate_percent_change(df_microsoft)"
   ]
  },
  {
   "cell_type": "code",
   "execution_count": 43,
   "id": "e6f1a864-d5cd-43c9-a0dc-40d54b200277",
   "metadata": {},
   "outputs": [
    {
     "data": {
      "text/html": [
       "<div>\n",
       "<style scoped>\n",
       "    .dataframe tbody tr th:only-of-type {\n",
       "        vertical-align: middle;\n",
       "    }\n",
       "\n",
       "    .dataframe tbody tr th {\n",
       "        vertical-align: top;\n",
       "    }\n",
       "\n",
       "    .dataframe thead th {\n",
       "        text-align: right;\n",
       "    }\n",
       "</style>\n",
       "<table border=\"1\" class=\"dataframe\">\n",
       "  <thead>\n",
       "    <tr style=\"text-align: right;\">\n",
       "      <th></th>\n",
       "      <th>CLOSE/LAST</th>\n",
       "      <th>VOLUME</th>\n",
       "      <th>OPEN</th>\n",
       "      <th>HIGH</th>\n",
       "      <th>LOW</th>\n",
       "      <th>1_DAY_RETURN</th>\n",
       "    </tr>\n",
       "    <tr>\n",
       "      <th>DATE</th>\n",
       "      <th></th>\n",
       "      <th></th>\n",
       "      <th></th>\n",
       "      <th></th>\n",
       "      <th></th>\n",
       "      <th></th>\n",
       "    </tr>\n",
       "  </thead>\n",
       "  <tbody>\n",
       "    <tr>\n",
       "      <th>2014-05-06</th>\n",
       "      <td>21.23</td>\n",
       "      <td>373872650</td>\n",
       "      <td>21.49</td>\n",
       "      <td>21.59</td>\n",
       "      <td>21.23</td>\n",
       "      <td>NaN</td>\n",
       "    </tr>\n",
       "    <tr>\n",
       "      <th>2014-05-07</th>\n",
       "      <td>21.15</td>\n",
       "      <td>282128727</td>\n",
       "      <td>21.26</td>\n",
       "      <td>21.33</td>\n",
       "      <td>20.99</td>\n",
       "      <td>-0.003768</td>\n",
       "    </tr>\n",
       "    <tr>\n",
       "      <th>2014-05-08</th>\n",
       "      <td>21.00</td>\n",
       "      <td>228973884</td>\n",
       "      <td>21.01</td>\n",
       "      <td>21.23</td>\n",
       "      <td>20.94</td>\n",
       "      <td>-0.007092</td>\n",
       "    </tr>\n",
       "    <tr>\n",
       "      <th>2014-05-09</th>\n",
       "      <td>20.91</td>\n",
       "      <td>291068564</td>\n",
       "      <td>20.88</td>\n",
       "      <td>20.94</td>\n",
       "      <td>20.73</td>\n",
       "      <td>-0.004286</td>\n",
       "    </tr>\n",
       "    <tr>\n",
       "      <th>2014-05-12</th>\n",
       "      <td>21.17</td>\n",
       "      <td>212736019</td>\n",
       "      <td>20.98</td>\n",
       "      <td>21.20</td>\n",
       "      <td>20.98</td>\n",
       "      <td>0.012434</td>\n",
       "    </tr>\n",
       "  </tbody>\n",
       "</table>\n",
       "</div>"
      ],
      "text/plain": [
       "            CLOSE/LAST     VOLUME   OPEN   HIGH    LOW  1_DAY_RETURN\n",
       "DATE                                                                \n",
       "2014-05-06       21.23  373872650  21.49  21.59  21.23           NaN\n",
       "2014-05-07       21.15  282128727  21.26  21.33  20.99     -0.003768\n",
       "2014-05-08       21.00  228973884  21.01  21.23  20.94     -0.007092\n",
       "2014-05-09       20.91  291068564  20.88  20.94  20.73     -0.004286\n",
       "2014-05-12       21.17  212736019  20.98  21.20  20.98      0.012434"
      ]
     },
     "execution_count": 43,
     "metadata": {},
     "output_type": "execute_result"
    }
   ],
   "source": [
    "df_apple.head()"
   ]
  },
  {
   "cell_type": "code",
   "execution_count": 44,
   "id": "e5111466-0bd2-43e7-b158-818123975d8c",
   "metadata": {},
   "outputs": [
    {
     "data": {
      "text/html": [
       "<div>\n",
       "<style scoped>\n",
       "    .dataframe tbody tr th:only-of-type {\n",
       "        vertical-align: middle;\n",
       "    }\n",
       "\n",
       "    .dataframe tbody tr th {\n",
       "        vertical-align: top;\n",
       "    }\n",
       "\n",
       "    .dataframe thead th {\n",
       "        text-align: right;\n",
       "    }\n",
       "</style>\n",
       "<table border=\"1\" class=\"dataframe\">\n",
       "  <thead>\n",
       "    <tr style=\"text-align: right;\">\n",
       "      <th></th>\n",
       "      <th>CLOSE/LAST</th>\n",
       "      <th>VOLUME</th>\n",
       "      <th>OPEN</th>\n",
       "      <th>HIGH</th>\n",
       "      <th>LOW</th>\n",
       "      <th>1_DAY_RETURN</th>\n",
       "    </tr>\n",
       "    <tr>\n",
       "      <th>DATE</th>\n",
       "      <th></th>\n",
       "      <th></th>\n",
       "      <th></th>\n",
       "      <th></th>\n",
       "      <th></th>\n",
       "      <th></th>\n",
       "    </tr>\n",
       "  </thead>\n",
       "  <tbody>\n",
       "    <tr>\n",
       "      <th>2014-05-06</th>\n",
       "      <td>39.060</td>\n",
       "      <td>27105700</td>\n",
       "      <td>39.29</td>\n",
       "      <td>39.35</td>\n",
       "      <td>38.95</td>\n",
       "      <td>NaN</td>\n",
       "    </tr>\n",
       "    <tr>\n",
       "      <th>2014-05-07</th>\n",
       "      <td>39.425</td>\n",
       "      <td>41731030</td>\n",
       "      <td>39.22</td>\n",
       "      <td>39.51</td>\n",
       "      <td>38.51</td>\n",
       "      <td>0.009345</td>\n",
       "    </tr>\n",
       "    <tr>\n",
       "      <th>2014-05-08</th>\n",
       "      <td>39.640</td>\n",
       "      <td>32089010</td>\n",
       "      <td>39.34</td>\n",
       "      <td>39.90</td>\n",
       "      <td>38.97</td>\n",
       "      <td>0.005453</td>\n",
       "    </tr>\n",
       "    <tr>\n",
       "      <th>2014-05-09</th>\n",
       "      <td>39.540</td>\n",
       "      <td>29646100</td>\n",
       "      <td>39.54</td>\n",
       "      <td>39.85</td>\n",
       "      <td>39.37</td>\n",
       "      <td>-0.002523</td>\n",
       "    </tr>\n",
       "    <tr>\n",
       "      <th>2014-05-12</th>\n",
       "      <td>39.970</td>\n",
       "      <td>22761620</td>\n",
       "      <td>39.74</td>\n",
       "      <td>40.02</td>\n",
       "      <td>39.65</td>\n",
       "      <td>0.010875</td>\n",
       "    </tr>\n",
       "  </tbody>\n",
       "</table>\n",
       "</div>"
      ],
      "text/plain": [
       "            CLOSE/LAST    VOLUME   OPEN   HIGH    LOW  1_DAY_RETURN\n",
       "DATE                                                               \n",
       "2014-05-06      39.060  27105700  39.29  39.35  38.95           NaN\n",
       "2014-05-07      39.425  41731030  39.22  39.51  38.51      0.009345\n",
       "2014-05-08      39.640  32089010  39.34  39.90  38.97      0.005453\n",
       "2014-05-09      39.540  29646100  39.54  39.85  39.37     -0.002523\n",
       "2014-05-12      39.970  22761620  39.74  40.02  39.65      0.010875"
      ]
     },
     "execution_count": 44,
     "metadata": {},
     "output_type": "execute_result"
    }
   ],
   "source": [
    "df_microsoft.head()"
   ]
  },
  {
   "cell_type": "code",
   "execution_count": 45,
   "id": "ae1d9f3c-2063-4920-bb69-04f2a3224cd4",
   "metadata": {},
   "outputs": [
    {
     "data": {
      "text/html": [
       "<div>\n",
       "<style scoped>\n",
       "    .dataframe tbody tr th:only-of-type {\n",
       "        vertical-align: middle;\n",
       "    }\n",
       "\n",
       "    .dataframe tbody tr th {\n",
       "        vertical-align: top;\n",
       "    }\n",
       "\n",
       "    .dataframe thead th {\n",
       "        text-align: right;\n",
       "    }\n",
       "</style>\n",
       "<table border=\"1\" class=\"dataframe\">\n",
       "  <thead>\n",
       "    <tr style=\"text-align: right;\">\n",
       "      <th></th>\n",
       "      <th>DATE</th>\n",
       "      <th>CORESTICKM159SFRBATL</th>\n",
       "      <th>INFLATION_CHANGE</th>\n",
       "    </tr>\n",
       "  </thead>\n",
       "  <tbody>\n",
       "    <tr>\n",
       "      <th>0</th>\n",
       "      <td>1968-01-31</td>\n",
       "      <td>3.651861</td>\n",
       "      <td>NaN</td>\n",
       "    </tr>\n",
       "    <tr>\n",
       "      <th>1</th>\n",
       "      <td>1968-02-29</td>\n",
       "      <td>3.673819</td>\n",
       "      <td>0.006013</td>\n",
       "    </tr>\n",
       "    <tr>\n",
       "      <th>2</th>\n",
       "      <td>1968-03-31</td>\n",
       "      <td>4.142164</td>\n",
       "      <td>0.127482</td>\n",
       "    </tr>\n",
       "    <tr>\n",
       "      <th>3</th>\n",
       "      <td>1968-04-30</td>\n",
       "      <td>4.155828</td>\n",
       "      <td>0.003299</td>\n",
       "    </tr>\n",
       "    <tr>\n",
       "      <th>4</th>\n",
       "      <td>1968-05-31</td>\n",
       "      <td>4.088245</td>\n",
       "      <td>-0.016262</td>\n",
       "    </tr>\n",
       "  </tbody>\n",
       "</table>\n",
       "</div>"
      ],
      "text/plain": [
       "        DATE  CORESTICKM159SFRBATL  INFLATION_CHANGE\n",
       "0 1968-01-31              3.651861               NaN\n",
       "1 1968-02-29              3.673819          0.006013\n",
       "2 1968-03-31              4.142164          0.127482\n",
       "3 1968-04-30              4.155828          0.003299\n",
       "4 1968-05-31              4.088245         -0.016262"
      ]
     },
     "execution_count": 45,
     "metadata": {},
     "output_type": "execute_result"
    }
   ],
   "source": [
    "df_inflation['INFLATION_CHANGE'] = df_inflation['CORESTICKM159SFRBATL'].pct_change()\n",
    "df_inflation.head()"
   ]
  },
  {
   "cell_type": "markdown",
   "id": "c8aa1b91",
   "metadata": {},
   "source": [
    "### 2. Interpolate stock returns from daily to monthly"
   ]
  },
  {
   "cell_type": "code",
   "execution_count": 46,
   "id": "af58d291-ebdb-498d-b83d-bed3e38df0b7",
   "metadata": {},
   "outputs": [
    {
     "data": {
      "text/html": [
       "<div>\n",
       "<style scoped>\n",
       "    .dataframe tbody tr th:only-of-type {\n",
       "        vertical-align: middle;\n",
       "    }\n",
       "\n",
       "    .dataframe tbody tr th {\n",
       "        vertical-align: top;\n",
       "    }\n",
       "\n",
       "    .dataframe thead th {\n",
       "        text-align: right;\n",
       "    }\n",
       "</style>\n",
       "<table border=\"1\" class=\"dataframe\">\n",
       "  <thead>\n",
       "    <tr style=\"text-align: right;\">\n",
       "      <th></th>\n",
       "      <th>CLOSE/LAST</th>\n",
       "      <th>VOLUME</th>\n",
       "      <th>OPEN</th>\n",
       "      <th>HIGH</th>\n",
       "      <th>LOW</th>\n",
       "      <th>1_DAY_RETURN</th>\n",
       "    </tr>\n",
       "    <tr>\n",
       "      <th>DATE</th>\n",
       "      <th></th>\n",
       "      <th></th>\n",
       "      <th></th>\n",
       "      <th></th>\n",
       "      <th></th>\n",
       "      <th></th>\n",
       "    </tr>\n",
       "  </thead>\n",
       "  <tbody>\n",
       "    <tr>\n",
       "      <th>2014-05-06</th>\n",
       "      <td>21.23</td>\n",
       "      <td>373872650</td>\n",
       "      <td>21.49</td>\n",
       "      <td>21.59</td>\n",
       "      <td>21.23</td>\n",
       "      <td>NaN</td>\n",
       "    </tr>\n",
       "    <tr>\n",
       "      <th>2014-05-07</th>\n",
       "      <td>21.15</td>\n",
       "      <td>282128727</td>\n",
       "      <td>21.26</td>\n",
       "      <td>21.33</td>\n",
       "      <td>20.99</td>\n",
       "      <td>-0.003768</td>\n",
       "    </tr>\n",
       "    <tr>\n",
       "      <th>2014-05-08</th>\n",
       "      <td>21.00</td>\n",
       "      <td>228973884</td>\n",
       "      <td>21.01</td>\n",
       "      <td>21.23</td>\n",
       "      <td>20.94</td>\n",
       "      <td>-0.007092</td>\n",
       "    </tr>\n",
       "    <tr>\n",
       "      <th>2014-05-09</th>\n",
       "      <td>20.91</td>\n",
       "      <td>291068564</td>\n",
       "      <td>20.88</td>\n",
       "      <td>20.94</td>\n",
       "      <td>20.73</td>\n",
       "      <td>-0.004286</td>\n",
       "    </tr>\n",
       "    <tr>\n",
       "      <th>2014-05-12</th>\n",
       "      <td>21.17</td>\n",
       "      <td>212736019</td>\n",
       "      <td>20.98</td>\n",
       "      <td>21.20</td>\n",
       "      <td>20.98</td>\n",
       "      <td>0.012434</td>\n",
       "    </tr>\n",
       "  </tbody>\n",
       "</table>\n",
       "</div>"
      ],
      "text/plain": [
       "            CLOSE/LAST     VOLUME   OPEN   HIGH    LOW  1_DAY_RETURN\n",
       "DATE                                                                \n",
       "2014-05-06       21.23  373872650  21.49  21.59  21.23           NaN\n",
       "2014-05-07       21.15  282128727  21.26  21.33  20.99     -0.003768\n",
       "2014-05-08       21.00  228973884  21.01  21.23  20.94     -0.007092\n",
       "2014-05-09       20.91  291068564  20.88  20.94  20.73     -0.004286\n",
       "2014-05-12       21.17  212736019  20.98  21.20  20.98      0.012434"
      ]
     },
     "execution_count": 46,
     "metadata": {},
     "output_type": "execute_result"
    }
   ],
   "source": [
    "df_apple.head()"
   ]
  },
  {
   "cell_type": "code",
   "execution_count": 47,
   "id": "a2c56fa7-ba4c-4d85-a155-ad348e502933",
   "metadata": {},
   "outputs": [],
   "source": [
    "df_apple_monthly = func_lib.resample_returns_daily_to_monthly(df_apple)"
   ]
  },
  {
   "cell_type": "code",
   "execution_count": 48,
   "id": "f624634e-a13d-4f8c-b55f-6ddeb2befaf5",
   "metadata": {},
   "outputs": [],
   "source": [
    "df_microsoft_monthly = func_lib.resample_returns_daily_to_monthly(df_microsoft)"
   ]
  },
  {
   "cell_type": "code",
   "execution_count": 49,
   "id": "710d29cd-645a-49e2-a11b-a28fd64d30f0",
   "metadata": {},
   "outputs": [
    {
     "data": {
      "text/html": [
       "<div>\n",
       "<style scoped>\n",
       "    .dataframe tbody tr th:only-of-type {\n",
       "        vertical-align: middle;\n",
       "    }\n",
       "\n",
       "    .dataframe tbody tr th {\n",
       "        vertical-align: top;\n",
       "    }\n",
       "\n",
       "    .dataframe thead th {\n",
       "        text-align: right;\n",
       "    }\n",
       "</style>\n",
       "<table border=\"1\" class=\"dataframe\">\n",
       "  <thead>\n",
       "    <tr style=\"text-align: right;\">\n",
       "      <th></th>\n",
       "      <th>1_MONTH_RETURN</th>\n",
       "    </tr>\n",
       "    <tr>\n",
       "      <th>DATE</th>\n",
       "      <th></th>\n",
       "    </tr>\n",
       "  </thead>\n",
       "  <tbody>\n",
       "    <tr>\n",
       "      <th>2014-05-31</th>\n",
       "      <td>0.065002</td>\n",
       "    </tr>\n",
       "    <tr>\n",
       "      <th>2014-06-30</th>\n",
       "      <td>0.027421</td>\n",
       "    </tr>\n",
       "    <tr>\n",
       "      <th>2014-07-31</th>\n",
       "      <td>0.028842</td>\n",
       "    </tr>\n",
       "    <tr>\n",
       "      <th>2014-08-31</th>\n",
       "      <td>0.072385</td>\n",
       "    </tr>\n",
       "    <tr>\n",
       "      <th>2014-09-30</th>\n",
       "      <td>-0.017167</td>\n",
       "    </tr>\n",
       "  </tbody>\n",
       "</table>\n",
       "</div>"
      ],
      "text/plain": [
       "            1_MONTH_RETURN\n",
       "DATE                      \n",
       "2014-05-31        0.065002\n",
       "2014-06-30        0.027421\n",
       "2014-07-31        0.028842\n",
       "2014-08-31        0.072385\n",
       "2014-09-30       -0.017167"
      ]
     },
     "execution_count": 49,
     "metadata": {},
     "output_type": "execute_result"
    }
   ],
   "source": [
    "df_apple_monthly.head()"
   ]
  },
  {
   "cell_type": "code",
   "execution_count": 50,
   "id": "7634e06f-7e3a-4737-9afd-37219890d0c3",
   "metadata": {},
   "outputs": [
    {
     "data": {
      "text/html": [
       "<div>\n",
       "<style scoped>\n",
       "    .dataframe tbody tr th:only-of-type {\n",
       "        vertical-align: middle;\n",
       "    }\n",
       "\n",
       "    .dataframe tbody tr th {\n",
       "        vertical-align: top;\n",
       "    }\n",
       "\n",
       "    .dataframe thead th {\n",
       "        text-align: right;\n",
       "    }\n",
       "</style>\n",
       "<table border=\"1\" class=\"dataframe\">\n",
       "  <thead>\n",
       "    <tr style=\"text-align: right;\">\n",
       "      <th></th>\n",
       "      <th>1_MONTH_RETURN</th>\n",
       "    </tr>\n",
       "    <tr>\n",
       "      <th>DATE</th>\n",
       "      <th></th>\n",
       "    </tr>\n",
       "  </thead>\n",
       "  <tbody>\n",
       "    <tr>\n",
       "      <th>2014-05-31</th>\n",
       "      <td>0.048131</td>\n",
       "    </tr>\n",
       "    <tr>\n",
       "      <th>2014-06-30</th>\n",
       "      <td>0.018564</td>\n",
       "    </tr>\n",
       "    <tr>\n",
       "      <th>2014-07-31</th>\n",
       "      <td>0.035012</td>\n",
       "    </tr>\n",
       "    <tr>\n",
       "      <th>2014-08-31</th>\n",
       "      <td>0.052595</td>\n",
       "    </tr>\n",
       "    <tr>\n",
       "      <th>2014-09-30</th>\n",
       "      <td>0.020471</td>\n",
       "    </tr>\n",
       "  </tbody>\n",
       "</table>\n",
       "</div>"
      ],
      "text/plain": [
       "            1_MONTH_RETURN\n",
       "DATE                      \n",
       "2014-05-31        0.048131\n",
       "2014-06-30        0.018564\n",
       "2014-07-31        0.035012\n",
       "2014-08-31        0.052595\n",
       "2014-09-30        0.020471"
      ]
     },
     "execution_count": 50,
     "metadata": {},
     "output_type": "execute_result"
    }
   ],
   "source": [
    "df_microsoft_monthly.head()"
   ]
  },
  {
   "cell_type": "code",
   "execution_count": 51,
   "id": "6035415d-3c33-4e32-9ce7-734072c69b52",
   "metadata": {},
   "outputs": [],
   "source": [
    "func_lib.set_index_and_sort_by_index(df_inflation, 'DATE')"
   ]
  },
  {
   "cell_type": "code",
   "execution_count": 52,
   "id": "c65d7aaf-da19-4a1c-9f4e-a6552ea686b2",
   "metadata": {},
   "outputs": [
    {
     "data": {
      "text/html": [
       "<div>\n",
       "<style scoped>\n",
       "    .dataframe tbody tr th:only-of-type {\n",
       "        vertical-align: middle;\n",
       "    }\n",
       "\n",
       "    .dataframe tbody tr th {\n",
       "        vertical-align: top;\n",
       "    }\n",
       "\n",
       "    .dataframe thead th {\n",
       "        text-align: right;\n",
       "    }\n",
       "</style>\n",
       "<table border=\"1\" class=\"dataframe\">\n",
       "  <thead>\n",
       "    <tr style=\"text-align: right;\">\n",
       "      <th></th>\n",
       "      <th>CORESTICKM159SFRBATL</th>\n",
       "      <th>INFLATION_CHANGE</th>\n",
       "    </tr>\n",
       "    <tr>\n",
       "      <th>DATE</th>\n",
       "      <th></th>\n",
       "      <th></th>\n",
       "    </tr>\n",
       "  </thead>\n",
       "  <tbody>\n",
       "    <tr>\n",
       "      <th>1968-01-31</th>\n",
       "      <td>3.651861</td>\n",
       "      <td>NaN</td>\n",
       "    </tr>\n",
       "    <tr>\n",
       "      <th>1968-02-29</th>\n",
       "      <td>3.673819</td>\n",
       "      <td>0.006013</td>\n",
       "    </tr>\n",
       "    <tr>\n",
       "      <th>1968-03-31</th>\n",
       "      <td>4.142164</td>\n",
       "      <td>0.127482</td>\n",
       "    </tr>\n",
       "    <tr>\n",
       "      <th>1968-04-30</th>\n",
       "      <td>4.155828</td>\n",
       "      <td>0.003299</td>\n",
       "    </tr>\n",
       "    <tr>\n",
       "      <th>1968-05-31</th>\n",
       "      <td>4.088245</td>\n",
       "      <td>-0.016262</td>\n",
       "    </tr>\n",
       "  </tbody>\n",
       "</table>\n",
       "</div>"
      ],
      "text/plain": [
       "            CORESTICKM159SFRBATL  INFLATION_CHANGE\n",
       "DATE                                              \n",
       "1968-01-31              3.651861               NaN\n",
       "1968-02-29              3.673819          0.006013\n",
       "1968-03-31              4.142164          0.127482\n",
       "1968-04-30              4.155828          0.003299\n",
       "1968-05-31              4.088245         -0.016262"
      ]
     },
     "execution_count": 52,
     "metadata": {},
     "output_type": "execute_result"
    }
   ],
   "source": [
    "df_inflation.head()"
   ]
  },
  {
   "cell_type": "markdown",
   "id": "268272e6",
   "metadata": {},
   "source": [
    "### 3. Merge the dataframes and calculate / plot the correlation"
   ]
  },
  {
   "cell_type": "code",
   "execution_count": 53,
   "id": "78b5a370-541f-40d2-aa66-d6fba211d357",
   "metadata": {},
   "outputs": [],
   "source": [
    "df_apple_monthly = df_apple_monthly.add_prefix('AAPL_')\n",
    "df_microsoft_monthly = df_microsoft_monthly.add_prefix('MSFT_')"
   ]
  },
  {
   "cell_type": "code",
   "execution_count": 54,
   "id": "60f4e174-032d-4437-8190-cab9ba971ae8",
   "metadata": {},
   "outputs": [],
   "source": [
    "df_inflation = df_inflation['INFLATION_CHANGE']"
   ]
  },
  {
   "cell_type": "code",
   "execution_count": 55,
   "id": "413f9bd5-44c5-4f15-9030-4779b1987f97",
   "metadata": {},
   "outputs": [
    {
     "data": {
      "text/html": [
       "<div>\n",
       "<style scoped>\n",
       "    .dataframe tbody tr th:only-of-type {\n",
       "        vertical-align: middle;\n",
       "    }\n",
       "\n",
       "    .dataframe tbody tr th {\n",
       "        vertical-align: top;\n",
       "    }\n",
       "\n",
       "    .dataframe thead th {\n",
       "        text-align: right;\n",
       "    }\n",
       "</style>\n",
       "<table border=\"1\" class=\"dataframe\">\n",
       "  <thead>\n",
       "    <tr style=\"text-align: right;\">\n",
       "      <th></th>\n",
       "      <th>INFLATION_CHANGE</th>\n",
       "      <th>AAPL_1_MONTH_RETURN</th>\n",
       "      <th>MSFT_1_MONTH_RETURN</th>\n",
       "    </tr>\n",
       "    <tr>\n",
       "      <th>DATE</th>\n",
       "      <th></th>\n",
       "      <th></th>\n",
       "      <th></th>\n",
       "    </tr>\n",
       "  </thead>\n",
       "  <tbody>\n",
       "    <tr>\n",
       "      <th>2014-05-31</th>\n",
       "      <td>0.050251</td>\n",
       "      <td>0.065002</td>\n",
       "      <td>0.048131</td>\n",
       "    </tr>\n",
       "    <tr>\n",
       "      <th>2014-06-30</th>\n",
       "      <td>0.007147</td>\n",
       "      <td>0.027421</td>\n",
       "      <td>0.018564</td>\n",
       "    </tr>\n",
       "    <tr>\n",
       "      <th>2014-07-31</th>\n",
       "      <td>-0.020724</td>\n",
       "      <td>0.028842</td>\n",
       "      <td>0.035012</td>\n",
       "    </tr>\n",
       "    <tr>\n",
       "      <th>2014-08-31</th>\n",
       "      <td>-0.066387</td>\n",
       "      <td>0.072385</td>\n",
       "      <td>0.052595</td>\n",
       "    </tr>\n",
       "    <tr>\n",
       "      <th>2014-09-30</th>\n",
       "      <td>-0.004516</td>\n",
       "      <td>-0.017167</td>\n",
       "      <td>0.020471</td>\n",
       "    </tr>\n",
       "  </tbody>\n",
       "</table>\n",
       "</div>"
      ],
      "text/plain": [
       "            INFLATION_CHANGE  AAPL_1_MONTH_RETURN  MSFT_1_MONTH_RETURN\n",
       "DATE                                                                  \n",
       "2014-05-31          0.050251             0.065002             0.048131\n",
       "2014-06-30          0.007147             0.027421             0.018564\n",
       "2014-07-31         -0.020724             0.028842             0.035012\n",
       "2014-08-31         -0.066387             0.072385             0.052595\n",
       "2014-09-30         -0.004516            -0.017167             0.020471"
      ]
     },
     "execution_count": 55,
     "metadata": {},
     "output_type": "execute_result"
    }
   ],
   "source": [
    "df_inflation = df_inflation.to_frame()\n",
    "\n",
    "df_joined = df_inflation.join([df_apple_monthly, df_microsoft_monthly], how='inner')\n",
    "df_joined.head()"
   ]
  },
  {
   "cell_type": "markdown",
   "id": "e1352272",
   "metadata": {},
   "source": [
    "### 4. Calculate the correlation matrix between the Apple returns, Microsoft returns, and inflation change"
   ]
  },
  {
   "cell_type": "code",
   "execution_count": 56,
   "id": "8176f9ff",
   "metadata": {},
   "outputs": [
    {
     "data": {
      "text/html": [
       "<div>\n",
       "<style scoped>\n",
       "    .dataframe tbody tr th:only-of-type {\n",
       "        vertical-align: middle;\n",
       "    }\n",
       "\n",
       "    .dataframe tbody tr th {\n",
       "        vertical-align: top;\n",
       "    }\n",
       "\n",
       "    .dataframe thead th {\n",
       "        text-align: right;\n",
       "    }\n",
       "</style>\n",
       "<table border=\"1\" class=\"dataframe\">\n",
       "  <thead>\n",
       "    <tr style=\"text-align: right;\">\n",
       "      <th></th>\n",
       "      <th>INFLATION_CHANGE</th>\n",
       "      <th>AAPL_1_MONTH_RETURN</th>\n",
       "      <th>MSFT_1_MONTH_RETURN</th>\n",
       "    </tr>\n",
       "  </thead>\n",
       "  <tbody>\n",
       "    <tr>\n",
       "      <th>INFLATION_CHANGE</th>\n",
       "      <td>1.000000</td>\n",
       "      <td>-0.074699</td>\n",
       "      <td>-0.070176</td>\n",
       "    </tr>\n",
       "    <tr>\n",
       "      <th>AAPL_1_MONTH_RETURN</th>\n",
       "      <td>-0.074699</td>\n",
       "      <td>1.000000</td>\n",
       "      <td>0.588237</td>\n",
       "    </tr>\n",
       "    <tr>\n",
       "      <th>MSFT_1_MONTH_RETURN</th>\n",
       "      <td>-0.070176</td>\n",
       "      <td>0.588237</td>\n",
       "      <td>1.000000</td>\n",
       "    </tr>\n",
       "  </tbody>\n",
       "</table>\n",
       "</div>"
      ],
      "text/plain": [
       "                     INFLATION_CHANGE  AAPL_1_MONTH_RETURN  \\\n",
       "INFLATION_CHANGE             1.000000            -0.074699   \n",
       "AAPL_1_MONTH_RETURN         -0.074699             1.000000   \n",
       "MSFT_1_MONTH_RETURN         -0.070176             0.588237   \n",
       "\n",
       "                     MSFT_1_MONTH_RETURN  \n",
       "INFLATION_CHANGE               -0.070176  \n",
       "AAPL_1_MONTH_RETURN             0.588237  \n",
       "MSFT_1_MONTH_RETURN             1.000000  "
      ]
     },
     "execution_count": 56,
     "metadata": {},
     "output_type": "execute_result"
    }
   ],
   "source": [
    "# Calculate correlation matrix\n",
    "corr = df_joined.corr()\n",
    "corr"
   ]
  },
  {
   "cell_type": "markdown",
   "id": "43b0ac07",
   "metadata": {},
   "source": [
    "### 5. Plot the correlation matrix as a heatmap "
   ]
  },
  {
   "cell_type": "code",
   "execution_count": 57,
   "id": "0f731a65",
   "metadata": {},
   "outputs": [
    {
     "data": {
      "image/png": "[encoded data removed]",
      "text/plain": [
       "<Figure size 800x600 with 2 Axes>"
      ]
     },
     "metadata": {},
     "output_type": "display_data"
    }
   ],
   "source": [
    "# Plot heatmap\n",
    "func_lib.plot_heatmap(corr)"
   ]
  },
  {
   "cell_type": "markdown",
   "id": "624a2410",
   "metadata": {},
   "source": [
    "## Calculating rolling volatility (standard deviation) of a stock's price for last 3 months\n",
    "\n",
    "Volatility is a measure of the dispersion of returns for a given security. By calculating rolling volatility, investors can assess the risk associated with a stock over time: Higher volatility indicates higher risk, as the stock's price is more likely to experience significant fluctuations. In portfolio optimization, understanding the volatility of individual stocks and how it changes over time is crucial for diversification and optimization. By analyzing rolling volatility, investors can adjust their portfolios to maintain a desired risk level, potentially improving the risk-return profile.\n",
    "\n",
    "One possible way to calculate volatility is by using the standard deviation of returns for a stock over time.\n",
    "\n",
    "Your task:\n",
    "* Calculate the weekly rolling standard deviation for Apple's closing price\n",
    "* Plot the calculated rolling weekly volatility of Apple's closing price against Apple's closing price. Plot these **on the same chart, but using different y-axes**\n",
    "\n",
    "Helpful hints:\n",
    "* You'll need to use the `pandas` `rolling()` method with a given `window_size` parameter to make it a _weekly_ rolling calculation\n",
    "* Use **only the last three months of data**; data much older than this may not be as useful for portfolio optimization\n",
    "* You'll need to create two axes on the matplotlib figure to be able to use two different y-axes (one for the closing price and one for the rolling volatility calculated here)"
   ]
  },
  {
   "cell_type": "code",
   "execution_count": 58,
   "id": "4da9eb94",
   "metadata": {},
   "outputs": [],
   "source": [
    "# Define the window size for the rolling calculation (e.g., one week)\n",
    "window = 5 # 5 trading days"
   ]
  },
  {
   "cell_type": "code",
   "execution_count": 59,
   "id": "0cf30ece-acc9-404a-832e-5477d7a772d0",
   "metadata": {},
   "outputs": [
    {
     "data": {
      "text/html": [
       "<div>\n",
       "<style scoped>\n",
       "    .dataframe tbody tr th:only-of-type {\n",
       "        vertical-align: middle;\n",
       "    }\n",
       "\n",
       "    .dataframe tbody tr th {\n",
       "        vertical-align: top;\n",
       "    }\n",
       "\n",
       "    .dataframe thead th {\n",
       "        text-align: right;\n",
       "    }\n",
       "</style>\n",
       "<table border=\"1\" class=\"dataframe\">\n",
       "  <thead>\n",
       "    <tr style=\"text-align: right;\">\n",
       "      <th></th>\n",
       "      <th>CLOSE/LAST</th>\n",
       "      <th>VOLUME</th>\n",
       "      <th>OPEN</th>\n",
       "      <th>HIGH</th>\n",
       "      <th>LOW</th>\n",
       "      <th>1_DAY_RETURN</th>\n",
       "      <th>5_DAY_ROLLING_VOLATILITY</th>\n",
       "    </tr>\n",
       "    <tr>\n",
       "      <th>DATE</th>\n",
       "      <th></th>\n",
       "      <th></th>\n",
       "      <th></th>\n",
       "      <th></th>\n",
       "      <th></th>\n",
       "      <th></th>\n",
       "      <th></th>\n",
       "    </tr>\n",
       "  </thead>\n",
       "  <tbody>\n",
       "    <tr>\n",
       "      <th>2014-05-06</th>\n",
       "      <td>21.23</td>\n",
       "      <td>373872650</td>\n",
       "      <td>21.49</td>\n",
       "      <td>21.59</td>\n",
       "      <td>21.23</td>\n",
       "      <td>NaN</td>\n",
       "      <td>NaN</td>\n",
       "    </tr>\n",
       "    <tr>\n",
       "      <th>2014-05-07</th>\n",
       "      <td>21.15</td>\n",
       "      <td>282128727</td>\n",
       "      <td>21.26</td>\n",
       "      <td>21.33</td>\n",
       "      <td>20.99</td>\n",
       "      <td>-0.003768</td>\n",
       "      <td>NaN</td>\n",
       "    </tr>\n",
       "    <tr>\n",
       "      <th>2014-05-08</th>\n",
       "      <td>21.00</td>\n",
       "      <td>228973884</td>\n",
       "      <td>21.01</td>\n",
       "      <td>21.23</td>\n",
       "      <td>20.94</td>\n",
       "      <td>-0.007092</td>\n",
       "      <td>NaN</td>\n",
       "    </tr>\n",
       "    <tr>\n",
       "      <th>2014-05-09</th>\n",
       "      <td>20.91</td>\n",
       "      <td>291068564</td>\n",
       "      <td>20.88</td>\n",
       "      <td>20.94</td>\n",
       "      <td>20.73</td>\n",
       "      <td>-0.004286</td>\n",
       "      <td>NaN</td>\n",
       "    </tr>\n",
       "    <tr>\n",
       "      <th>2014-05-12</th>\n",
       "      <td>21.17</td>\n",
       "      <td>212736019</td>\n",
       "      <td>20.98</td>\n",
       "      <td>21.20</td>\n",
       "      <td>20.98</td>\n",
       "      <td>0.012434</td>\n",
       "      <td>NaN</td>\n",
       "    </tr>\n",
       "    <tr>\n",
       "      <th>2014-05-13</th>\n",
       "      <td>21.21</td>\n",
       "      <td>159417936</td>\n",
       "      <td>21.14</td>\n",
       "      <td>21.23</td>\n",
       "      <td>21.10</td>\n",
       "      <td>0.001889</td>\n",
       "      <td>0.007761</td>\n",
       "    </tr>\n",
       "    <tr>\n",
       "      <th>2014-05-14</th>\n",
       "      <td>21.21</td>\n",
       "      <td>166020698</td>\n",
       "      <td>21.16</td>\n",
       "      <td>21.34</td>\n",
       "      <td>21.13</td>\n",
       "      <td>0.000000</td>\n",
       "      <td>0.007502</td>\n",
       "    </tr>\n",
       "    <tr>\n",
       "      <th>2014-05-15</th>\n",
       "      <td>21.03</td>\n",
       "      <td>229710816</td>\n",
       "      <td>21.24</td>\n",
       "      <td>21.31</td>\n",
       "      <td>21.00</td>\n",
       "      <td>-0.008487</td>\n",
       "      <td>0.007875</td>\n",
       "    </tr>\n",
       "    <tr>\n",
       "      <th>2014-05-16</th>\n",
       "      <td>21.34</td>\n",
       "      <td>275840350</td>\n",
       "      <td>21.02</td>\n",
       "      <td>21.34</td>\n",
       "      <td>20.91</td>\n",
       "      <td>0.014741</td>\n",
       "      <td>0.009524</td>\n",
       "    </tr>\n",
       "    <tr>\n",
       "      <th>2014-05-19</th>\n",
       "      <td>21.59</td>\n",
       "      <td>315279314</td>\n",
       "      <td>21.35</td>\n",
       "      <td>21.69</td>\n",
       "      <td>21.33</td>\n",
       "      <td>0.011715</td>\n",
       "      <td>0.009371</td>\n",
       "    </tr>\n",
       "  </tbody>\n",
       "</table>\n",
       "</div>"
      ],
      "text/plain": [
       "            CLOSE/LAST     VOLUME   OPEN   HIGH    LOW  1_DAY_RETURN  \\\n",
       "DATE                                                                   \n",
       "2014-05-06       21.23  373872650  21.49  21.59  21.23           NaN   \n",
       "2014-05-07       21.15  282128727  21.26  21.33  20.99     -0.003768   \n",
       "2014-05-08       21.00  228973884  21.01  21.23  20.94     -0.007092   \n",
       "2014-05-09       20.91  291068564  20.88  20.94  20.73     -0.004286   \n",
       "2014-05-12       21.17  212736019  20.98  21.20  20.98      0.012434   \n",
       "2014-05-13       21.21  159417936  21.14  21.23  21.10      0.001889   \n",
       "2014-05-14       21.21  166020698  21.16  21.34  21.13      0.000000   \n",
       "2014-05-15       21.03  229710816  21.24  21.31  21.00     -0.008487   \n",
       "2014-05-16       21.34  275840350  21.02  21.34  20.91      0.014741   \n",
       "2014-05-19       21.59  315279314  21.35  21.69  21.33      0.011715   \n",
       "\n",
       "            5_DAY_ROLLING_VOLATILITY  \n",
       "DATE                                  \n",
       "2014-05-06                       NaN  \n",
       "2014-05-07                       NaN  \n",
       "2014-05-08                       NaN  \n",
       "2014-05-09                       NaN  \n",
       "2014-05-12                       NaN  \n",
       "2014-05-13                  0.007761  \n",
       "2014-05-14                  0.007502  \n",
       "2014-05-15                  0.007875  \n",
       "2014-05-16                  0.009524  \n",
       "2014-05-19                  0.009371  "
      ]
     },
     "execution_count": 59,
     "metadata": {},
     "output_type": "execute_result"
    }
   ],
   "source": [
    "func_lib.calculate_rolling_volatility(df_apple, window)\n",
    "df_apple.head(10)"
   ]
  },
  {
   "cell_type": "code",
   "execution_count": 60,
   "id": "50653564-320a-4c3b-8f7c-1a7152a79d53",
   "metadata": {},
   "outputs": [],
   "source": [
    "df_apple_last_3_months_with_volatility = func_lib.get_last_x_months_of_data(df_apple, last_x_months=3)"
   ]
  },
  {
   "cell_type": "code",
   "execution_count": 61,
   "id": "92a9c0b8",
   "metadata": {},
   "outputs": [
    {
     "data": {
      "image/png": "[encoded data removed]",
      "text/plain": [
       "<Figure size 1200x600 with 2 Axes>"
      ]
     },
     "metadata": {},
     "output_type": "display_data"
    }
   ],
   "source": [
    "# Plot the calculated rolling weekly volatility of Apple's closing price against Apple's closing price\n",
    "# Plot these on the same chart, but using different y-axes\n",
    "func_lib.plot_rolling_volatility(df_apple_last_3_months_with_volatility)"
   ]
  },
  {
   "cell_type": "markdown",
   "id": "e2cf3c78",
   "metadata": {},
   "source": [
    "## Export data\n",
    "\n",
    "Now that you have preprocessed your data, you should save it in new csv files so that it can be used in downstream tasks without having to redo all the preprocessing steps. \n",
    "\n",
    "Your task:\n",
    "* Use `pandas` to export all modified datasets back to new CSV files"
   ]
  },
  {
   "cell_type": "code",
   "execution_count": 62,
   "id": "518ebe8e-43ad-4c9b-b61d-192bfd3f47e3",
   "metadata": {},
   "outputs": [],
   "source": [
    "# export inflation\n",
    "func_lib.export_data(df_inflation, 'export_inflation.csv')\n",
    "func_lib.export_data(df_inflation_weekly, 'export_inflation_weekly.csv')\n",
    "func_lib.export_data(df_inflation_quarterly, 'export_inflation_quarterly.csv')\n",
    "# export apple\n",
    "func_lib.export_data(df_apple, 'export_apple.csv')\n",
    "func_lib.export_data(df_apple_monthly, 'export_apple_monthly.csv')\n",
    "func_lib.export_data(df_apple_last_3_months, 'export_apple_last_3_months.csv')\n",
    "func_lib.export_data(df_apple_last_3_months_with_volatility, 'export_apple_last_3_months_with_volatility.csv')\n",
    "   \n",
    "# export microsoft\n",
    "func_lib.export_data(df_microsoft, 'export_microsoft.csv')\n",
    "func_lib.export_data(df_microsoft_monthly, 'export_microsoft_monthly.csv')\n",
    "# export joined\n",
    "func_lib.export_data(df_joined, 'export_joined.csv')"
   ]
  },
  {
   "cell_type": "code",
   "execution_count": null,
   "id": "1d6da147-8b51-4475-85e5-92f915f0d888",
   "metadata": {},
   "outputs": [],
   "source": []
  }
 ],
 "metadata": {
  "kernelspec": {
   "display_name": "Python 3 (ipykernel)",
   "language": "python",
   "name": "python3"
  },
  "language_info": {
   "codemirror_mode": {
    "name": "ipython",
    "version": 3
   },
   "file_extension": ".py",
   "mimetype": "text/x-python",
   "name": "python",
   "nbconvert_exporter": "python",
   "pygments_lexer": "ipython3",
   "version": "3.10.13"
  }
 },
 "nbformat": 4,
 "nbformat_minor": 5
}
