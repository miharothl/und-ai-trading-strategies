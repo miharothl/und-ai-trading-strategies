{
 "cells": [
  {
   "cell_type": "markdown",
   "id": "ffd5516d-e47a-42c0-988a-6d72874336a1",
   "metadata": {},
   "source": [
    "# Demo 4\n"
   ]
  },
  {
   "cell_type": "code",
   "execution_count": 1,
   "id": "85a136b7-fa22-4542-827c-047ff2c4d97a",
   "metadata": {},
   "outputs": [],
   "source": [
    "import sys\n",
    "import os\n",
    "\n",
    "# Manually set the path relative to the py file's location that you want to import\n",
    "func_lib_path = os.path.abspath(os.path.join(os.getcwd(), '../'))\n",
    "# Add the path to sys.path\n",
    "sys.path.append(func_lib_path)\n",
    "# Now you can import func_lib\n",
    "import func_lib\n",
    "\n",
    "import pandas as pd\n",
    "import matplotlib.pyplot as plt\n",
    "import numpy as np\n",
    "# Calculate accuracy, precision, and recall\n",
    "from sklearn.metrics import accuracy_score, precision_score, recall_score"
   ]
  },
  {
   "cell_type": "code",
   "execution_count": 2,
   "id": "3179d4bb-f726-45a8-914a-7137d8d6181b",
   "metadata": {},
   "outputs": [],
   "source": [
    "# !pip install pyarrow"
   ]
  },
  {
   "cell_type": "code",
   "execution_count": 3,
   "id": "181313ed-1616-4e2d-98de-b4bd55d080f4",
   "metadata": {
    "scrolled": true
   },
   "outputs": [
    {
     "name": "stderr",
     "output_type": "stream",
     "text": [
      "[*********************100%***********************]  501 of 501 completed\n",
      "\n",
      "297 Failed downloads:\n",
      "['PCAR']: Timeout('Failed to perform, curl: (28) Operation timed out after 10001 milliseconds with 0 bytes received. See https://curl.se/libcurl/c/libcurl-errors.html first for more details.')\n",
      "['ADP', 'CTRA']: ConnectionError('Failed to perform, curl: (7) Failed to connect to query2.finance.yahoo.com port 443 after 27 ms: Could not connect to server. See https://curl.se/libcurl/c/libcurl-errors.html first for more details.')\n",
      "['ES', 'CPB', 'IR', 'APO', 'SYK', 'KMI', 'MRK', 'ORLY', 'WTW', 'IT', 'INVH', 'TAP', 'AMT', 'AEP', 'CSCO', 'ERIE', 'TT', 'MO', 'D', 'RTX', 'F']: ConnectionError('Failed to perform, curl: (7) Failed to connect to query2.finance.yahoo.com port 443 after 41 ms: Could not connect to server. See https://curl.se/libcurl/c/libcurl-errors.html first for more details.')\n",
      "['STLD', 'EQR', 'ETR', 'VTR', 'SRE', 'AEE', 'MCK', 'CF', 'LW', 'PHM', 'FOX', 'EA', 'PH', 'IDXX', 'AMD', 'UAL', 'LUV', 'CRWD', 'LOW', 'GS', 'GILD', 'REG', 'MLM']: ConnectionError('Failed to perform, curl: (7) Failed to connect to query2.finance.yahoo.com port 443 after 39 ms: Could not connect to server. See https://curl.se/libcurl/c/libcurl-errors.html first for more details.')\n",
      "['TPR', 'PSX', 'MET', 'CMS', 'BG', 'ELV', 'POOL', 'SMCI', 'EIX', 'KEY', 'ADBE', 'TMO', 'NXPI']: ConnectionError('Failed to perform, curl: (7) Failed to connect to query2.finance.yahoo.com port 443 after 31 ms: Could not connect to server. See https://curl.se/libcurl/c/libcurl-errors.html first for more details.')\n",
      "['BKR', 'AZO', 'HIG', 'MNST', 'HRL', 'BLK', 'CAG', 'ANSS', 'BXP', 'DOC', 'VRSK', 'PRU', 'EBAY', 'AMCR', 'WELL', 'TXN', 'AJG', 'VLO', 'REGN']: ConnectionError('Failed to perform, curl: (7) Failed to connect to query2.finance.yahoo.com port 443 after 36 ms: Could not connect to server. See https://curl.se/libcurl/c/libcurl-errors.html first for more details.')\n",
      "['LNT', 'COF', 'INTU', 'HES', 'CLX', 'CARR', 'DHR', 'PEP']: ConnectionError('Failed to perform, curl: (7) Failed to connect to query2.finance.yahoo.com port 443 after 46 ms: Could not connect to server. See https://curl.se/libcurl/c/libcurl-errors.html first for more details.')\n",
      "['APTV', 'ENPH', 'CVX', 'MSFT', 'HAS', 'GEV', 'CB', 'LRCX', 'ALB', 'LIN', 'HWM', 'KKR', 'SNA', 'RMD', 'COP', 'IVZ']: ConnectionError('Failed to perform, curl: (7) Failed to connect to query2.finance.yahoo.com port 443 after 44 ms: Could not connect to server. See https://curl.se/libcurl/c/libcurl-errors.html first for more details.')\n",
      "['FFIV']: ConnectionError('Failed to perform, curl: (7) Failed to connect to query2.finance.yahoo.com port 443 after 55 ms: Could not connect to server. See https://curl.se/libcurl/c/libcurl-errors.html first for more details.')\n",
      "['CMCSA', 'MTB', 'VRTX', 'CPRT', 'DPZ', 'EPAM', 'JKHY', 'RF', 'CSX', 'AXP', 'DRI', 'TRGP']: ConnectionError('Failed to perform, curl: (7) Failed to connect to query2.finance.yahoo.com port 443 after 43 ms: Could not connect to server. See https://curl.se/libcurl/c/libcurl-errors.html first for more details.')\n",
      "['CEG', 'JNJ', 'DASH', 'SLB', 'EL', 'AIG', 'MMC', 'CZR', 'O', 'BBY', 'TKO', 'VST', 'AAPL', 'EOG', 'ORCL']: ConnectionError('Failed to perform, curl: (7) Failed to connect to query2.finance.yahoo.com port 443 after 33 ms: Could not connect to server. See https://curl.se/libcurl/c/libcurl-errors.html first for more details.')\n",
      "['CCL', 'GLW', 'CFG', 'TXT']: ConnectionError('Failed to perform, curl: (7) Failed to connect to query2.finance.yahoo.com port 443 after 53 ms: Could not connect to server. See https://curl.se/libcurl/c/libcurl-errors.html first for more details.')\n",
      "['SW', 'BIIB', 'DHI', 'MMM', 'WAT', 'JBHT', 'T', 'NKE', 'MPC', 'PNR', 'LH', 'CBOE', 'DAY', 'VLTO', 'ETN', 'GWW', 'L']: ConnectionError('Failed to perform, curl: (7) Failed to connect to query2.finance.yahoo.com port 443 after 35 ms: Could not connect to server. See https://curl.se/libcurl/c/libcurl-errors.html first for more details.')\n",
      "['SWK', 'SPGI', 'HAL', 'VZ', 'KDP', 'FTV', 'BDX', 'PLD', 'FITB', 'IEX', 'UBER', 'CAT']: ConnectionError('Failed to perform, curl: (7) Failed to connect to query2.finance.yahoo.com port 443 after 32 ms: Could not connect to server. See https://curl.se/libcurl/c/libcurl-errors.html first for more details.')\n",
      "['OTIS', 'IRM', 'ALGN', 'EXPD', 'ABT', 'TER', 'CL', 'GE', 'WFC', 'IP', 'MOH', 'GEHC', 'NDSN', 'DXCM', 'ESS', 'FDX', 'SHW', 'MDLZ', 'LMT']: ConnectionError('Failed to perform, curl: (7) Failed to connect to query2.finance.yahoo.com port 443 after 37 ms: Could not connect to server. See https://curl.se/libcurl/c/libcurl-errors.html first for more details.')\n",
      "['PFE', 'CCI', 'PSA', 'GEN', 'CHD', 'PKG', 'WDAY', 'CHRW', 'STZ', 'CSGP', 'MSI', 'CRM', 'GOOGL', 'J', 'BSX', 'BKNG', 'VMC', 'WM', 'NI']: ConnectionError('Failed to perform, curl: (7) Failed to connect to query2.finance.yahoo.com port 443 after 40 ms: Could not connect to server. See https://curl.se/libcurl/c/libcurl-errors.html first for more details.')\n",
      "['ODFL', 'SYY', 'MS', 'BLDR', 'FOXA', 'SOLV', 'PNW', 'BEN', 'BAC', 'RSG']: ConnectionError('Failed to perform, curl: (7) Failed to connect to query2.finance.yahoo.com port 443 after 47 ms: Could not connect to server. See https://curl.se/libcurl/c/libcurl-errors.html first for more details.')\n",
      "['TRMB', 'NTRS', 'TROW', 'AVY', 'ANET', 'WY', 'GPC', 'ARE', 'BAX', 'NCLH', 'AOS', 'NRG', 'CHTR', 'ISRG', 'MGM', 'LULU', 'KR', 'XOM', 'WMB', 'OMC', 'OKE', 'EW']: ConnectionError('Failed to perform, curl: (7) Failed to connect to query2.finance.yahoo.com port 443 after 38 ms: Could not connect to server. See https://curl.se/libcurl/c/libcurl-errors.html first for more details.')\n",
      "['MKC', 'PODD', 'MSCI', 'META', 'OXY', 'DG', 'PAYX', 'USB', 'HST', 'MA', 'AIZ']: ConnectionError('Failed to perform, curl: (7) Failed to connect to query2.finance.yahoo.com port 443 after 42 ms: Could not connect to server. See https://curl.se/libcurl/c/libcurl-errors.html first for more details.')\n",
      "['HPQ', 'EVRG', 'AWK', 'DUK', 'EQT', 'WRB', 'STT', 'GPN']: ConnectionError('Failed to perform, curl: (7) Failed to connect to query2.finance.yahoo.com port 443 after 30 ms: Could not connect to server. See https://curl.se/libcurl/c/libcurl-errors.html first for more details.')\n",
      "['LYV', 'KHC', 'DVA', 'CI', 'NEE', 'DLR', 'CNP', 'TDG', 'CME', 'AMP', 'C']: ConnectionError('Failed to perform, curl: (7) Failed to connect to query2.finance.yahoo.com port 443 after 45 ms: Could not connect to server. See https://curl.se/libcurl/c/libcurl-errors.html first for more details.')\n",
      "['WDC', 'IFF', 'BA', 'DGX', 'EXR', 'PYPL']: ConnectionError('Failed to perform, curl: (7) Failed to connect to query2.finance.yahoo.com port 443 after 48 ms: Could not connect to server. See https://curl.se/libcurl/c/libcurl-errors.html first for more details.')\n",
      "['SO', 'RVTY', 'GIS']: ConnectionError('Failed to perform, curl: (7) Failed to connect to query2.finance.yahoo.com port 443 after 26 ms: Could not connect to server. See https://curl.se/libcurl/c/libcurl-errors.html first for more details.')\n",
      "['BALL', 'HII', 'WMT', 'ALLE', 'PLTR', 'DVN', 'NOC']: ConnectionError('Failed to perform, curl: (7) Failed to connect to query2.finance.yahoo.com port 443 after 34 ms: Could not connect to server. See https://curl.se/libcurl/c/libcurl-errors.html first for more details.')\n",
      "['A']: Timeout('Failed to perform, curl: (28) Connection timed out after 10001 milliseconds. See https://curl.se/libcurl/c/libcurl-errors.html first for more details.')\n",
      "['NEM', 'WBA']: ConnectionError('Failed to perform, curl: (7) Failed to connect to query2.finance.yahoo.com port 443 after 25 ms: Could not connect to server. See https://curl.se/libcurl/c/libcurl-errors.html first for more details.')\n",
      "['TDY', 'BMY', 'IQV', 'SBUX']: ConnectionError('Failed to perform, curl: (7) Failed to connect to query2.finance.yahoo.com port 443 after 29 ms: Could not connect to server. See https://curl.se/libcurl/c/libcurl-errors.html first for more details.')\n",
      "['TSLA']: ConnectionError('Failed to perform, curl: (7) Failed to connect to query2.finance.yahoo.com port 443 after 28 ms: Could not connect to server. See https://curl.se/libcurl/c/libcurl-errors.html first for more details.')\n",
      "['FRT']: ConnectionError('Failed to perform, curl: (7) Failed to connect to query2.finance.yahoo.com port 443 after 21 ms: Could not connect to server. See https://curl.se/libcurl/c/libcurl-errors.html first for more details.')\n",
      "['YUM']: ConnectionError('Failed to perform, curl: (7) Failed to connect to query2.finance.yahoo.com port 443 after 20 ms: Could not connect to server. See https://curl.se/libcurl/c/libcurl-errors.html first for more details.')\n",
      "['MCHP']: ConnectionError('Failed to perform, curl: (7) Failed to connect to query2.finance.yahoo.com port 443 after 50 ms: Could not connect to server. See https://curl.se/libcurl/c/libcurl-errors.html first for more details.')\n",
      "['CNC', 'JPM']: ConnectionError('Failed to perform, curl: (7) Failed to connect to query2.finance.yahoo.com port 443 after 49 ms: Could not connect to server. See https://curl.se/libcurl/c/libcurl-errors.html first for more details.')\n",
      "['EXC']: ConnectionError('Failed to perform, curl: (7) Failed to connect to query2.finance.yahoo.com port 443 after 54 ms: Could not connect to server. See https://curl.se/libcurl/c/libcurl-errors.html first for more details.')\n",
      "['FIS', 'HUM']: ConnectionError('Failed to perform, curl: (7) Failed to connect to query2.finance.yahoo.com port 443 after 51 ms: Could not connect to server. See https://curl.se/libcurl/c/libcurl-errors.html first for more details.')\n",
      "['ROL']: ConnectionError('Failed to perform, curl: (7) Failed to connect to query2.finance.yahoo.com port 443 after 52 ms: Could not connect to server. See https://curl.se/libcurl/c/libcurl-errors.html first for more details.')\n"
     ]
    },
    {
     "name": "stdout",
     "output_type": "stream",
     "text": [
      "Saving historical prices to hp.pkl\n"
     ]
    }
   ],
   "source": [
    "#  Create a variable named 'historical_prices' to store historical price data between the dates'2005-01-01' and '2015-01-01'. Use the function 'create_hist_prices()' from 'func_lib' to generate or retrieve the historical prices.\n",
    "historical_prices = func_lib.create_hist_prices( data_file='hp.pkl')"
   ]
  },
  {
   "cell_type": "code",
   "execution_count": 4,
   "id": "19c5616c-727b-4857-8bcc-445671c25d96",
   "metadata": {},
   "outputs": [
    {
     "data": {
      "text/html": [
       "<div>\n",
       "<style scoped>\n",
       "    .dataframe tbody tr th:only-of-type {\n",
       "        vertical-align: middle;\n",
       "    }\n",
       "\n",
       "    .dataframe tbody tr th {\n",
       "        vertical-align: top;\n",
       "    }\n",
       "\n",
       "    .dataframe thead th {\n",
       "        text-align: right;\n",
       "    }\n",
       "</style>\n",
       "<table border=\"1\" class=\"dataframe\">\n",
       "  <thead>\n",
       "    <tr style=\"text-align: right;\">\n",
       "      <th>Ticker</th>\n",
       "      <th>ABBV</th>\n",
       "      <th>ABNB</th>\n",
       "      <th>ACGL</th>\n",
       "      <th>ACN</th>\n",
       "      <th>ADI</th>\n",
       "      <th>ADM</th>\n",
       "      <th>ADSK</th>\n",
       "      <th>AES</th>\n",
       "      <th>AFL</th>\n",
       "      <th>AKAM</th>\n",
       "      <th>...</th>\n",
       "      <th>WBD</th>\n",
       "      <th>WEC</th>\n",
       "      <th>WSM</th>\n",
       "      <th>WST</th>\n",
       "      <th>WYNN</th>\n",
       "      <th>XEL</th>\n",
       "      <th>XYL</th>\n",
       "      <th>ZBH</th>\n",
       "      <th>ZBRA</th>\n",
       "      <th>ZTS</th>\n",
       "    </tr>\n",
       "    <tr>\n",
       "      <th>Date</th>\n",
       "      <th></th>\n",
       "      <th></th>\n",
       "      <th></th>\n",
       "      <th></th>\n",
       "      <th></th>\n",
       "      <th></th>\n",
       "      <th></th>\n",
       "      <th></th>\n",
       "      <th></th>\n",
       "      <th></th>\n",
       "      <th></th>\n",
       "      <th></th>\n",
       "      <th></th>\n",
       "      <th></th>\n",
       "      <th></th>\n",
       "      <th></th>\n",
       "      <th></th>\n",
       "      <th></th>\n",
       "      <th></th>\n",
       "      <th></th>\n",
       "      <th></th>\n",
       "    </tr>\n",
       "  </thead>\n",
       "  <tbody>\n",
       "    <tr>\n",
       "      <th>2000-01-03</th>\n",
       "      <td>NaN</td>\n",
       "      <td>NaN</td>\n",
       "      <td>1.215037</td>\n",
       "      <td>NaN</td>\n",
       "      <td>27.973982</td>\n",
       "      <td>6.179295</td>\n",
       "      <td>8.052905</td>\n",
       "      <td>24.029154</td>\n",
       "      <td>6.777081</td>\n",
       "      <td>321.250</td>\n",
       "      <td>...</td>\n",
       "      <td>NaN</td>\n",
       "      <td>4.183430</td>\n",
       "      <td>6.985486</td>\n",
       "      <td>5.409514</td>\n",
       "      <td>NaN</td>\n",
       "      <td>6.735727</td>\n",
       "      <td>NaN</td>\n",
       "      <td>NaN</td>\n",
       "      <td>25.027779</td>\n",
       "      <td>NaN</td>\n",
       "    </tr>\n",
       "    <tr>\n",
       "      <th>2000-01-04</th>\n",
       "      <td>NaN</td>\n",
       "      <td>NaN</td>\n",
       "      <td>1.208433</td>\n",
       "      <td>NaN</td>\n",
       "      <td>26.558800</td>\n",
       "      <td>6.114925</td>\n",
       "      <td>7.660816</td>\n",
       "      <td>23.076260</td>\n",
       "      <td>6.597239</td>\n",
       "      <td>300.000</td>\n",
       "      <td>...</td>\n",
       "      <td>NaN</td>\n",
       "      <td>4.210863</td>\n",
       "      <td>6.765312</td>\n",
       "      <td>5.465397</td>\n",
       "      <td>NaN</td>\n",
       "      <td>6.890827</td>\n",
       "      <td>NaN</td>\n",
       "      <td>NaN</td>\n",
       "      <td>24.666668</td>\n",
       "      <td>NaN</td>\n",
       "    </tr>\n",
       "    <tr>\n",
       "      <th>2000-01-05</th>\n",
       "      <td>NaN</td>\n",
       "      <td>NaN</td>\n",
       "      <td>1.320692</td>\n",
       "      <td>NaN</td>\n",
       "      <td>26.946508</td>\n",
       "      <td>6.018376</td>\n",
       "      <td>7.178246</td>\n",
       "      <td>23.324844</td>\n",
       "      <td>6.559378</td>\n",
       "      <td>283.500</td>\n",
       "      <td>...</td>\n",
       "      <td>NaN</td>\n",
       "      <td>4.402890</td>\n",
       "      <td>6.805344</td>\n",
       "      <td>5.443047</td>\n",
       "      <td>NaN</td>\n",
       "      <td>7.156703</td>\n",
       "      <td>NaN</td>\n",
       "      <td>NaN</td>\n",
       "      <td>25.138889</td>\n",
       "      <td>NaN</td>\n",
       "    </tr>\n",
       "    <tr>\n",
       "      <th>2000-01-06</th>\n",
       "      <td>NaN</td>\n",
       "      <td>NaN</td>\n",
       "      <td>1.307485</td>\n",
       "      <td>NaN</td>\n",
       "      <td>26.209841</td>\n",
       "      <td>6.050557</td>\n",
       "      <td>6.740915</td>\n",
       "      <td>23.511276</td>\n",
       "      <td>6.691895</td>\n",
       "      <td>236.125</td>\n",
       "      <td>...</td>\n",
       "      <td>NaN</td>\n",
       "      <td>4.389174</td>\n",
       "      <td>5.444275</td>\n",
       "      <td>5.387166</td>\n",
       "      <td>NaN</td>\n",
       "      <td>7.090238</td>\n",
       "      <td>NaN</td>\n",
       "      <td>NaN</td>\n",
       "      <td>23.777779</td>\n",
       "      <td>NaN</td>\n",
       "    </tr>\n",
       "    <tr>\n",
       "      <th>2000-01-07</th>\n",
       "      <td>NaN</td>\n",
       "      <td>NaN</td>\n",
       "      <td>1.380124</td>\n",
       "      <td>NaN</td>\n",
       "      <td>26.946508</td>\n",
       "      <td>6.147111</td>\n",
       "      <td>7.540174</td>\n",
       "      <td>23.967005</td>\n",
       "      <td>6.824407</td>\n",
       "      <td>248.375</td>\n",
       "      <td>...</td>\n",
       "      <td>NaN</td>\n",
       "      <td>4.444040</td>\n",
       "      <td>5.354205</td>\n",
       "      <td>5.443047</td>\n",
       "      <td>NaN</td>\n",
       "      <td>7.090238</td>\n",
       "      <td>NaN</td>\n",
       "      <td>NaN</td>\n",
       "      <td>23.513889</td>\n",
       "      <td>NaN</td>\n",
       "    </tr>\n",
       "  </tbody>\n",
       "</table>\n",
       "<p>5 rows × 204 columns</p>\n",
       "</div>"
      ],
      "text/plain": [
       "Ticker      ABBV  ABNB      ACGL  ACN        ADI       ADM      ADSK  \\\n",
       "Date                                                                   \n",
       "2000-01-03   NaN   NaN  1.215037  NaN  27.973982  6.179295  8.052905   \n",
       "2000-01-04   NaN   NaN  1.208433  NaN  26.558800  6.114925  7.660816   \n",
       "2000-01-05   NaN   NaN  1.320692  NaN  26.946508  6.018376  7.178246   \n",
       "2000-01-06   NaN   NaN  1.307485  NaN  26.209841  6.050557  6.740915   \n",
       "2000-01-07   NaN   NaN  1.380124  NaN  26.946508  6.147111  7.540174   \n",
       "\n",
       "Ticker            AES       AFL     AKAM  ...  WBD       WEC       WSM  \\\n",
       "Date                                      ...                            \n",
       "2000-01-03  24.029154  6.777081  321.250  ...  NaN  4.183430  6.985486   \n",
       "2000-01-04  23.076260  6.597239  300.000  ...  NaN  4.210863  6.765312   \n",
       "2000-01-05  23.324844  6.559378  283.500  ...  NaN  4.402890  6.805344   \n",
       "2000-01-06  23.511276  6.691895  236.125  ...  NaN  4.389174  5.444275   \n",
       "2000-01-07  23.967005  6.824407  248.375  ...  NaN  4.444040  5.354205   \n",
       "\n",
       "Ticker           WST  WYNN       XEL  XYL  ZBH       ZBRA  ZTS  \n",
       "Date                                                            \n",
       "2000-01-03  5.409514   NaN  6.735727  NaN  NaN  25.027779  NaN  \n",
       "2000-01-04  5.465397   NaN  6.890827  NaN  NaN  24.666668  NaN  \n",
       "2000-01-05  5.443047   NaN  7.156703  NaN  NaN  25.138889  NaN  \n",
       "2000-01-06  5.387166   NaN  7.090238  NaN  NaN  23.777779  NaN  \n",
       "2000-01-07  5.443047   NaN  7.090238  NaN  NaN  23.513889  NaN  \n",
       "\n",
       "[5 rows x 204 columns]"
      ]
     },
     "execution_count": 4,
     "metadata": {},
     "output_type": "execute_result"
    }
   ],
   "source": [
    "historical_prices.head()"
   ]
  },
  {
   "cell_type": "code",
   "execution_count": 5,
   "id": "445a2ff4-f06f-48ae-9ad6-2f81bd622157",
   "metadata": {},
   "outputs": [
    {
     "name": "stdout",
     "output_type": "stream",
     "text": [
      "Loading historical prices from hp.pkl\n"
     ]
    }
   ],
   "source": [
    "historical_prices2 = func_lib.create_hist_prices( data_file='hp.pkl')"
   ]
  },
  {
   "cell_type": "code",
   "execution_count": 6,
   "id": "aa4d7cf3-dbe0-4ff7-b785-13e363742b70",
   "metadata": {},
   "outputs": [
    {
     "data": {
      "text/html": [
       "<div>\n",
       "<style scoped>\n",
       "    .dataframe tbody tr th:only-of-type {\n",
       "        vertical-align: middle;\n",
       "    }\n",
       "\n",
       "    .dataframe tbody tr th {\n",
       "        vertical-align: top;\n",
       "    }\n",
       "\n",
       "    .dataframe thead th {\n",
       "        text-align: right;\n",
       "    }\n",
       "</style>\n",
       "<table border=\"1\" class=\"dataframe\">\n",
       "  <thead>\n",
       "    <tr style=\"text-align: right;\">\n",
       "      <th>Ticker</th>\n",
       "      <th>ABBV</th>\n",
       "      <th>ABNB</th>\n",
       "      <th>ACGL</th>\n",
       "      <th>ACN</th>\n",
       "      <th>ADI</th>\n",
       "      <th>ADM</th>\n",
       "      <th>ADSK</th>\n",
       "      <th>AES</th>\n",
       "      <th>AFL</th>\n",
       "      <th>AKAM</th>\n",
       "      <th>...</th>\n",
       "      <th>WBD</th>\n",
       "      <th>WEC</th>\n",
       "      <th>WSM</th>\n",
       "      <th>WST</th>\n",
       "      <th>WYNN</th>\n",
       "      <th>XEL</th>\n",
       "      <th>XYL</th>\n",
       "      <th>ZBH</th>\n",
       "      <th>ZBRA</th>\n",
       "      <th>ZTS</th>\n",
       "    </tr>\n",
       "    <tr>\n",
       "      <th>Date</th>\n",
       "      <th></th>\n",
       "      <th></th>\n",
       "      <th></th>\n",
       "      <th></th>\n",
       "      <th></th>\n",
       "      <th></th>\n",
       "      <th></th>\n",
       "      <th></th>\n",
       "      <th></th>\n",
       "      <th></th>\n",
       "      <th></th>\n",
       "      <th></th>\n",
       "      <th></th>\n",
       "      <th></th>\n",
       "      <th></th>\n",
       "      <th></th>\n",
       "      <th></th>\n",
       "      <th></th>\n",
       "      <th></th>\n",
       "      <th></th>\n",
       "      <th></th>\n",
       "    </tr>\n",
       "  </thead>\n",
       "  <tbody>\n",
       "    <tr>\n",
       "      <th>2000-01-03</th>\n",
       "      <td>NaN</td>\n",
       "      <td>NaN</td>\n",
       "      <td>1.215037</td>\n",
       "      <td>NaN</td>\n",
       "      <td>27.973982</td>\n",
       "      <td>6.179295</td>\n",
       "      <td>8.052905</td>\n",
       "      <td>24.029154</td>\n",
       "      <td>6.777081</td>\n",
       "      <td>321.250</td>\n",
       "      <td>...</td>\n",
       "      <td>NaN</td>\n",
       "      <td>4.183430</td>\n",
       "      <td>6.985486</td>\n",
       "      <td>5.409514</td>\n",
       "      <td>NaN</td>\n",
       "      <td>6.735727</td>\n",
       "      <td>NaN</td>\n",
       "      <td>NaN</td>\n",
       "      <td>25.027779</td>\n",
       "      <td>NaN</td>\n",
       "    </tr>\n",
       "    <tr>\n",
       "      <th>2000-01-04</th>\n",
       "      <td>NaN</td>\n",
       "      <td>NaN</td>\n",
       "      <td>1.208433</td>\n",
       "      <td>NaN</td>\n",
       "      <td>26.558800</td>\n",
       "      <td>6.114925</td>\n",
       "      <td>7.660816</td>\n",
       "      <td>23.076260</td>\n",
       "      <td>6.597239</td>\n",
       "      <td>300.000</td>\n",
       "      <td>...</td>\n",
       "      <td>NaN</td>\n",
       "      <td>4.210863</td>\n",
       "      <td>6.765312</td>\n",
       "      <td>5.465397</td>\n",
       "      <td>NaN</td>\n",
       "      <td>6.890827</td>\n",
       "      <td>NaN</td>\n",
       "      <td>NaN</td>\n",
       "      <td>24.666668</td>\n",
       "      <td>NaN</td>\n",
       "    </tr>\n",
       "    <tr>\n",
       "      <th>2000-01-05</th>\n",
       "      <td>NaN</td>\n",
       "      <td>NaN</td>\n",
       "      <td>1.320692</td>\n",
       "      <td>NaN</td>\n",
       "      <td>26.946508</td>\n",
       "      <td>6.018376</td>\n",
       "      <td>7.178246</td>\n",
       "      <td>23.324844</td>\n",
       "      <td>6.559378</td>\n",
       "      <td>283.500</td>\n",
       "      <td>...</td>\n",
       "      <td>NaN</td>\n",
       "      <td>4.402890</td>\n",
       "      <td>6.805344</td>\n",
       "      <td>5.443047</td>\n",
       "      <td>NaN</td>\n",
       "      <td>7.156703</td>\n",
       "      <td>NaN</td>\n",
       "      <td>NaN</td>\n",
       "      <td>25.138889</td>\n",
       "      <td>NaN</td>\n",
       "    </tr>\n",
       "    <tr>\n",
       "      <th>2000-01-06</th>\n",
       "      <td>NaN</td>\n",
       "      <td>NaN</td>\n",
       "      <td>1.307485</td>\n",
       "      <td>NaN</td>\n",
       "      <td>26.209841</td>\n",
       "      <td>6.050557</td>\n",
       "      <td>6.740915</td>\n",
       "      <td>23.511276</td>\n",
       "      <td>6.691895</td>\n",
       "      <td>236.125</td>\n",
       "      <td>...</td>\n",
       "      <td>NaN</td>\n",
       "      <td>4.389174</td>\n",
       "      <td>5.444275</td>\n",
       "      <td>5.387166</td>\n",
       "      <td>NaN</td>\n",
       "      <td>7.090238</td>\n",
       "      <td>NaN</td>\n",
       "      <td>NaN</td>\n",
       "      <td>23.777779</td>\n",
       "      <td>NaN</td>\n",
       "    </tr>\n",
       "    <tr>\n",
       "      <th>2000-01-07</th>\n",
       "      <td>NaN</td>\n",
       "      <td>NaN</td>\n",
       "      <td>1.380124</td>\n",
       "      <td>NaN</td>\n",
       "      <td>26.946508</td>\n",
       "      <td>6.147111</td>\n",
       "      <td>7.540174</td>\n",
       "      <td>23.967005</td>\n",
       "      <td>6.824407</td>\n",
       "      <td>248.375</td>\n",
       "      <td>...</td>\n",
       "      <td>NaN</td>\n",
       "      <td>4.444040</td>\n",
       "      <td>5.354205</td>\n",
       "      <td>5.443047</td>\n",
       "      <td>NaN</td>\n",
       "      <td>7.090238</td>\n",
       "      <td>NaN</td>\n",
       "      <td>NaN</td>\n",
       "      <td>23.513889</td>\n",
       "      <td>NaN</td>\n",
       "    </tr>\n",
       "  </tbody>\n",
       "</table>\n",
       "<p>5 rows × 204 columns</p>\n",
       "</div>"
      ],
      "text/plain": [
       "Ticker      ABBV  ABNB      ACGL  ACN        ADI       ADM      ADSK  \\\n",
       "Date                                                                   \n",
       "2000-01-03   NaN   NaN  1.215037  NaN  27.973982  6.179295  8.052905   \n",
       "2000-01-04   NaN   NaN  1.208433  NaN  26.558800  6.114925  7.660816   \n",
       "2000-01-05   NaN   NaN  1.320692  NaN  26.946508  6.018376  7.178246   \n",
       "2000-01-06   NaN   NaN  1.307485  NaN  26.209841  6.050557  6.740915   \n",
       "2000-01-07   NaN   NaN  1.380124  NaN  26.946508  6.147111  7.540174   \n",
       "\n",
       "Ticker            AES       AFL     AKAM  ...  WBD       WEC       WSM  \\\n",
       "Date                                      ...                            \n",
       "2000-01-03  24.029154  6.777081  321.250  ...  NaN  4.183430  6.985486   \n",
       "2000-01-04  23.076260  6.597239  300.000  ...  NaN  4.210863  6.765312   \n",
       "2000-01-05  23.324844  6.559378  283.500  ...  NaN  4.402890  6.805344   \n",
       "2000-01-06  23.511276  6.691895  236.125  ...  NaN  4.389174  5.444275   \n",
       "2000-01-07  23.967005  6.824407  248.375  ...  NaN  4.444040  5.354205   \n",
       "\n",
       "Ticker           WST  WYNN       XEL  XYL  ZBH       ZBRA  ZTS  \n",
       "Date                                                            \n",
       "2000-01-03  5.409514   NaN  6.735727  NaN  NaN  25.027779  NaN  \n",
       "2000-01-04  5.465397   NaN  6.890827  NaN  NaN  24.666668  NaN  \n",
       "2000-01-05  5.443047   NaN  7.156703  NaN  NaN  25.138889  NaN  \n",
       "2000-01-06  5.387166   NaN  7.090238  NaN  NaN  23.777779  NaN  \n",
       "2000-01-07  5.443047   NaN  7.090238  NaN  NaN  23.513889  NaN  \n",
       "\n",
       "[5 rows x 204 columns]"
      ]
     },
     "execution_count": 6,
     "metadata": {},
     "output_type": "execute_result"
    }
   ],
   "source": [
    "historical_prices2.head()"
   ]
  },
  {
   "cell_type": "code",
   "execution_count": null,
   "id": "d0f8fb57-0cf9-447b-8153-e2e1fb4ca136",
   "metadata": {},
   "outputs": [],
   "source": []
  },
  {
   "cell_type": "code",
   "execution_count": null,
   "id": "0bffdd29-429b-4b04-be59-aaf9aec7075c",
   "metadata": {},
   "outputs": [],
   "source": []
  },
  {
   "cell_type": "code",
   "execution_count": null,
   "id": "758ada93-247f-42d5-804b-f432db95393a",
   "metadata": {},
   "outputs": [],
   "source": []
  },
  {
   "cell_type": "code",
   "execution_count": null,
   "id": "07501521-9b6e-4cd0-83c9-9a8d3b4a2f4f",
   "metadata": {},
   "outputs": [],
   "source": []
  },
  {
   "cell_type": "code",
   "execution_count": null,
   "id": "7d569c44-271f-4c80-a2f4-596b9c12dc1c",
   "metadata": {},
   "outputs": [],
   "source": []
  },
  {
   "cell_type": "code",
   "execution_count": null,
   "id": "0068db9a-f3af-4bf8-b2e4-6fbcd19aa60d",
   "metadata": {},
   "outputs": [],
   "source": []
  },
  {
   "cell_type": "code",
   "execution_count": null,
   "id": "84bf1f17-14f5-45ec-abbb-cf88432cbf80",
   "metadata": {},
   "outputs": [],
   "source": []
  },
  {
   "cell_type": "code",
   "execution_count": null,
   "id": "c9bb1cd2-8cde-4e04-aaaa-69f031802e97",
   "metadata": {},
   "outputs": [],
   "source": []
  },
  {
   "cell_type": "code",
   "execution_count": null,
   "id": "113aca5e-f706-46d7-b115-c01ac34f1a4d",
   "metadata": {},
   "outputs": [],
   "source": []
  },
  {
   "cell_type": "code",
   "execution_count": 8,
   "id": "30b271b3-c3fe-46d3-8dca-41042b6667ff",
   "metadata": {
    "scrolled": true
   },
   "outputs": [],
   "source": [
    "# Create a list named 'list_of_momentums' and add 1 to the list\n",
    "list_of_momentums = [1]\n",
    "# Compute the total returns using the historical prices and the list of momentums. Use the 'compute_returns()' function from 'func_lib'. Pass 'historical_prices' and 'list_of_momentums' as arguments to 'func_lib.compute_returns()'.\n",
    "# - Store the result in a variable named 'total_returns'.\n",
    "total_returns     = func_lib.compute_returns(historical_prices, list_of_momentums)"
   ]
  },
  {
   "cell_type": "code",
   "execution_count": 9,
   "id": "bb34b167-f372-4899-b01a-c16b08dbdc1e",
   "metadata": {},
   "outputs": [
    {
     "data": {
      "text/html": [
       "<div>\n",
       "<style scoped>\n",
       "    .dataframe tbody tr th:only-of-type {\n",
       "        vertical-align: middle;\n",
       "    }\n",
       "\n",
       "    .dataframe tbody tr th {\n",
       "        vertical-align: top;\n",
       "    }\n",
       "\n",
       "    .dataframe thead th {\n",
       "        text-align: right;\n",
       "    }\n",
       "</style>\n",
       "<table border=\"1\" class=\"dataframe\">\n",
       "  <thead>\n",
       "    <tr style=\"text-align: right;\">\n",
       "      <th></th>\n",
       "      <th></th>\n",
       "      <th>F_1_d_returns</th>\n",
       "      <th>1_d_returns</th>\n",
       "    </tr>\n",
       "    <tr>\n",
       "      <th>Ticker</th>\n",
       "      <th>Date</th>\n",
       "      <th></th>\n",
       "      <th></th>\n",
       "    </tr>\n",
       "  </thead>\n",
       "  <tbody>\n",
       "    <tr>\n",
       "      <th rowspan=\"5\" valign=\"top\">ABBV</th>\n",
       "      <th>2013-01-03</th>\n",
       "      <td>-0.012633</td>\n",
       "      <td>-0.008258</td>\n",
       "    </tr>\n",
       "    <tr>\n",
       "      <th>2013-01-04</th>\n",
       "      <td>0.002035</td>\n",
       "      <td>-0.012633</td>\n",
       "    </tr>\n",
       "    <tr>\n",
       "      <th>2013-01-07</th>\n",
       "      <td>-0.021764</td>\n",
       "      <td>0.002035</td>\n",
       "    </tr>\n",
       "    <tr>\n",
       "      <th>2013-01-08</th>\n",
       "      <td>0.005637</td>\n",
       "      <td>-0.021764</td>\n",
       "    </tr>\n",
       "    <tr>\n",
       "      <th>2013-01-09</th>\n",
       "      <td>0.002950</td>\n",
       "      <td>0.005637</td>\n",
       "    </tr>\n",
       "    <tr>\n",
       "      <th>...</th>\n",
       "      <th>...</th>\n",
       "      <td>...</td>\n",
       "      <td>...</td>\n",
       "    </tr>\n",
       "    <tr>\n",
       "      <th rowspan=\"5\" valign=\"top\">ZTS</th>\n",
       "      <th>2024-04-23</th>\n",
       "      <td>0.008826</td>\n",
       "      <td>0.027621</td>\n",
       "    </tr>\n",
       "    <tr>\n",
       "      <th>2024-04-24</th>\n",
       "      <td>0.016437</td>\n",
       "      <td>0.008826</td>\n",
       "    </tr>\n",
       "    <tr>\n",
       "      <th>2024-04-25</th>\n",
       "      <td>0.032994</td>\n",
       "      <td>0.016437</td>\n",
       "    </tr>\n",
       "    <tr>\n",
       "      <th>2024-04-26</th>\n",
       "      <td>0.008080</td>\n",
       "      <td>0.032994</td>\n",
       "    </tr>\n",
       "    <tr>\n",
       "      <th>2024-04-29</th>\n",
       "      <td>-0.002880</td>\n",
       "      <td>0.008080</td>\n",
       "    </tr>\n",
       "  </tbody>\n",
       "</table>\n",
       "<p>1095456 rows × 2 columns</p>\n",
       "</div>"
      ],
      "text/plain": [
       "                   F_1_d_returns  1_d_returns\n",
       "Ticker Date                                  \n",
       "ABBV   2013-01-03      -0.012633    -0.008258\n",
       "       2013-01-04       0.002035    -0.012633\n",
       "       2013-01-07      -0.021764     0.002035\n",
       "       2013-01-08       0.005637    -0.021764\n",
       "       2013-01-09       0.002950     0.005637\n",
       "...                          ...          ...\n",
       "ZTS    2024-04-23       0.008826     0.027621\n",
       "       2024-04-24       0.016437     0.008826\n",
       "       2024-04-25       0.032994     0.016437\n",
       "       2024-04-26       0.008080     0.032994\n",
       "       2024-04-29      -0.002880     0.008080\n",
       "\n",
       "[1095456 rows x 2 columns]"
      ]
     },
     "execution_count": 9,
     "metadata": {},
     "output_type": "execute_result"
    }
   ],
   "source": [
    "total_returns"
   ]
  },
  {
   "cell_type": "code",
   "execution_count": 10,
   "id": "eba45154-563d-4866-9f0f-1c9e8974f1c9",
   "metadata": {},
   "outputs": [
    {
     "data": {
      "text/plain": [
       "204"
      ]
     },
     "execution_count": 10,
     "metadata": {},
     "output_type": "execute_result"
    }
   ],
   "source": [
    "total_returns.index.get_level_values('Ticker').nunique()"
   ]
  },
  {
   "cell_type": "code",
   "execution_count": 11,
   "id": "c640218e-7c98-4414-8885-cbc46143e015",
   "metadata": {},
   "outputs": [],
   "source": [
    "def calculate_rsi(returns, window=14):\n",
    "\n",
    "    return rsi"
   ]
  },
  {
   "cell_type": "code",
   "execution_count": null,
   "id": "4568311e-ff3b-4f75-b6aa-07b4e259006d",
   "metadata": {},
   "outputs": [],
   "source": []
  },
  {
   "cell_type": "code",
   "execution_count": null,
   "id": "59504fc9-1baf-4005-85a5-57be91927229",
   "metadata": {},
   "outputs": [],
   "source": []
  },
  {
   "cell_type": "code",
   "execution_count": 12,
   "id": "afe0971f-9870-4301-be55-1265d2e3899a",
   "metadata": {},
   "outputs": [],
   "source": [
    "returns = total_returns['1_d_returns']"
   ]
  },
  {
   "cell_type": "code",
   "execution_count": 13,
   "id": "dbead513-e99a-4a71-9565-7062a9aa1925",
   "metadata": {},
   "outputs": [
    {
     "data": {
      "text/plain": [
       "Ticker  Date      \n",
       "ABBV    2013-01-03   -0.008258\n",
       "        2013-01-04   -0.012633\n",
       "        2013-01-07    0.002035\n",
       "        2013-01-08   -0.021764\n",
       "        2013-01-09    0.005637\n",
       "                        ...   \n",
       "ZTS     2024-04-23    0.027621\n",
       "        2024-04-24    0.008826\n",
       "        2024-04-25    0.016437\n",
       "        2024-04-26    0.032994\n",
       "        2024-04-29    0.008080\n",
       "Name: 1_d_returns, Length: 1095456, dtype: float64"
      ]
     },
     "execution_count": 13,
     "metadata": {},
     "output_type": "execute_result"
    }
   ],
   "source": [
    "returns"
   ]
  },
  {
   "cell_type": "code",
   "execution_count": 14,
   "id": "1455df2b-10c7-449a-b537-f9006dce44b6",
   "metadata": {},
   "outputs": [
    {
     "data": {
      "text/plain": [
       "array([ True,  True,  True, ..., False, False, False])"
      ]
     },
     "execution_count": 14,
     "metadata": {},
     "output_type": "execute_result"
    }
   ],
   "source": [
    "returns.index.get_level_values(0)=='ABBV'"
   ]
  },
  {
   "cell_type": "code",
   "execution_count": 15,
   "id": "a68f59e2-bc8b-4c45-b31f-bb4c0c494254",
   "metadata": {},
   "outputs": [],
   "source": [
    "returns = returns[returns.index.get_level_values(0)=='ABBV']"
   ]
  },
  {
   "cell_type": "code",
   "execution_count": 16,
   "id": "cae7023c-3834-44ae-b773-d9235108f5a9",
   "metadata": {},
   "outputs": [
    {
     "data": {
      "text/plain": [
       "Ticker  Date      \n",
       "ABBV    2013-01-03   -0.008258\n",
       "        2013-01-04   -0.012633\n",
       "        2013-01-07    0.002035\n",
       "        2013-01-08   -0.021764\n",
       "        2013-01-09    0.005637\n",
       "                        ...   \n",
       "        2024-04-23    0.009828\n",
       "        2024-04-24   -0.010263\n",
       "        2024-04-25   -0.003039\n",
       "        2024-04-26   -0.045848\n",
       "        2024-04-29    0.011903\n",
       "Name: 1_d_returns, Length: 2849, dtype: float64"
      ]
     },
     "execution_count": 16,
     "metadata": {},
     "output_type": "execute_result"
    }
   ],
   "source": [
    "returns"
   ]
  },
  {
   "cell_type": "code",
   "execution_count": 17,
   "id": "ab47ff04-82c0-4a42-b826-8b9a922c7d9e",
   "metadata": {},
   "outputs": [],
   "source": [
    "window = 2"
   ]
  },
  {
   "cell_type": "code",
   "execution_count": 18,
   "id": "26959f2b-a31d-4bad-9ade-aefca5ce2830",
   "metadata": {},
   "outputs": [],
   "source": [
    "gain = returns[returns>0].dropna().rolling(window=window).mean()\n",
    "gain.name = 'gain'\n",
    "loss = returns[returns<0].dropna().rolling(window=window).mean()\n",
    "loss.name = 'loss'"
   ]
  },
  {
   "cell_type": "code",
   "execution_count": 19,
   "id": "f9d51cfd-5959-4a5b-942e-48ce33eaf1ee",
   "metadata": {},
   "outputs": [
    {
     "data": {
      "text/plain": [
       "Ticker  Date      \n",
       "ABBV    2013-01-07         NaN\n",
       "        2013-01-09    0.003836\n",
       "        2013-01-10    0.004293\n",
       "        2013-01-11    0.005195\n",
       "        2013-01-14    0.007265\n",
       "Name: gain, dtype: float64"
      ]
     },
     "execution_count": 19,
     "metadata": {},
     "output_type": "execute_result"
    }
   ],
   "source": [
    "gain.head()"
   ]
  },
  {
   "cell_type": "code",
   "execution_count": 20,
   "id": "2ff1a91e-159f-4f80-9ca8-196b935988c3",
   "metadata": {},
   "outputs": [
    {
     "data": {
      "text/plain": [
       "Ticker  Date      \n",
       "ABBV    2013-01-03         NaN\n",
       "        2013-01-04   -0.010445\n",
       "        2013-01-08   -0.017199\n",
       "        2013-01-22   -0.022940\n",
       "        2013-01-24   -0.016555\n",
       "Name: loss, dtype: float64"
      ]
     },
     "execution_count": 20,
     "metadata": {},
     "output_type": "execute_result"
    }
   ],
   "source": [
    "loss.head()"
   ]
  },
  {
   "cell_type": "code",
   "execution_count": 21,
   "id": "bed21658-18a3-4f9c-8010-0e2d4e803918",
   "metadata": {},
   "outputs": [],
   "source": [
    "returns = pd.merge(returns, gain, left_index=True, right_index=True, how='left')\n",
    "returns = pd.merge(returns, loss, left_index=True, right_index=True, how='left')\n",
    "    \n",
    "\n",
    "\n"
   ]
  },
  {
   "cell_type": "code",
   "execution_count": 26,
   "id": "0eba5b13-6116-468a-ae23-e0bbf4236826",
   "metadata": {},
   "outputs": [],
   "source": [
    "returns = returns.ffill()\n",
    "returns.dropna(inplace=True)"
   ]
  },
  {
   "cell_type": "code",
   "execution_count": 27,
   "id": "f809b8fe-09fb-434c-ab79-e26f8a305401",
   "metadata": {},
   "outputs": [],
   "source": [
    "ratio = returns['gain']/abs(returns['loss'])\n",
    "rsi = 100 - (100 / (1 + ratio))"
   ]
  },
  {
   "cell_type": "code",
   "execution_count": 28,
   "id": "00c9b044-d794-4f38-85e2-eecf3b3e6c86",
   "metadata": {},
   "outputs": [
    {
     "data": {
      "text/plain": [
       "Ticker  Date      \n",
       "ABBV    2013-01-09    18.236702\n",
       "        2013-01-10    19.975453\n",
       "        2013-01-11    23.198289\n",
       "        2013-01-14    29.697879\n",
       "        2013-01-15    39.063769\n",
       "                        ...    \n",
       "        2024-04-23    41.869915\n",
       "        2024-04-24    57.176328\n",
       "        2024-04-25    58.460979\n",
       "        2024-04-26    27.690663\n",
       "        2024-04-29    30.772349\n",
       "Length: 2845, dtype: float64"
      ]
     },
     "execution_count": 28,
     "metadata": {},
     "output_type": "execute_result"
    }
   ],
   "source": [
    "rsi"
   ]
  },
  {
   "cell_type": "code",
   "execution_count": null,
   "id": "964ac51c-50d5-444e-9661-1c129ef2d96d",
   "metadata": {},
   "outputs": [],
   "source": []
  },
  {
   "cell_type": "code",
   "execution_count": 24,
   "id": "90e378f7-75a3-4cef-be58-60e4b622fd8d",
   "metadata": {},
   "outputs": [],
   "source": [
    "# !pip install jupyterlab_vim"
   ]
  },
  {
   "cell_type": "code",
   "execution_count": null,
   "id": "216e985f-3754-4383-887a-da0375887f20",
   "metadata": {},
   "outputs": [],
   "source": []
  },
  {
   "cell_type": "code",
   "execution_count": 29,
   "id": "8c3f2b82-5827-4f06-ba8d-96846c8a78fb",
   "metadata": {},
   "outputs": [],
   "source": [
    "def calculate_rsi(returns, window=14):    \n",
    "    gain = returns[returns>0].dropna().rolling(window=window).mean()\n",
    "    gain.name = 'gain'\n",
    "    loss = returns[returns<0].dropna().rolling(window=window).mean()\n",
    "    loss.name = 'loss'\n",
    "    returns = pd.merge(returns, gain, left_index=True, right_index=True, how='left')\n",
    "    returns = pd.merge(returns, loss, left_index=True, right_index=True, how='left')\n",
    "    returns = returns.ffill()\n",
    "    returns.dropna(inplace=True)\n",
    "    ratio = returns['gain']/abs(returns['loss'])\n",
    "    rsi = 100 - (100 / (1 + ratio))\n",
    "    return rsi"
   ]
  },
  {
   "cell_type": "code",
   "execution_count": 30,
   "id": "e92e5b85-090c-45e6-8e79-0bfc5b1b4ce1",
   "metadata": {},
   "outputs": [
    {
     "data": {
      "text/html": [
       "<div>\n",
       "<style scoped>\n",
       "    .dataframe tbody tr th:only-of-type {\n",
       "        vertical-align: middle;\n",
       "    }\n",
       "\n",
       "    .dataframe tbody tr th {\n",
       "        vertical-align: top;\n",
       "    }\n",
       "\n",
       "    .dataframe thead th {\n",
       "        text-align: right;\n",
       "    }\n",
       "</style>\n",
       "<table border=\"1\" class=\"dataframe\">\n",
       "  <thead>\n",
       "    <tr style=\"text-align: right;\">\n",
       "      <th></th>\n",
       "      <th></th>\n",
       "      <th>F_1_d_returns</th>\n",
       "      <th>1_d_returns</th>\n",
       "    </tr>\n",
       "    <tr>\n",
       "      <th>Ticker</th>\n",
       "      <th>Date</th>\n",
       "      <th></th>\n",
       "      <th></th>\n",
       "    </tr>\n",
       "  </thead>\n",
       "  <tbody>\n",
       "    <tr>\n",
       "      <th rowspan=\"5\" valign=\"top\">ABBV</th>\n",
       "      <th>2013-01-03</th>\n",
       "      <td>-0.012633</td>\n",
       "      <td>-0.008258</td>\n",
       "    </tr>\n",
       "    <tr>\n",
       "      <th>2013-01-04</th>\n",
       "      <td>0.002035</td>\n",
       "      <td>-0.012633</td>\n",
       "    </tr>\n",
       "    <tr>\n",
       "      <th>2013-01-07</th>\n",
       "      <td>-0.021764</td>\n",
       "      <td>0.002035</td>\n",
       "    </tr>\n",
       "    <tr>\n",
       "      <th>2013-01-08</th>\n",
       "      <td>0.005637</td>\n",
       "      <td>-0.021764</td>\n",
       "    </tr>\n",
       "    <tr>\n",
       "      <th>2013-01-09</th>\n",
       "      <td>0.002950</td>\n",
       "      <td>0.005637</td>\n",
       "    </tr>\n",
       "  </tbody>\n",
       "</table>\n",
       "</div>"
      ],
      "text/plain": [
       "                   F_1_d_returns  1_d_returns\n",
       "Ticker Date                                  \n",
       "ABBV   2013-01-03      -0.012633    -0.008258\n",
       "       2013-01-04       0.002035    -0.012633\n",
       "       2013-01-07      -0.021764     0.002035\n",
       "       2013-01-08       0.005637    -0.021764\n",
       "       2013-01-09       0.002950     0.005637"
      ]
     },
     "execution_count": 30,
     "metadata": {},
     "output_type": "execute_result"
    }
   ],
   "source": [
    "total_returns.head()"
   ]
  },
  {
   "cell_type": "code",
   "execution_count": 31,
   "id": "c2780b4c-aabc-4088-93cd-9b88faf8caaf",
   "metadata": {},
   "outputs": [],
   "source": [
    "# Calculate the Relative Strength Index (RSI) for each 'Ticker' and add it to the 'total_returns' DataFrame.First, group the 'total_returns' DataFrame by the 'Ticker' column.\n",
    "# For each group, select the '1_d_returns' column and apply a transformation using the 'calculate_rsi' function from 'func_lib'.\n",
    "# - Assign the result to a new column named 'RSI' in the 'total_returns' DataFrame.\n",
    "total_returns['RSI'] = total_returns.groupby('Ticker')[['1_d_returns']].transform(func_lib.calculate_rsi)"
   ]
  },
  {
   "cell_type": "code",
   "execution_count": 32,
   "id": "2ffc3432-7be2-4ef8-a262-07e2a1c4f118",
   "metadata": {},
   "outputs": [
    {
     "data": {
      "text/html": [
       "<div>\n",
       "<style scoped>\n",
       "    .dataframe tbody tr th:only-of-type {\n",
       "        vertical-align: middle;\n",
       "    }\n",
       "\n",
       "    .dataframe tbody tr th {\n",
       "        vertical-align: top;\n",
       "    }\n",
       "\n",
       "    .dataframe thead th {\n",
       "        text-align: right;\n",
       "    }\n",
       "</style>\n",
       "<table border=\"1\" class=\"dataframe\">\n",
       "  <thead>\n",
       "    <tr style=\"text-align: right;\">\n",
       "      <th></th>\n",
       "      <th></th>\n",
       "      <th>F_1_d_returns</th>\n",
       "      <th>1_d_returns</th>\n",
       "      <th>RSI</th>\n",
       "    </tr>\n",
       "    <tr>\n",
       "      <th>Ticker</th>\n",
       "      <th>Date</th>\n",
       "      <th></th>\n",
       "      <th></th>\n",
       "      <th></th>\n",
       "    </tr>\n",
       "  </thead>\n",
       "  <tbody>\n",
       "    <tr>\n",
       "      <th rowspan=\"5\" valign=\"top\">ABBV</th>\n",
       "      <th>2013-01-03</th>\n",
       "      <td>-0.012633</td>\n",
       "      <td>-0.008258</td>\n",
       "      <td>NaN</td>\n",
       "    </tr>\n",
       "    <tr>\n",
       "      <th>2013-01-04</th>\n",
       "      <td>0.002035</td>\n",
       "      <td>-0.012633</td>\n",
       "      <td>NaN</td>\n",
       "    </tr>\n",
       "    <tr>\n",
       "      <th>2013-01-07</th>\n",
       "      <td>-0.021764</td>\n",
       "      <td>0.002035</td>\n",
       "      <td>NaN</td>\n",
       "    </tr>\n",
       "    <tr>\n",
       "      <th>2013-01-08</th>\n",
       "      <td>0.005637</td>\n",
       "      <td>-0.021764</td>\n",
       "      <td>NaN</td>\n",
       "    </tr>\n",
       "    <tr>\n",
       "      <th>2013-01-09</th>\n",
       "      <td>0.002950</td>\n",
       "      <td>0.005637</td>\n",
       "      <td>NaN</td>\n",
       "    </tr>\n",
       "  </tbody>\n",
       "</table>\n",
       "</div>"
      ],
      "text/plain": [
       "                   F_1_d_returns  1_d_returns  RSI\n",
       "Ticker Date                                       \n",
       "ABBV   2013-01-03      -0.012633    -0.008258  NaN\n",
       "       2013-01-04       0.002035    -0.012633  NaN\n",
       "       2013-01-07      -0.021764     0.002035  NaN\n",
       "       2013-01-08       0.005637    -0.021764  NaN\n",
       "       2013-01-09       0.002950     0.005637  NaN"
      ]
     },
     "execution_count": 32,
     "metadata": {},
     "output_type": "execute_result"
    }
   ],
   "source": [
    "total_returns.head()"
   ]
  },
  {
   "cell_type": "code",
   "execution_count": 42,
   "id": "4d903a77-2f71-4e0e-8988-c97aaa41c42c",
   "metadata": {},
   "outputs": [
    {
     "data": {
      "image/png": "[encoded data removed]",
      "text/plain": [
       "<Figure size 640x480 with 1 Axes>"
      ]
     },
     "metadata": {},
     "output_type": "display_data"
    }
   ],
   "source": [
    "histogram_plot = total_returns[['RSI']].hist(bins=50, ax=plt.gca(), color='skyblue', edgecolor='black')\n",
    "\n",
    "#Adding titles and labels\n",
    "plt.title('Distribution of Relative Strength Index (RSI)', fontsize=16)\n",
    "plt.xlabel('RSI', fontsize=14)\n",
    "plt.ylabel('Frequency', fontsize=14)\n",
    "plt.grid(True)\n",
    "plt.show()"
   ]
  },
  {
   "cell_type": "markdown",
   "id": "6faac6f5-fce3-4bb8-9a5f-ca3b49ffa696",
   "metadata": {},
   "source": [
    "# "
   ]
  },
  {
   "cell_type": "code",
   "execution_count": 43,
   "id": "7abf6da3-ef3d-4259-9d8c-b4537dcc0362",
   "metadata": {},
   "outputs": [
    {
     "data": {
      "image/png": "[encoded data removed]",
      "text/plain": [
       "<Figure size 640x480 with 1 Axes>"
      ]
     },
     "metadata": {},
     "output_type": "display_data"
    }
   ],
   "source": [
    "scatter_plot = total_returns.plot.scatter(x='RSI', y='F_1_d_returns', ax=plt.gca(), color='blue', alpha=0.6, s=0.01)\n",
    "\n",
    "plt.title('RSI vs 1-Day Forward Returns', fontsize=16)\n",
    "plt.xlabel('Relative Strength Index (RSI)', fontsize=14)\n",
    "plt.ylabel('1-Day Forward Returns', fontsize=14)\n",
    "plt.grid(True)\n",
    "plt.show()"
   ]
  },
  {
   "cell_type": "code",
   "execution_count": 45,
   "id": "0b9aefa0-6f1d-45f9-9a83-d5de9f6fa15b",
   "metadata": {},
   "outputs": [
    {
     "data": {
      "text/html": [
       "<style type=\"text/css\">\n",
       "#T_1fd6b_row0_col0, #T_1fd6b_row1_col1 {\n",
       "  background-color: #023858;\n",
       "  color: #f1f1f1;\n",
       "}\n",
       "#T_1fd6b_row0_col1, #T_1fd6b_row1_col0 {\n",
       "  background-color: #fff7fb;\n",
       "  color: #000000;\n",
       "}\n",
       "</style>\n",
       "<table id=\"T_1fd6b\">\n",
       "  <thead>\n",
       "    <tr>\n",
       "      <th class=\"blank level0\" >&nbsp;</th>\n",
       "      <th id=\"T_1fd6b_level0_col0\" class=\"col_heading level0 col0\" >F_1_d_returns</th>\n",
       "      <th id=\"T_1fd6b_level0_col1\" class=\"col_heading level0 col1\" >RSI</th>\n",
       "    </tr>\n",
       "  </thead>\n",
       "  <tbody>\n",
       "    <tr>\n",
       "      <th id=\"T_1fd6b_level0_row0\" class=\"row_heading level0 row0\" >F_1_d_returns</th>\n",
       "      <td id=\"T_1fd6b_row0_col0\" class=\"data row0 col0\" >1.000000</td>\n",
       "      <td id=\"T_1fd6b_row0_col1\" class=\"data row0 col1\" >-0.004421</td>\n",
       "    </tr>\n",
       "    <tr>\n",
       "      <th id=\"T_1fd6b_level0_row1\" class=\"row_heading level0 row1\" >RSI</th>\n",
       "      <td id=\"T_1fd6b_row1_col0\" class=\"data row1 col0\" >-0.004421</td>\n",
       "      <td id=\"T_1fd6b_row1_col1\" class=\"data row1 col1\" >1.000000</td>\n",
       "    </tr>\n",
       "  </tbody>\n",
       "</table>\n"
      ],
      "text/plain": [
       "<pandas.io.formats.style.Styler at 0x7fdc3d6cf3d0>"
      ]
     },
     "execution_count": 45,
     "metadata": {},
     "output_type": "execute_result"
    }
   ],
   "source": [
    "total_returns[['F_1_d_returns', 'RSI']].corr().style.background_gradient()"
   ]
  },
  {
   "cell_type": "code",
   "execution_count": 48,
   "id": "161c03a6-872d-4d69-9d37-e0ac1ea858e2",
   "metadata": {},
   "outputs": [
    {
     "data": {
      "text/plain": [
       "<Axes: xlabel='Quantiles'>"
      ]
     },
     "execution_count": 48,
     "metadata": {},
     "output_type": "execute_result"
    },
    {
     "data": {
      "image/png": "[encoded data removed]",
      "text/plain": [
       "<Figure size 640x480 with 1 Axes>"
      ]
     },
     "metadata": {},
     "output_type": "display_data"
    }
   ],
   "source": [
    "feature = 'RSI'\n",
    "target = 'F_1_d_returns'\n",
    "\n",
    "#Specify cusom bin boundaries\n",
    "bin_boundaries = [0, 30, 70, 100]\n",
    "\n",
    "total_returns['Quantiles'] = total_returns.groupby(level='Date')[feature].transform(lambda x: pd.cut(x, bins=bin_boundaries, labels=False))\n",
    "\n",
    "total_returns.groupby('Quantiles')[[target]].mean().plot(kind='bar', legend=True)"
   ]
  },
  {
   "cell_type": "code",
   "execution_count": 49,
   "id": "0810734b-5ae9-4528-93dc-cdf50a8a62c6",
   "metadata": {},
   "outputs": [
    {
     "data": {
      "text/html": [
       "<div>\n",
       "<style scoped>\n",
       "    .dataframe tbody tr th:only-of-type {\n",
       "        vertical-align: middle;\n",
       "    }\n",
       "\n",
       "    .dataframe tbody tr th {\n",
       "        vertical-align: top;\n",
       "    }\n",
       "\n",
       "    .dataframe thead th {\n",
       "        text-align: right;\n",
       "    }\n",
       "</style>\n",
       "<table border=\"1\" class=\"dataframe\">\n",
       "  <thead>\n",
       "    <tr style=\"text-align: right;\">\n",
       "      <th></th>\n",
       "      <th>F_1_d_returns</th>\n",
       "      <th>1_d_returns</th>\n",
       "      <th>RSI</th>\n",
       "      <th>Quantiles</th>\n",
       "    </tr>\n",
       "  </thead>\n",
       "  <tbody>\n",
       "    <tr>\n",
       "      <th>count</th>\n",
       "      <td>6500.000000</td>\n",
       "      <td>6500.000000</td>\n",
       "      <td>6500.000000</td>\n",
       "      <td>6500.0</td>\n",
       "    </tr>\n",
       "    <tr>\n",
       "      <th>mean</th>\n",
       "      <td>0.002994</td>\n",
       "      <td>-0.015350</td>\n",
       "      <td>27.295521</td>\n",
       "      <td>0.0</td>\n",
       "    </tr>\n",
       "    <tr>\n",
       "      <th>std</th>\n",
       "      <td>0.040399</td>\n",
       "      <td>0.048259</td>\n",
       "      <td>2.564657</td>\n",
       "      <td>0.0</td>\n",
       "    </tr>\n",
       "    <tr>\n",
       "      <th>min</th>\n",
       "      <td>-0.531402</td>\n",
       "      <td>-0.680525</td>\n",
       "      <td>8.007113</td>\n",
       "      <td>0.0</td>\n",
       "    </tr>\n",
       "    <tr>\n",
       "      <th>25%</th>\n",
       "      <td>-0.010049</td>\n",
       "      <td>-0.020734</td>\n",
       "      <td>26.219468</td>\n",
       "      <td>0.0</td>\n",
       "    </tr>\n",
       "    <tr>\n",
       "      <th>50%</th>\n",
       "      <td>0.001260</td>\n",
       "      <td>-0.002225</td>\n",
       "      <td>28.043005</td>\n",
       "      <td>0.0</td>\n",
       "    </tr>\n",
       "    <tr>\n",
       "      <th>75%</th>\n",
       "      <td>0.013828</td>\n",
       "      <td>0.005391</td>\n",
       "      <td>29.164905</td>\n",
       "      <td>0.0</td>\n",
       "    </tr>\n",
       "    <tr>\n",
       "      <th>max</th>\n",
       "      <td>0.745933</td>\n",
       "      <td>0.294664</td>\n",
       "      <td>29.999082</td>\n",
       "      <td>0.0</td>\n",
       "    </tr>\n",
       "  </tbody>\n",
       "</table>\n",
       "</div>"
      ],
      "text/plain": [
       "       F_1_d_returns  1_d_returns          RSI  Quantiles\n",
       "count    6500.000000  6500.000000  6500.000000     6500.0\n",
       "mean        0.002994    -0.015350    27.295521        0.0\n",
       "std         0.040399     0.048259     2.564657        0.0\n",
       "min        -0.531402    -0.680525     8.007113        0.0\n",
       "25%        -0.010049    -0.020734    26.219468        0.0\n",
       "50%         0.001260    -0.002225    28.043005        0.0\n",
       "75%         0.013828     0.005391    29.164905        0.0\n",
       "max         0.745933     0.294664    29.999082        0.0"
      ]
     },
     "execution_count": 49,
     "metadata": {},
     "output_type": "execute_result"
    }
   ],
   "source": [
    "total_returns[total_returns['RSI']<30].describe()"
   ]
  },
  {
   "cell_type": "code",
   "execution_count": null,
   "id": "e5f73554",
   "metadata": {},
   "outputs": [],
   "source": []
  }
 ],
 "metadata": {
  "kernelspec": {
   "display_name": "Python 3 (ipykernel)",
   "language": "python",
   "name": "python3"
  },
  "language_info": {
   "codemirror_mode": {
    "name": "ipython",
    "version": 3
   },
   "file_extension": ".py",
   "mimetype": "text/x-python",
   "name": "python",
   "nbconvert_exporter": "python",
   "pygments_lexer": "ipython3",
   "version": "3.10.13"
  }
 },
 "nbformat": 4,
 "nbformat_minor": 5
}
