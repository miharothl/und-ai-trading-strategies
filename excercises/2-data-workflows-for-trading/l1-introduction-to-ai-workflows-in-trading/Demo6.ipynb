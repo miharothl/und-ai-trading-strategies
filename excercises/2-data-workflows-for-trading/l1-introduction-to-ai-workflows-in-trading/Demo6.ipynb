{
 "cells": [
  {
   "cell_type": "markdown",
   "id": "ffd5516d-e47a-42c0-988a-6d72874336a1",
   "metadata": {},
   "source": [
    "# Demo 6: Confusion Metrix\n"
   ]
  },
  {
   "cell_type": "code",
   "execution_count": 1,
   "id": "85a136b7-fa22-4542-827c-047ff2c4d97a",
   "metadata": {},
   "outputs": [],
   "source": [
    "import sys\n",
    "import os\n",
    "\n",
    "# Manually set the path relative to the py file's location that you want to import\n",
    "func_lib_path = os.path.abspath(os.path.join(os.getcwd(), '../'))\n",
    "# Add the path to sys.path\n",
    "sys.path.append(func_lib_path)\n",
    "# Now you can import func_lib\n",
    "import func_lib\n",
    "\n",
    "import pandas as pd\n",
    "import matplotlib.pyplot as plt\n",
    "import numpy as np\n",
    "# Calculate accuracy, precision, and recall\n",
    "from sklearn.metrics import accuracy_score, precision_score, recall_score"
   ]
  },
  {
   "cell_type": "code",
   "execution_count": 2,
   "id": "3179d4bb-f726-45a8-914a-7137d8d6181b",
   "metadata": {},
   "outputs": [],
   "source": [
    "# !pip install pyarrow"
   ]
  },
  {
   "cell_type": "code",
   "execution_count": 3,
   "id": "181313ed-1616-4e2d-98de-b4bd55d080f4",
   "metadata": {
    "scrolled": true
   },
   "outputs": [
    {
     "name": "stdout",
     "output_type": "stream",
     "text": [
      "Loading historical prices from hp.pkl\n"
     ]
    }
   ],
   "source": [
    "#  Create a variable named 'historical_prices' to store historical price data between the dates'2005-01-01' and '2015-01-01'. Use the function 'create_hist_prices()' from 'func_lib' to generate or retrieve the historical prices.\n",
    "historical_prices = func_lib.create_hist_prices( data_file='hp.pkl')"
   ]
  },
  {
   "cell_type": "code",
   "execution_count": 4,
   "id": "19c5616c-727b-4857-8bcc-445671c25d96",
   "metadata": {},
   "outputs": [
    {
     "data": {
      "text/html": [
       "<div>\n",
       "<style scoped>\n",
       "    .dataframe tbody tr th:only-of-type {\n",
       "        vertical-align: middle;\n",
       "    }\n",
       "\n",
       "    .dataframe tbody tr th {\n",
       "        vertical-align: top;\n",
       "    }\n",
       "\n",
       "    .dataframe thead th {\n",
       "        text-align: right;\n",
       "    }\n",
       "</style>\n",
       "<table border=\"1\" class=\"dataframe\">\n",
       "  <thead>\n",
       "    <tr style=\"text-align: right;\">\n",
       "      <th>Ticker</th>\n",
       "      <th>ABBV</th>\n",
       "      <th>ABNB</th>\n",
       "      <th>ACGL</th>\n",
       "      <th>ACN</th>\n",
       "      <th>ADI</th>\n",
       "      <th>ADM</th>\n",
       "      <th>ADSK</th>\n",
       "      <th>AES</th>\n",
       "      <th>AFL</th>\n",
       "      <th>AKAM</th>\n",
       "      <th>...</th>\n",
       "      <th>WBD</th>\n",
       "      <th>WEC</th>\n",
       "      <th>WSM</th>\n",
       "      <th>WST</th>\n",
       "      <th>WYNN</th>\n",
       "      <th>XEL</th>\n",
       "      <th>XYL</th>\n",
       "      <th>ZBH</th>\n",
       "      <th>ZBRA</th>\n",
       "      <th>ZTS</th>\n",
       "    </tr>\n",
       "    <tr>\n",
       "      <th>Date</th>\n",
       "      <th></th>\n",
       "      <th></th>\n",
       "      <th></th>\n",
       "      <th></th>\n",
       "      <th></th>\n",
       "      <th></th>\n",
       "      <th></th>\n",
       "      <th></th>\n",
       "      <th></th>\n",
       "      <th></th>\n",
       "      <th></th>\n",
       "      <th></th>\n",
       "      <th></th>\n",
       "      <th></th>\n",
       "      <th></th>\n",
       "      <th></th>\n",
       "      <th></th>\n",
       "      <th></th>\n",
       "      <th></th>\n",
       "      <th></th>\n",
       "      <th></th>\n",
       "    </tr>\n",
       "  </thead>\n",
       "  <tbody>\n",
       "    <tr>\n",
       "      <th>2000-01-03</th>\n",
       "      <td>NaN</td>\n",
       "      <td>NaN</td>\n",
       "      <td>1.215037</td>\n",
       "      <td>NaN</td>\n",
       "      <td>27.973982</td>\n",
       "      <td>6.179295</td>\n",
       "      <td>8.052905</td>\n",
       "      <td>24.029154</td>\n",
       "      <td>6.777081</td>\n",
       "      <td>321.250</td>\n",
       "      <td>...</td>\n",
       "      <td>NaN</td>\n",
       "      <td>4.183430</td>\n",
       "      <td>6.985486</td>\n",
       "      <td>5.409514</td>\n",
       "      <td>NaN</td>\n",
       "      <td>6.735727</td>\n",
       "      <td>NaN</td>\n",
       "      <td>NaN</td>\n",
       "      <td>25.027779</td>\n",
       "      <td>NaN</td>\n",
       "    </tr>\n",
       "    <tr>\n",
       "      <th>2000-01-04</th>\n",
       "      <td>NaN</td>\n",
       "      <td>NaN</td>\n",
       "      <td>1.208433</td>\n",
       "      <td>NaN</td>\n",
       "      <td>26.558800</td>\n",
       "      <td>6.114925</td>\n",
       "      <td>7.660816</td>\n",
       "      <td>23.076260</td>\n",
       "      <td>6.597239</td>\n",
       "      <td>300.000</td>\n",
       "      <td>...</td>\n",
       "      <td>NaN</td>\n",
       "      <td>4.210863</td>\n",
       "      <td>6.765312</td>\n",
       "      <td>5.465397</td>\n",
       "      <td>NaN</td>\n",
       "      <td>6.890827</td>\n",
       "      <td>NaN</td>\n",
       "      <td>NaN</td>\n",
       "      <td>24.666668</td>\n",
       "      <td>NaN</td>\n",
       "    </tr>\n",
       "    <tr>\n",
       "      <th>2000-01-05</th>\n",
       "      <td>NaN</td>\n",
       "      <td>NaN</td>\n",
       "      <td>1.320692</td>\n",
       "      <td>NaN</td>\n",
       "      <td>26.946508</td>\n",
       "      <td>6.018376</td>\n",
       "      <td>7.178246</td>\n",
       "      <td>23.324844</td>\n",
       "      <td>6.559378</td>\n",
       "      <td>283.500</td>\n",
       "      <td>...</td>\n",
       "      <td>NaN</td>\n",
       "      <td>4.402890</td>\n",
       "      <td>6.805344</td>\n",
       "      <td>5.443047</td>\n",
       "      <td>NaN</td>\n",
       "      <td>7.156703</td>\n",
       "      <td>NaN</td>\n",
       "      <td>NaN</td>\n",
       "      <td>25.138889</td>\n",
       "      <td>NaN</td>\n",
       "    </tr>\n",
       "    <tr>\n",
       "      <th>2000-01-06</th>\n",
       "      <td>NaN</td>\n",
       "      <td>NaN</td>\n",
       "      <td>1.307485</td>\n",
       "      <td>NaN</td>\n",
       "      <td>26.209841</td>\n",
       "      <td>6.050557</td>\n",
       "      <td>6.740915</td>\n",
       "      <td>23.511276</td>\n",
       "      <td>6.691895</td>\n",
       "      <td>236.125</td>\n",
       "      <td>...</td>\n",
       "      <td>NaN</td>\n",
       "      <td>4.389174</td>\n",
       "      <td>5.444275</td>\n",
       "      <td>5.387166</td>\n",
       "      <td>NaN</td>\n",
       "      <td>7.090238</td>\n",
       "      <td>NaN</td>\n",
       "      <td>NaN</td>\n",
       "      <td>23.777779</td>\n",
       "      <td>NaN</td>\n",
       "    </tr>\n",
       "    <tr>\n",
       "      <th>2000-01-07</th>\n",
       "      <td>NaN</td>\n",
       "      <td>NaN</td>\n",
       "      <td>1.380124</td>\n",
       "      <td>NaN</td>\n",
       "      <td>26.946508</td>\n",
       "      <td>6.147111</td>\n",
       "      <td>7.540174</td>\n",
       "      <td>23.967005</td>\n",
       "      <td>6.824407</td>\n",
       "      <td>248.375</td>\n",
       "      <td>...</td>\n",
       "      <td>NaN</td>\n",
       "      <td>4.444040</td>\n",
       "      <td>5.354205</td>\n",
       "      <td>5.443047</td>\n",
       "      <td>NaN</td>\n",
       "      <td>7.090238</td>\n",
       "      <td>NaN</td>\n",
       "      <td>NaN</td>\n",
       "      <td>23.513889</td>\n",
       "      <td>NaN</td>\n",
       "    </tr>\n",
       "  </tbody>\n",
       "</table>\n",
       "<p>5 rows × 204 columns</p>\n",
       "</div>"
      ],
      "text/plain": [
       "Ticker      ABBV  ABNB      ACGL  ACN        ADI       ADM      ADSK  \\\n",
       "Date                                                                   \n",
       "2000-01-03   NaN   NaN  1.215037  NaN  27.973982  6.179295  8.052905   \n",
       "2000-01-04   NaN   NaN  1.208433  NaN  26.558800  6.114925  7.660816   \n",
       "2000-01-05   NaN   NaN  1.320692  NaN  26.946508  6.018376  7.178246   \n",
       "2000-01-06   NaN   NaN  1.307485  NaN  26.209841  6.050557  6.740915   \n",
       "2000-01-07   NaN   NaN  1.380124  NaN  26.946508  6.147111  7.540174   \n",
       "\n",
       "Ticker            AES       AFL     AKAM  ...  WBD       WEC       WSM  \\\n",
       "Date                                      ...                            \n",
       "2000-01-03  24.029154  6.777081  321.250  ...  NaN  4.183430  6.985486   \n",
       "2000-01-04  23.076260  6.597239  300.000  ...  NaN  4.210863  6.765312   \n",
       "2000-01-05  23.324844  6.559378  283.500  ...  NaN  4.402890  6.805344   \n",
       "2000-01-06  23.511276  6.691895  236.125  ...  NaN  4.389174  5.444275   \n",
       "2000-01-07  23.967005  6.824407  248.375  ...  NaN  4.444040  5.354205   \n",
       "\n",
       "Ticker           WST  WYNN       XEL  XYL  ZBH       ZBRA  ZTS  \n",
       "Date                                                            \n",
       "2000-01-03  5.409514   NaN  6.735727  NaN  NaN  25.027779  NaN  \n",
       "2000-01-04  5.465397   NaN  6.890827  NaN  NaN  24.666668  NaN  \n",
       "2000-01-05  5.443047   NaN  7.156703  NaN  NaN  25.138889  NaN  \n",
       "2000-01-06  5.387166   NaN  7.090238  NaN  NaN  23.777779  NaN  \n",
       "2000-01-07  5.443047   NaN  7.090238  NaN  NaN  23.513889  NaN  \n",
       "\n",
       "[5 rows x 204 columns]"
      ]
     },
     "execution_count": 4,
     "metadata": {},
     "output_type": "execute_result"
    }
   ],
   "source": [
    "historical_prices.head()"
   ]
  },
  {
   "cell_type": "code",
   "execution_count": null,
   "id": "113aca5e-f706-46d7-b115-c01ac34f1a4d",
   "metadata": {},
   "outputs": [],
   "source": []
  },
  {
   "cell_type": "code",
   "execution_count": 5,
   "id": "30b271b3-c3fe-46d3-8dca-41042b6667ff",
   "metadata": {
    "scrolled": true
   },
   "outputs": [],
   "source": [
    "# Create a list named 'list_of_momentums' and add 1 to the list\n",
    "list_of_momentums = [1]\n",
    "# Compute the total returns using the historical prices and the list of momentums. Use the 'compute_returns()' function from 'func_lib'. Pass 'historical_prices' and 'list_of_momentums' as arguments to 'func_lib.compute_returns()'.\n",
    "# - Store the result in a variable named 'total_returns'.\n",
    "total_returns     = func_lib.compute_returns(historical_prices, list_of_momentums)\n",
    "total_returns.dropna(inplace=True)"
   ]
  },
  {
   "cell_type": "code",
   "execution_count": 6,
   "id": "bb34b167-f372-4899-b01a-c16b08dbdc1e",
   "metadata": {},
   "outputs": [
    {
     "data": {
      "text/html": [
       "<div>\n",
       "<style scoped>\n",
       "    .dataframe tbody tr th:only-of-type {\n",
       "        vertical-align: middle;\n",
       "    }\n",
       "\n",
       "    .dataframe tbody tr th {\n",
       "        vertical-align: top;\n",
       "    }\n",
       "\n",
       "    .dataframe thead th {\n",
       "        text-align: right;\n",
       "    }\n",
       "</style>\n",
       "<table border=\"1\" class=\"dataframe\">\n",
       "  <thead>\n",
       "    <tr style=\"text-align: right;\">\n",
       "      <th></th>\n",
       "      <th></th>\n",
       "      <th>F_1_d_returns</th>\n",
       "      <th>1_d_returns</th>\n",
       "    </tr>\n",
       "    <tr>\n",
       "      <th>Ticker</th>\n",
       "      <th>Date</th>\n",
       "      <th></th>\n",
       "      <th></th>\n",
       "    </tr>\n",
       "  </thead>\n",
       "  <tbody>\n",
       "    <tr>\n",
       "      <th rowspan=\"5\" valign=\"top\">ABBV</th>\n",
       "      <th>2013-01-03</th>\n",
       "      <td>-0.012633</td>\n",
       "      <td>-0.008258</td>\n",
       "    </tr>\n",
       "    <tr>\n",
       "      <th>2013-01-04</th>\n",
       "      <td>0.002035</td>\n",
       "      <td>-0.012633</td>\n",
       "    </tr>\n",
       "    <tr>\n",
       "      <th>2013-01-07</th>\n",
       "      <td>-0.021764</td>\n",
       "      <td>0.002035</td>\n",
       "    </tr>\n",
       "    <tr>\n",
       "      <th>2013-01-08</th>\n",
       "      <td>0.005637</td>\n",
       "      <td>-0.021764</td>\n",
       "    </tr>\n",
       "    <tr>\n",
       "      <th>2013-01-09</th>\n",
       "      <td>0.002950</td>\n",
       "      <td>0.005637</td>\n",
       "    </tr>\n",
       "  </tbody>\n",
       "</table>\n",
       "</div>"
      ],
      "text/plain": [
       "                   F_1_d_returns  1_d_returns\n",
       "Ticker Date                                  \n",
       "ABBV   2013-01-03      -0.012633    -0.008258\n",
       "       2013-01-04       0.002035    -0.012633\n",
       "       2013-01-07      -0.021764     0.002035\n",
       "       2013-01-08       0.005637    -0.021764\n",
       "       2013-01-09       0.002950     0.005637"
      ]
     },
     "execution_count": 6,
     "metadata": {},
     "output_type": "execute_result"
    }
   ],
   "source": [
    "total_returns.head()"
   ]
  },
  {
   "cell_type": "code",
   "execution_count": 7,
   "id": "af9656c0-d0ca-43ae-8137-2c488aa39881",
   "metadata": {},
   "outputs": [
    {
     "data": {
      "image/png": "[encoded data removed]",
      "text/plain": [
       "<Figure size 640x480 with 1 Axes>"
      ]
     },
     "metadata": {},
     "output_type": "display_data"
    },
    {
     "name": "stdout",
     "output_type": "stream",
     "text": [
      "The CAGR is: 17.89%\n",
      "Sharpe Ratio of Strategy: 0.89\n"
     ]
    },
    {
     "data": {
      "image/png": "[encoded data removed]",
      "text/plain": [
       "<Figure size 640x480 with 1 Axes>"
      ]
     },
     "metadata": {},
     "output_type": "display_data"
    }
   ],
   "source": [
    "# Compute cumulative and calendar returns from the total returns data. \n",
    "# Use the 'compute_BM_Perf()' function from 'func_lib' to perform this calculation. \n",
    "# Pass 'total_returns' as an argument to 'func_lib.compute_BM_Perf()'.\n",
    "# - The function returns two outputs: 'cum_returns' for cumulative returns and 'calendar_returns' for calendar returns.\n",
    "# - Assign the outputs to the variables 'cum_returns' and 'calendar_returns' respectively.\n",
    "cum_returns, calendar_returns  = func_lib.compute_BM_Perf(total_returns)"
   ]
  },
  {
   "cell_type": "code",
   "execution_count": 8,
   "id": "bf7c72d3-44ec-48b7-88c4-12f87d088cd5",
   "metadata": {},
   "outputs": [],
   "source": [
    "# Calculate the Relative Strength Index (RSI) for each 'Ticker' and add it to the 'total_returns' DataFrame.First, group the 'total_returns' DataFrame by the 'Ticker' column.\n",
    "# For each group, select the '1_d_returns' column and apply a transformation using the 'calculate_rsi' function from 'func_lib'.\n",
    "# - Assign the result to a new column named 'RSI' in the 'total_returns' DataFrame.\n",
    "total_returns['RSI'] = total_returns.groupby('Ticker')[['1_d_returns']].transform(func_lib.calculate_rsi)"
   ]
  },
  {
   "cell_type": "code",
   "execution_count": 9,
   "id": "f717214a-e0c5-4fdc-a116-f3e78f802811",
   "metadata": {},
   "outputs": [
    {
     "data": {
      "text/html": [
       "<div>\n",
       "<style scoped>\n",
       "    .dataframe tbody tr th:only-of-type {\n",
       "        vertical-align: middle;\n",
       "    }\n",
       "\n",
       "    .dataframe tbody tr th {\n",
       "        vertical-align: top;\n",
       "    }\n",
       "\n",
       "    .dataframe thead th {\n",
       "        text-align: right;\n",
       "    }\n",
       "</style>\n",
       "<table border=\"1\" class=\"dataframe\">\n",
       "  <thead>\n",
       "    <tr style=\"text-align: right;\">\n",
       "      <th></th>\n",
       "      <th></th>\n",
       "      <th>F_1_d_returns</th>\n",
       "      <th>1_d_returns</th>\n",
       "      <th>RSI</th>\n",
       "    </tr>\n",
       "    <tr>\n",
       "      <th>Ticker</th>\n",
       "      <th>Date</th>\n",
       "      <th></th>\n",
       "      <th></th>\n",
       "      <th></th>\n",
       "    </tr>\n",
       "  </thead>\n",
       "  <tbody>\n",
       "    <tr>\n",
       "      <th rowspan=\"5\" valign=\"top\">ABBV</th>\n",
       "      <th>2013-01-03</th>\n",
       "      <td>-0.012633</td>\n",
       "      <td>-0.008258</td>\n",
       "      <td>NaN</td>\n",
       "    </tr>\n",
       "    <tr>\n",
       "      <th>2013-01-04</th>\n",
       "      <td>0.002035</td>\n",
       "      <td>-0.012633</td>\n",
       "      <td>NaN</td>\n",
       "    </tr>\n",
       "    <tr>\n",
       "      <th>2013-01-07</th>\n",
       "      <td>-0.021764</td>\n",
       "      <td>0.002035</td>\n",
       "      <td>NaN</td>\n",
       "    </tr>\n",
       "    <tr>\n",
       "      <th>2013-01-08</th>\n",
       "      <td>0.005637</td>\n",
       "      <td>-0.021764</td>\n",
       "      <td>NaN</td>\n",
       "    </tr>\n",
       "    <tr>\n",
       "      <th>2013-01-09</th>\n",
       "      <td>0.002950</td>\n",
       "      <td>0.005637</td>\n",
       "      <td>NaN</td>\n",
       "    </tr>\n",
       "  </tbody>\n",
       "</table>\n",
       "</div>"
      ],
      "text/plain": [
       "                   F_1_d_returns  1_d_returns  RSI\n",
       "Ticker Date                                       \n",
       "ABBV   2013-01-03      -0.012633    -0.008258  NaN\n",
       "       2013-01-04       0.002035    -0.012633  NaN\n",
       "       2013-01-07      -0.021764     0.002035  NaN\n",
       "       2013-01-08       0.005637    -0.021764  NaN\n",
       "       2013-01-09       0.002950     0.005637  NaN"
      ]
     },
     "execution_count": 9,
     "metadata": {},
     "output_type": "execute_result"
    }
   ],
   "source": [
    "total_returns.head()"
   ]
  },
  {
   "cell_type": "code",
   "execution_count": null,
   "id": "6a7b034b-27d3-4264-b9f0-27c877f9fd00",
   "metadata": {},
   "outputs": [],
   "source": []
  },
  {
   "cell_type": "code",
   "execution_count": 10,
   "id": "9eaae485-0853-4357-9ab8-a3916c7ff960",
   "metadata": {},
   "outputs": [],
   "source": [
    "def trading_strategy(rsi):\n",
    "    if rsi < 30:\n",
    "        return  1 # Go long\n",
    "    else:\n",
    "        return 0\n",
    "\n",
    "model_name = 'RSI'"
   ]
  },
  {
   "cell_type": "code",
   "execution_count": 11,
   "id": "dc7796e4-9dac-4653-9356-448eca6a9c47",
   "metadata": {},
   "outputs": [
    {
     "data": {
      "image/png": "[encoded data removed]",
      "text/plain": [
       "<Figure size 640x480 with 1 Axes>"
      ]
     },
     "metadata": {},
     "output_type": "display_data"
    },
    {
     "name": "stdout",
     "output_type": "stream",
     "text": [
      "The CAGR is: 0.44%\n",
      "Sharpe Ratio of Strategy: 0.45\n"
     ]
    },
    {
     "data": {
      "image/png": "[encoded data removed]",
      "text/plain": [
       "<Figure size 640x480 with 1 Axes>"
      ]
     },
     "metadata": {},
     "output_type": "display_data"
    }
   ],
   "source": [
    "# Compute cumulative and calendar returns for the given trading strategy.\n",
    "# Use the 'compute_strat_perf()' function from 'func_lib' to perform this calculation.\n",
    "# Pass 'total_returns', 'cum_returns', 'calendar_returns', 'trading_strategy', and 'model_name' as arguments.\n",
    "# - The function returns updated 'cum_returns' and 'calendar_returns' based on the strategy's performance.\n",
    "cum_returns, calendar_returns  = func_lib.compute_strat_perf(total_returns, cum_returns, calendar_returns, trading_strategy, model_name)"
   ]
  },
  {
   "cell_type": "code",
   "execution_count": null,
   "id": "912d4120-e212-4931-adfc-75bb3dd57209",
   "metadata": {},
   "outputs": [],
   "source": []
  },
  {
   "cell_type": "code",
   "execution_count": 15,
   "id": "3f2c53b0-5e72-4c8f-9449-bc527c005ac6",
   "metadata": {},
   "outputs": [],
   "source": [
    "# Create the true values (y_test) indicating whether future 1-day returns (F_1_d_returns) are larger or smaller than 0.\n",
    "# Use the 'np.where()' function to evaluate the 'F_1_d_returns' column in the 'total_returns' DataFrame.\n",
    "# Store the result in a new column called 'y_test' in the 'total_returns' DataFrame.\n",
    "total_returns['y_test'] = np.where(total_returns['F_1_d_returns']>0,1,0)\n",
    "# Copy the values from the 'Position' column of 'total_returns' to a new column named 'y_pred'.\n",
    "total_returns['y_pred'] = total_returns['Position']"
   ]
  },
  {
   "cell_type": "code",
   "execution_count": 16,
   "id": "087dbf6f-01c7-40ba-86e1-87aa515940b5",
   "metadata": {},
   "outputs": [],
   "source": [
    "# Convert the 'y_test' column from the 'total_returns' DataFrame to a list using the 'tolist()' method.\n",
    "# Store the result in a variable named 'y_test'.\n",
    "# Similarly, convert the 'y_pred' column to a list and store it in a variable named 'y_pred'.\n",
    "y_test = total_returns['y_test'].tolist()\n",
    "y_pred = total_returns['y_pred'].tolist()"
   ]
  },
  {
   "cell_type": "code",
   "execution_count": null,
   "id": "60656317-bf5c-45cf-beff-9359d950ca33",
   "metadata": {},
   "outputs": [],
   "source": []
  },
  {
   "cell_type": "code",
   "execution_count": 17,
   "id": "2aa1bdd3-b177-4f1f-aae3-5074e029e9e2",
   "metadata": {},
   "outputs": [],
   "source": [
    "accuracy = accuracy_score(y_test, y_pred)\n",
    "precision = precision_score(y_test, y_pred)\n",
    "recall = recall_score(y_test, y_pred)"
   ]
  },
  {
   "cell_type": "code",
   "execution_count": 18,
   "id": "fbe81d66-aae8-4bc1-b8b9-7945f4f8d40c",
   "metadata": {},
   "outputs": [],
   "source": [
    "# Create a DataFrame named 'metrics_df' using the 'pd.DataFrame()' function.\n",
    "# Define a dictionary with two keys: 'Metric' and 'Value'.\n",
    "#     - The 'Metric' key should have a list of strings: ['Accuracy', 'Precision', 'Recall'].\n",
    "#     - The 'Value' key should have a list of the calculated metrics: [accuracy, precision, recall].\n",
    "metrics_df = pd.DataFrame({\n",
    "    'Metric': ['Accuracy', 'Precision', 'Recall'],\n",
    "    'Value': [accuracy, precision, recall]\n",
    "})"
   ]
  },
  {
   "cell_type": "code",
   "execution_count": 19,
   "id": "fbb99dfb-3200-4d31-9c66-49f127f912f5",
   "metadata": {},
   "outputs": [
    {
     "data": {
      "text/html": [
       "<div>\n",
       "<style scoped>\n",
       "    .dataframe tbody tr th:only-of-type {\n",
       "        vertical-align: middle;\n",
       "    }\n",
       "\n",
       "    .dataframe tbody tr th {\n",
       "        vertical-align: top;\n",
       "    }\n",
       "\n",
       "    .dataframe thead th {\n",
       "        text-align: right;\n",
       "    }\n",
       "</style>\n",
       "<table border=\"1\" class=\"dataframe\">\n",
       "  <thead>\n",
       "    <tr style=\"text-align: right;\">\n",
       "      <th></th>\n",
       "      <th>Metric</th>\n",
       "      <th>Value</th>\n",
       "    </tr>\n",
       "  </thead>\n",
       "  <tbody>\n",
       "    <tr>\n",
       "      <th>0</th>\n",
       "      <td>Accuracy</td>\n",
       "      <td>0.486189</td>\n",
       "    </tr>\n",
       "    <tr>\n",
       "      <th>1</th>\n",
       "      <td>Precision</td>\n",
       "      <td>0.523385</td>\n",
       "    </tr>\n",
       "    <tr>\n",
       "      <th>2</th>\n",
       "      <td>Recall</td>\n",
       "      <td>0.006041</td>\n",
       "    </tr>\n",
       "  </tbody>\n",
       "</table>\n",
       "</div>"
      ],
      "text/plain": [
       "      Metric     Value\n",
       "0   Accuracy  0.486189\n",
       "1  Precision  0.523385\n",
       "2     Recall  0.006041"
      ]
     },
     "execution_count": 19,
     "metadata": {},
     "output_type": "execute_result"
    }
   ],
   "source": [
    "metrics_df"
   ]
  },
  {
   "cell_type": "code",
   "execution_count": null,
   "id": "8a2300cb-81bc-4050-a23b-09b54ec449f9",
   "metadata": {},
   "outputs": [],
   "source": []
  },
  {
   "cell_type": "code",
   "execution_count": null,
   "id": "2c7762eb-5340-49f1-9cee-f4e1134448a2",
   "metadata": {},
   "outputs": [],
   "source": []
  },
  {
   "cell_type": "code",
   "execution_count": null,
   "id": "273d0fb8-dea4-4dd5-b6bd-52d703fa7006",
   "metadata": {},
   "outputs": [],
   "source": []
  },
  {
   "cell_type": "code",
   "execution_count": null,
   "id": "5f58d9aa-128c-453a-8913-6132a724b430",
   "metadata": {},
   "outputs": [],
   "source": []
  },
  {
   "cell_type": "code",
   "execution_count": null,
   "id": "75f1192e-f625-4e4a-8073-bbbd2e0c7ddb",
   "metadata": {},
   "outputs": [],
   "source": []
  }
 ],
 "metadata": {
  "kernelspec": {
   "display_name": "Python 3 (ipykernel)",
   "language": "python",
   "name": "python3"
  },
  "language_info": {
   "codemirror_mode": {
    "name": "ipython",
    "version": 3
   },
   "file_extension": ".py",
   "mimetype": "text/x-python",
   "name": "python",
   "nbconvert_exporter": "python",
   "pygments_lexer": "ipython3",
   "version": "3.10.13"
  }
 },
 "nbformat": 4,
 "nbformat_minor": 5
}
