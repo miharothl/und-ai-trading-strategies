{
 "cells": [
  {
   "cell_type": "markdown",
   "id": "093742fa-9f4f-44d6-9f89-df7f7ddb955a",
   "metadata": {},
   "source": [
    "# cointbase api"
   ]
  },
  {
   "cell_type": "code",
   "execution_count": 1,
   "id": "a9e0bf85-6798-461e-9d85-e940c6276753",
   "metadata": {},
   "outputs": [],
   "source": [
    "import requests"
   ]
  },
  {
   "cell_type": "code",
   "execution_count": 19,
   "id": "bf19c5e3-0eb0-4eb8-a60e-2c52450ffd81",
   "metadata": {},
   "outputs": [],
   "source": [
    "def get_current_price(currency_pair='BTC-USD'):\n",
    "    url = f\"https://api.coinbase.com/v2/prices/{currency_pair}/spot\"\n",
    "    response = requests.get(url)\n",
    "    data = response.json()\n",
    "    price = data['data']['amount']\n",
    "    print(f\"The current price of {currency_pair} is ${price}\")"
   ]
  },
  {
   "cell_type": "code",
   "execution_count": 20,
   "id": "4ea3bffd-f244-4144-abf8-9650d66be603",
   "metadata": {},
   "outputs": [
    {
     "name": "stdout",
     "output_type": "stream",
     "text": [
      "The current price of BTC-USD is $103911.65\n"
     ]
    }
   ],
   "source": [
    "get_current_price()"
   ]
  },
  {
   "cell_type": "code",
   "execution_count": 22,
   "id": "7405b572-6a44-409a-89e0-2edd39869ecb",
   "metadata": {},
   "outputs": [],
   "source": [
    "def get_historical_data(currency_pair='BTC-USD', days=30):\n",
    "    url = f\"https://api.coinbase.com/v2/prices/{currency_pair}/historic\"\n",
    "    params = {'period': 'day'}\n",
    "    response = requests.get(url, params=params)\n",
    "    data = response.json()\n",
    "    prices = data['data']['prices'][-days:]\n",
    "    print(f\"Last {days} of historical prices for {currency_pair}:\")\n",
    "    for day in prices:\n",
    "        print(f\"Date {day['time']}, Price: ${day['price']}\")\n"
   ]
  },
  {
   "cell_type": "code",
   "execution_count": 23,
   "id": "f58b591b-510a-4580-a4e6-eeb2ca2364eb",
   "metadata": {},
   "outputs": [
    {
     "name": "stdout",
     "output_type": "stream",
     "text": [
      "Last 30 of historical prices for BTC-USD:\n",
      "Date 1748692500, Price: $103529.365\n",
      "Date 1748692200, Price: $103514.225\n",
      "Date 1748691900, Price: $103566.675\n",
      "Date 1748691600, Price: $103534.995\n",
      "Date 1748691300, Price: $103479.315\n",
      "Date 1748691000, Price: $103528.095\n",
      "Date 1748690700, Price: $103571.745\n",
      "Date 1748690400, Price: $103551.865\n",
      "Date 1748690100, Price: $103391.225\n",
      "Date 1748689800, Price: $103352.445\n",
      "Date 1748689500, Price: $103465.155\n",
      "Date 1748689200, Price: $103456.265\n",
      "Date 1748688900, Price: $103417.735\n",
      "Date 1748688600, Price: $103443.42\n",
      "Date 1748688300, Price: $103320.32\n",
      "Date 1748688000, Price: $103370.35\n",
      "Date 1748687700, Price: $103406.64\n",
      "Date 1748687550, Price: $103406.7683833333333333\n",
      "Date 1748687400, Price: $103445.155\n",
      "Date 1748687100, Price: $103533.445\n",
      "Date 1748686800, Price: $103599.225\n",
      "Date 1748686500, Price: $103500.265\n",
      "Date 1748686200, Price: $103463.18\n",
      "Date 1748685900, Price: $103528.645\n",
      "Date 1748685600, Price: $103580.695\n",
      "Date 1748685300, Price: $103586.735\n",
      "Date 1748685000, Price: $103597.035\n",
      "Date 1748684700, Price: $103561.115\n",
      "Date 1748684400, Price: $103533.965\n",
      "Date 1748684100, Price: $103553.125\n"
     ]
    }
   ],
   "source": [
    "get_historical_data()"
   ]
  },
  {
   "cell_type": "code",
   "execution_count": null,
   "id": "ca29117d-53b3-4745-81d2-8cc99da46325",
   "metadata": {},
   "outputs": [],
   "source": []
  }
 ],
 "metadata": {
  "kernelspec": {
   "display_name": "Python 3 (ipykernel)",
   "language": "python",
   "name": "python3"
  },
  "language_info": {
   "codemirror_mode": {
    "name": "ipython",
    "version": 3
   },
   "file_extension": ".py",
   "mimetype": "text/x-python",
   "name": "python",
   "nbconvert_exporter": "python",
   "pygments_lexer": "ipython3",
   "version": "3.10.13"
  }
 },
 "nbformat": 4,
 "nbformat_minor": 5
}
