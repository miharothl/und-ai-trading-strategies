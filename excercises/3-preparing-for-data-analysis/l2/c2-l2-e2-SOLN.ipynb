{
 "cells": [
  {
   "cell_type": "markdown",
   "id": "64ff6b59-fc6d-4f91-bd31-26ceb429d295",
   "metadata": {},
   "source": [
    "# Exercise: Pull Data From YahooFinance API\n",
    "\n",
    "You can't build trading models without financial data! A common source for data are APIs, which are a programmatic way to pull a lot of data from data brokers and vendors that make it available online. \n",
    "\n",
    "While many APIs will require an API key or token to identify you, you can use the [YahooFinance API](https://pypi.org/project/yfinance/) without a key for pulling simple and small amounts of historical data. \n",
    "\n",
    "Your task here is to: \n",
    "* If necessary, download the YahooFinance API Python wrapper package (called `yfinance`)\n",
    "* Use the `yfinance` package to download historical data for the last 3 years for at least 2 different stock tickers\n",
    "* Choose your favorite stocks to explore!"
   ]
  },
  {
   "cell_type": "code",
   "execution_count": 1,
   "id": "07dfee7a-9774-413d-ba76-dcef337a2efd",
   "metadata": {},
   "outputs": [],
   "source": [
    "# ! pip install yfinance #uncomment this line and run it only once to download the library"
   ]
  },
  {
   "cell_type": "code",
   "execution_count": 2,
   "id": "e6a2381e-d8b9-49e0-b781-278c2075a1d3",
   "metadata": {},
   "outputs": [],
   "source": [
    "import pandas as pd\n",
    "import yfinance as yf # you may need to install the package first before doing the import "
   ]
  },
  {
   "cell_type": "code",
   "execution_count": 13,
   "id": "6014aebc-4423-4db5-8e60-8d6479ed452a",
   "metadata": {},
   "outputs": [],
   "source": [
    "# Define some variables you'll use for pulling in data\n",
    "\n",
    "stock_ticker_1 = 'TSLA'\n",
    "stock_ticker_2 = 'MSFT'\n",
    "\n",
    "start_date = '2020-01-01' # use format YYYY-MM-DD\n",
    "end_date = '2024-01-02'"
   ]
  },
  {
   "cell_type": "markdown",
   "id": "d8114802-27ba-4369-8455-565e0fc5c869",
   "metadata": {},
   "source": [
    "To use the YahooFinance API, you may find it useful to look at the documentation. Below, we've started the code for you using the method called download(). \n",
    "\n",
    "To figure out what to pass in to that method, take a look at [this page of the YF API documentation](https://github.com/ranaroussi/yfinance?tab=readme-ov-file#multiple-tickers)."
   ]
  },
  {
   "cell_type": "code",
   "execution_count": 14,
   "id": "bf50a54f-97c0-4cf3-aa09-2add734fe790",
   "metadata": {},
   "outputs": [
    {
     "name": "stderr",
     "output_type": "stream",
     "text": [
      "[*********************100%***********************]  1 of 1 completed\n"
     ]
    }
   ],
   "source": [
    "data_stock_1 = yf.download( stock_ticker_1, start= start_date, end = end_date ) # replace ... inside this function with the correct parameters in order to get your data"
   ]
  },
  {
   "cell_type": "code",
   "execution_count": 15,
   "id": "20cb6e97-2f43-468c-bb41-53ce79e4e033",
   "metadata": {},
   "outputs": [
    {
     "name": "stderr",
     "output_type": "stream",
     "text": [
      "[*********************100%***********************]  1 of 1 completed\n"
     ]
    }
   ],
   "source": [
    "data_stock_2 = yf.download( stock_ticker_2, start= start_date, end = end_date ) # replace ... inside this function with the correct parameters in order to get your data"
   ]
  },
  {
   "cell_type": "code",
   "execution_count": 16,
   "id": "822375f7-9f80-4836-b7e8-6692b974d4bc",
   "metadata": {},
   "outputs": [
    {
     "data": {
      "text/html": [
       "<div>\n",
       "<style scoped>\n",
       "    .dataframe tbody tr th:only-of-type {\n",
       "        vertical-align: middle;\n",
       "    }\n",
       "\n",
       "    .dataframe tbody tr th {\n",
       "        vertical-align: top;\n",
       "    }\n",
       "\n",
       "    .dataframe thead tr th {\n",
       "        text-align: left;\n",
       "    }\n",
       "\n",
       "    .dataframe thead tr:last-of-type th {\n",
       "        text-align: right;\n",
       "    }\n",
       "</style>\n",
       "<table border=\"1\" class=\"dataframe\">\n",
       "  <thead>\n",
       "    <tr>\n",
       "      <th>Price</th>\n",
       "      <th>Close</th>\n",
       "      <th>High</th>\n",
       "      <th>Low</th>\n",
       "      <th>Open</th>\n",
       "      <th>Volume</th>\n",
       "    </tr>\n",
       "    <tr>\n",
       "      <th>Ticker</th>\n",
       "      <th>TSLA</th>\n",
       "      <th>TSLA</th>\n",
       "      <th>TSLA</th>\n",
       "      <th>TSLA</th>\n",
       "      <th>TSLA</th>\n",
       "    </tr>\n",
       "    <tr>\n",
       "      <th>Date</th>\n",
       "      <th></th>\n",
       "      <th></th>\n",
       "      <th></th>\n",
       "      <th></th>\n",
       "      <th></th>\n",
       "    </tr>\n",
       "  </thead>\n",
       "  <tbody>\n",
       "    <tr>\n",
       "      <th>2020-01-02</th>\n",
       "      <td>28.684000</td>\n",
       "      <td>28.713333</td>\n",
       "      <td>28.114000</td>\n",
       "      <td>28.299999</td>\n",
       "      <td>142981500</td>\n",
       "    </tr>\n",
       "    <tr>\n",
       "      <th>2020-01-03</th>\n",
       "      <td>29.534000</td>\n",
       "      <td>30.266666</td>\n",
       "      <td>29.128000</td>\n",
       "      <td>29.366667</td>\n",
       "      <td>266677500</td>\n",
       "    </tr>\n",
       "    <tr>\n",
       "      <th>2020-01-06</th>\n",
       "      <td>30.102667</td>\n",
       "      <td>30.104000</td>\n",
       "      <td>29.333332</td>\n",
       "      <td>29.364668</td>\n",
       "      <td>151995000</td>\n",
       "    </tr>\n",
       "    <tr>\n",
       "      <th>2020-01-07</th>\n",
       "      <td>31.270666</td>\n",
       "      <td>31.441999</td>\n",
       "      <td>30.224001</td>\n",
       "      <td>30.760000</td>\n",
       "      <td>268231500</td>\n",
       "    </tr>\n",
       "    <tr>\n",
       "      <th>2020-01-08</th>\n",
       "      <td>32.809334</td>\n",
       "      <td>33.232666</td>\n",
       "      <td>31.215334</td>\n",
       "      <td>31.580000</td>\n",
       "      <td>467164500</td>\n",
       "    </tr>\n",
       "  </tbody>\n",
       "</table>\n",
       "</div>"
      ],
      "text/plain": [
       "Price           Close       High        Low       Open     Volume\n",
       "Ticker           TSLA       TSLA       TSLA       TSLA       TSLA\n",
       "Date                                                             \n",
       "2020-01-02  28.684000  28.713333  28.114000  28.299999  142981500\n",
       "2020-01-03  29.534000  30.266666  29.128000  29.366667  266677500\n",
       "2020-01-06  30.102667  30.104000  29.333332  29.364668  151995000\n",
       "2020-01-07  31.270666  31.441999  30.224001  30.760000  268231500\n",
       "2020-01-08  32.809334  33.232666  31.215334  31.580000  467164500"
      ]
     },
     "execution_count": 16,
     "metadata": {},
     "output_type": "execute_result"
    }
   ],
   "source": [
    "data_stock_1.head() # check if your download worked"
   ]
  },
  {
   "cell_type": "code",
   "execution_count": 17,
   "id": "26f65543-5d16-4c85-9417-1609ca70b969",
   "metadata": {},
   "outputs": [
    {
     "data": {
      "text/html": [
       "<div>\n",
       "<style scoped>\n",
       "    .dataframe tbody tr th:only-of-type {\n",
       "        vertical-align: middle;\n",
       "    }\n",
       "\n",
       "    .dataframe tbody tr th {\n",
       "        vertical-align: top;\n",
       "    }\n",
       "\n",
       "    .dataframe thead tr th {\n",
       "        text-align: left;\n",
       "    }\n",
       "\n",
       "    .dataframe thead tr:last-of-type th {\n",
       "        text-align: right;\n",
       "    }\n",
       "</style>\n",
       "<table border=\"1\" class=\"dataframe\">\n",
       "  <thead>\n",
       "    <tr>\n",
       "      <th>Price</th>\n",
       "      <th>Close</th>\n",
       "      <th>High</th>\n",
       "      <th>Low</th>\n",
       "      <th>Open</th>\n",
       "      <th>Volume</th>\n",
       "    </tr>\n",
       "    <tr>\n",
       "      <th>Ticker</th>\n",
       "      <th>MSFT</th>\n",
       "      <th>MSFT</th>\n",
       "      <th>MSFT</th>\n",
       "      <th>MSFT</th>\n",
       "      <th>MSFT</th>\n",
       "    </tr>\n",
       "    <tr>\n",
       "      <th>Date</th>\n",
       "      <th></th>\n",
       "      <th></th>\n",
       "      <th></th>\n",
       "      <th></th>\n",
       "      <th></th>\n",
       "    </tr>\n",
       "  </thead>\n",
       "  <tbody>\n",
       "    <tr>\n",
       "      <th>2020-01-02</th>\n",
       "      <td>153.042282</td>\n",
       "      <td>153.147093</td>\n",
       "      <td>150.860326</td>\n",
       "      <td>151.289093</td>\n",
       "      <td>22622100</td>\n",
       "    </tr>\n",
       "    <tr>\n",
       "      <th>2020-01-03</th>\n",
       "      <td>151.136642</td>\n",
       "      <td>152.403898</td>\n",
       "      <td>150.603064</td>\n",
       "      <td>150.850807</td>\n",
       "      <td>21116200</td>\n",
       "    </tr>\n",
       "    <tr>\n",
       "      <th>2020-01-06</th>\n",
       "      <td>151.527298</td>\n",
       "      <td>151.594002</td>\n",
       "      <td>149.126182</td>\n",
       "      <td>149.669298</td>\n",
       "      <td>20813700</td>\n",
       "    </tr>\n",
       "    <tr>\n",
       "      <th>2020-01-07</th>\n",
       "      <td>150.145691</td>\n",
       "      <td>152.137085</td>\n",
       "      <td>149.897962</td>\n",
       "      <td>151.803606</td>\n",
       "      <td>21634100</td>\n",
       "    </tr>\n",
       "    <tr>\n",
       "      <th>2020-01-08</th>\n",
       "      <td>152.537323</td>\n",
       "      <td>153.213833</td>\n",
       "      <td>150.498284</td>\n",
       "      <td>151.432046</td>\n",
       "      <td>27746500</td>\n",
       "    </tr>\n",
       "  </tbody>\n",
       "</table>\n",
       "</div>"
      ],
      "text/plain": [
       "Price            Close        High         Low        Open    Volume\n",
       "Ticker            MSFT        MSFT        MSFT        MSFT      MSFT\n",
       "Date                                                                \n",
       "2020-01-02  153.042282  153.147093  150.860326  151.289093  22622100\n",
       "2020-01-03  151.136642  152.403898  150.603064  150.850807  21116200\n",
       "2020-01-06  151.527298  151.594002  149.126182  149.669298  20813700\n",
       "2020-01-07  150.145691  152.137085  149.897962  151.803606  21634100\n",
       "2020-01-08  152.537323  153.213833  150.498284  151.432046  27746500"
      ]
     },
     "execution_count": 17,
     "metadata": {},
     "output_type": "execute_result"
    }
   ],
   "source": [
    "data_stock_2.head() # check if your download worked "
   ]
  },
  {
   "cell_type": "code",
   "execution_count": null,
   "id": "628aa8c7-a38a-43b4-bb97-82bf6ab5a9c0",
   "metadata": {},
   "outputs": [],
   "source": []
  }
 ],
 "metadata": {
  "kernelspec": {
   "display_name": "Python 3 (ipykernel)",
   "language": "python",
   "name": "python3"
  },
  "language_info": {
   "codemirror_mode": {
    "name": "ipython",
    "version": 3
   },
   "file_extension": ".py",
   "mimetype": "text/x-python",
   "name": "python",
   "nbconvert_exporter": "python",
   "pygments_lexer": "ipython3",
   "version": "3.10.13"
  }
 },
 "nbformat": 4,
 "nbformat_minor": 5
}
