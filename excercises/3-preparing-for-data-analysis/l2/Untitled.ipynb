{
 "cells": [
  {
   "cell_type": "code",
   "execution_count": null,
   "id": "4a0939dd-3dba-4ed5-a864-2b7193fca4dc",
   "metadata": {},
   "outputs": [],
   "source": []
  },
  {
   "cell_type": "code",
   "execution_count": 26,
   "id": "7f260e50-7bd4-450f-a6f3-b52e94855840",
   "metadata": {},
   "outputs": [],
   "source": [
    "num = 12\n",
    "delta = (1930 + 30) / num "
   ]
  },
  {
   "cell_type": "code",
   "execution_count": 27,
   "id": "81b89bff-deea-4a06-9748-02ec53504359",
   "metadata": {},
   "outputs": [
    {
     "name": "stdout",
     "output_type": "stream",
     "text": [
      "133\n",
      "296\n",
      "460\n",
      "623\n",
      "786\n",
      "950\n",
      "1113\n",
      "1276\n",
      "1440\n",
      "1603\n",
      "1766\n",
      "1930\n"
     ]
    }
   ],
   "source": [
    "for i in range(1, num + 1):\n",
    "    print(int(i * delta - 30 ))\n",
    "    \n",
    "    "
   ]
  },
  {
   "cell_type": "code",
   "execution_count": 25,
   "id": "acd7419d-b369-46c8-80fd-ef4743e74f70",
   "metadata": {},
   "outputs": [
    {
     "name": "stdout",
     "output_type": "stream",
     "text": [
      "131\n",
      "292\n",
      "454\n",
      "615\n",
      "777\n",
      "938\n",
      "1100\n"
     ]
    }
   ],
   "source": [
    "num = 7 \n",
    "delta = (1100 + 30) / num \n",
    "\n",
    "for i in range(1, num + 1):\n",
    "    print(int(i * delta - 30 ))"
   ]
  },
  {
   "cell_type": "code",
   "execution_count": null,
   "id": "ce8720f1-77ca-4287-b015-3994cd652baa",
   "metadata": {},
   "outputs": [],
   "source": []
  }
 ],
 "metadata": {
  "kernelspec": {
   "display_name": "Python 3 (ipykernel)",
   "language": "python",
   "name": "python3"
  },
  "language_info": {
   "codemirror_mode": {
    "name": "ipython",
    "version": 3
   },
   "file_extension": ".py",
   "mimetype": "text/x-python",
   "name": "python",
   "nbconvert_exporter": "python",
   "pygments_lexer": "ipython3",
   "version": "3.10.13"
  }
 },
 "nbformat": 4,
 "nbformat_minor": 5
}
