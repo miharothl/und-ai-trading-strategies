{
 "cells": [
  {
   "cell_type": "markdown",
   "id": "importing-libraries",
   "metadata": {},
   "source": [
    "## Importing Libraries\n",
    "\n",
    "First, we import the necessary library for data manipulation."
   ]
  },
  {
   "cell_type": "code",
   "execution_count": 1,
   "id": "code-import",
   "metadata": {},
   "outputs": [],
   "source": [
    "import pandas as pd"
   ]
  },
  {
   "cell_type": "markdown",
   "id": "explanation-import",
   "metadata": {},
   "source": [
    "We import the `pandas` library, which is essential for working with data structures like DataFrames."
   ]
  },
  {
   "cell_type": "markdown",
   "id": "downloading-data",
   "metadata": {},
   "source": [
    "## Loading S&P500 Futures Data\n",
    "\n",
    "Next, we load the S&P500 futures price data from a CSV file."
   ]
  },
  {
   "cell_type": "code",
   "execution_count": 5,
   "id": "code-read-data",
   "metadata": {},
   "outputs": [
    {
     "data": {
      "text/html": [
       "<div>\n",
       "<style scoped>\n",
       "    .dataframe tbody tr th:only-of-type {\n",
       "        vertical-align: middle;\n",
       "    }\n",
       "\n",
       "    .dataframe tbody tr th {\n",
       "        vertical-align: top;\n",
       "    }\n",
       "\n",
       "    .dataframe thead th {\n",
       "        text-align: right;\n",
       "    }\n",
       "</style>\n",
       "<table border=\"1\" class=\"dataframe\">\n",
       "  <thead>\n",
       "    <tr style=\"text-align: right;\">\n",
       "      <th></th>\n",
       "      <th>Adj Close</th>\n",
       "    </tr>\n",
       "    <tr>\n",
       "      <th>Date</th>\n",
       "      <th></th>\n",
       "    </tr>\n",
       "  </thead>\n",
       "  <tbody>\n",
       "    <tr>\n",
       "      <th>2000-09-18</th>\n",
       "      <td>1467.5</td>\n",
       "    </tr>\n",
       "    <tr>\n",
       "      <th>2000-09-19</th>\n",
       "      <td>1478.5</td>\n",
       "    </tr>\n",
       "    <tr>\n",
       "      <th>2000-09-20</th>\n",
       "      <td>1469.5</td>\n",
       "    </tr>\n",
       "    <tr>\n",
       "      <th>2000-09-21</th>\n",
       "      <td>1469.5</td>\n",
       "    </tr>\n",
       "    <tr>\n",
       "      <th>2000-09-22</th>\n",
       "      <td>1468.5</td>\n",
       "    </tr>\n",
       "  </tbody>\n",
       "</table>\n",
       "</div>"
      ],
      "text/plain": [
       "            Adj Close\n",
       "Date                 \n",
       "2000-09-18     1467.5\n",
       "2000-09-19     1478.5\n",
       "2000-09-20     1469.5\n",
       "2000-09-21     1469.5\n",
       "2000-09-22     1468.5"
      ]
     },
     "execution_count": 5,
     "metadata": {},
     "output_type": "execute_result"
    }
   ],
   "source": [
    "sp500_prices = pd.read_csv(\"../data/sp500.csv\", index_col=0, parse_dates=True)\n",
    "sp500_prices.head()"
   ]
  },
  {
   "cell_type": "markdown",
   "id": "explanation-read-data",
   "metadata": {},
   "source": [
    "We use `pd.read_csv()` to load the data from a CSV file called `sp500.csv`. The `index_col=0` sets the first column as the index, and `parse_dates=True` ensures that the index is interpreted as dates, which is crucial for time series data."
   ]
  },
  {
   "cell_type": "markdown",
   "id": "calculate-log-returns",
   "metadata": {},
   "source": [
    "## Calculating Daily Returns\n",
    "\n",
    "Next, we calculate the daily percentage changes in the futures prices."
   ]
  },
  {
   "cell_type": "code",
   "execution_count": 6,
   "id": "code-log-returns",
   "metadata": {},
   "outputs": [
    {
     "data": {
      "text/html": [
       "<div>\n",
       "<style scoped>\n",
       "    .dataframe tbody tr th:only-of-type {\n",
       "        vertical-align: middle;\n",
       "    }\n",
       "\n",
       "    .dataframe tbody tr th {\n",
       "        vertical-align: top;\n",
       "    }\n",
       "\n",
       "    .dataframe thead th {\n",
       "        text-align: right;\n",
       "    }\n",
       "</style>\n",
       "<table border=\"1\" class=\"dataframe\">\n",
       "  <thead>\n",
       "    <tr style=\"text-align: right;\">\n",
       "      <th></th>\n",
       "      <th>Adj Close</th>\n",
       "    </tr>\n",
       "    <tr>\n",
       "      <th>Date</th>\n",
       "      <th></th>\n",
       "    </tr>\n",
       "  </thead>\n",
       "  <tbody>\n",
       "    <tr>\n",
       "      <th>2000-09-18</th>\n",
       "      <td>NaN</td>\n",
       "    </tr>\n",
       "    <tr>\n",
       "      <th>2000-09-19</th>\n",
       "      <td>0.007496</td>\n",
       "    </tr>\n",
       "    <tr>\n",
       "      <th>2000-09-20</th>\n",
       "      <td>-0.006087</td>\n",
       "    </tr>\n",
       "    <tr>\n",
       "      <th>2000-09-21</th>\n",
       "      <td>0.000000</td>\n",
       "    </tr>\n",
       "    <tr>\n",
       "      <th>2000-09-22</th>\n",
       "      <td>-0.000681</td>\n",
       "    </tr>\n",
       "  </tbody>\n",
       "</table>\n",
       "</div>"
      ],
      "text/plain": [
       "            Adj Close\n",
       "Date                 \n",
       "2000-09-18        NaN\n",
       "2000-09-19   0.007496\n",
       "2000-09-20  -0.006087\n",
       "2000-09-21   0.000000\n",
       "2000-09-22  -0.000681"
      ]
     },
     "execution_count": 6,
     "metadata": {},
     "output_type": "execute_result"
    }
   ],
   "source": [
    "returns = sp500_prices.pct_change()\n",
    "returns.head()"
   ]
  },
  {
   "cell_type": "markdown",
   "id": "explanation-log-returns",
   "metadata": {},
   "source": [
    "The `pct_change()` function computes the daily percentage change in prices, which gives us the daily returns."
   ]
  },
  {
   "cell_type": "markdown",
   "id": "annualized-mean-return",
   "metadata": {},
   "source": [
    "## Annualizing the Mean Return\n",
    "\n",
    "We then compute the annualized mean return using the daily returns."
   ]
  },
  {
   "cell_type": "code",
   "execution_count": 7,
   "id": "code-annualized-mean",
   "metadata": {},
   "outputs": [],
   "source": [
    "annualized_mean_return = returns.mean() * 252"
   ]
  },
  {
   "cell_type": "code",
   "execution_count": 9,
   "id": "2eb37878",
   "metadata": {},
   "outputs": [
    {
     "name": "stdout",
     "output_type": "stream",
     "text": [
      "Annualized Mean Return: 7.67%\n"
     ]
    }
   ],
   "source": [
    "print(f\"Annualized Mean Return: {annualized_mean_return.iloc[0]:.2%}\")"
   ]
  },
  {
   "cell_type": "markdown",
   "id": "explanation-annualized-mean",
   "metadata": {},
   "source": [
    "We take the mean of the daily returns and multiply it by 252, which is the approximate number of trading days in a year. This gives us the annualized mean return, which is printed as a percentage."
   ]
  },
  {
   "cell_type": "code",
   "execution_count": null,
   "id": "3cffa03b-b7a5-447e-af56-fa8a343be29e",
   "metadata": {},
   "outputs": [],
   "source": []
  }
 ],
 "metadata": {
  "kernelspec": {
   "display_name": "Python 3 (ipykernel)",
   "language": "python",
   "name": "python3"
  },
  "language_info": {
   "codemirror_mode": {
    "name": "ipython",
    "version": 3
   },
   "file_extension": ".py",
   "mimetype": "text/x-python",
   "name": "python",
   "nbconvert_exporter": "python",
   "pygments_lexer": "ipython3",
   "version": "3.10.13"
  }
 },
 "nbformat": 4,
 "nbformat_minor": 5
}
