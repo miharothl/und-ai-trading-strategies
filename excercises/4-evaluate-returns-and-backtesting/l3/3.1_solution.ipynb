{
 "cells": [
  {
   "cell_type": "code",
   "execution_count": 1,
   "id": "945a0864",
   "metadata": {},
   "outputs": [],
   "source": [
    "import numpy as np\n",
    "import yfinance as yf"
   ]
  },
  {
   "cell_type": "code",
   "execution_count": 3,
   "id": "771ec0f4",
   "metadata": {},
   "outputs": [
    {
     "name": "stderr",
     "output_type": "stream",
     "text": [
      "[*********************100%***********************]  1 of 1 completed\n"
     ]
    }
   ],
   "source": [
    "# Download S&P 500 front month futures data\n",
    "prices = yf.download('ES=F', auto_adjust=False)['Adj Close']"
   ]
  },
  {
   "cell_type": "code",
   "execution_count": 4,
   "id": "a2d6782c",
   "metadata": {},
   "outputs": [],
   "source": [
    "# Calculate daily logarithmic returns\n",
    "log_returns = np.log(prices).diff()"
   ]
  },
  {
   "cell_type": "code",
   "execution_count": 5,
   "id": "1a1184cb",
   "metadata": {},
   "outputs": [],
   "source": [
    "# Annualize returns and volatility\n",
    "annualized_return = log_returns.mean() * 252\n",
    "annualized_vol = log_returns.std() * np.sqrt(252)"
   ]
  },
  {
   "cell_type": "code",
   "execution_count": 7,
   "id": "7f89e1a5",
   "metadata": {},
   "outputs": [
    {
     "name": "stderr",
     "output_type": "stream",
     "text": [
      "[*********************100%***********************]  1 of 1 completed\n"
     ]
    }
   ],
   "source": [
    "# Download the 3-month Treasury bill rate as the risk-free rate\n",
    "sp500_start_date = str(prices.index[0])[:10]\n",
    "risk_free_rates = yf.download('^IRX', start=sp500_start_date, auto_adjust=False)['Adj Close']\n",
    "avg_risk_free_rate = risk_free_rates.mean() / 100"
   ]
  },
  {
   "cell_type": "code",
   "execution_count": 8,
   "id": "44f479c8",
   "metadata": {},
   "outputs": [],
   "source": [
    "# Calculate the Sharpe Ratio\n",
    "sharpe_ratio = (annualized_return - avg_risk_free_rate) / annualized_vol\n",
    "# Calculate the Sortino Ratio\n",
    "downside_vol = log_returns[log_returns<0].std() * np.sqrt(252)\n",
    "sortino_ratio = (annualized_return - avg_risk_free_rate) / downside_vol\n",
    "# Calculate the Calmar Ratio\n",
    "cum_returns = np.exp(log_returns.cumsum())\n",
    "drawdowns = (cum_returns.cummax() - cum_returns) / cum_returns.cummax()\n",
    "max_drawdown = np.max(drawdowns)\n",
    "calmar_ratio = annualized_return / max_drawdown"
   ]
  },
  {
   "cell_type": "code",
   "execution_count": 9,
   "id": "cf8c07ae",
   "metadata": {},
   "outputs": [
    {
     "name": "stdout",
     "output_type": "stream",
     "text": [
      "\n",
      "annualized_return: Ticker\n",
      "ES=F    5.7\n",
      "dtype: float64%\n",
      "avg_risk_free_rate: Ticker\n",
      "^IRX    1.7\n",
      "dtype: float64%\n",
      "annualized_volatility: Ticker\n",
      "ES=F    19.6\n",
      "dtype: float64%\n",
      "downside_volatility: Ticker\n",
      "ES=F    16.0\n",
      "dtype: float64%\n",
      "max_drawdown: 57.1%\n",
      "\n",
      "sharpe_ratio: Ticker\n",
      "ES=F   NaN\n",
      "^IRX   NaN\n",
      "dtype: float64\n",
      "sortino_ratio: Ticker\n",
      "ES=F   NaN\n",
      "^IRX   NaN\n",
      "dtype: float64\n",
      "calmar_ratio: Ticker\n",
      "ES=F    0.1\n",
      "dtype: float64\n",
      "\n"
     ]
    }
   ],
   "source": [
    "print()\n",
    "print(f\"annualized_return: {np.round(annualized_return * 100, 1)}%\")\n",
    "print(f\"avg_risk_free_rate: {np.round(avg_risk_free_rate * 100, 1)}%\")\n",
    "print(f\"annualized_volatility: {np.round(annualized_vol * 100, 1)}%\")\n",
    "print(f\"downside_volatility: {np.round(downside_vol * 100, 1)}%\")\n",
    "print(f\"max_drawdown: {np.round(max_drawdown * 100, 1)}%\")\n",
    "print()\n",
    "print(f\"sharpe_ratio: {np.round(sharpe_ratio, 2)}\")\n",
    "print(f\"sortino_ratio: {np.round(sortino_ratio, 2)}\")\n",
    "print(f\"calmar_ratio: {np.round(calmar_ratio, 2)}\")\n",
    "print()"
   ]
  },
  {
   "cell_type": "code",
   "execution_count": null,
   "id": "0b5cab0a-eed6-47f7-9df0-860c9760ce60",
   "metadata": {},
   "outputs": [],
   "source": []
  }
 ],
 "metadata": {
  "jupytext": {
   "cell_metadata_filter": "-all",
   "main_language": "python",
   "notebook_metadata_filter": "-all"
  },
  "kernelspec": {
   "display_name": "Python 3 (ipykernel)",
   "language": "python",
   "name": "python3"
  },
  "language_info": {
   "codemirror_mode": {
    "name": "ipython",
    "version": 3
   },
   "file_extension": ".py",
   "mimetype": "text/x-python",
   "name": "python",
   "nbconvert_exporter": "python",
   "pygments_lexer": "ipython3",
   "version": "3.10.18"
  }
 },
 "nbformat": 4,
 "nbformat_minor": 5
}
