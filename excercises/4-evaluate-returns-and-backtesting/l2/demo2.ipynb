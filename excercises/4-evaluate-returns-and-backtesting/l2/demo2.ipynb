{
 "cells": [
  {
   "cell_type": "code",
   "execution_count": 1,
   "id": "08d5eec1-1f48-46db-ac2e-1e9c9720fe52",
   "metadata": {},
   "outputs": [],
   "source": [
    "# Skewness and Kurtosis \n",
    "\n"
   ]
  },
  {
   "cell_type": "code",
   "execution_count": 2,
   "id": "32bcdb0f-7408-4423-837e-a3d5cd499385",
   "metadata": {},
   "outputs": [],
   "source": [
    "import numpy as np\n",
    "import yfinance as yf"
   ]
  },
  {
   "cell_type": "code",
   "execution_count": 3,
   "id": "1e14549e-1eb9-4686-b50a-fad09d1ba42e",
   "metadata": {},
   "outputs": [
    {
     "name": "stdout",
     "output_type": "stream",
     "text": [
      "YF.download() has changed argument auto_adjust default to True\n"
     ]
    },
    {
     "name": "stderr",
     "output_type": "stream",
     "text": [
      "[*********************100%***********************]  1 of 1 completed\n"
     ]
    }
   ],
   "source": [
    "data = yf.download(\"ES=F\")"
   ]
  },
  {
   "cell_type": "code",
   "execution_count": 4,
   "id": "65e791bf-5039-4a2f-a8e8-2bf0aabcb8e3",
   "metadata": {},
   "outputs": [
    {
     "data": {
      "text/html": [
       "<div>\n",
       "<style scoped>\n",
       "    .dataframe tbody tr th:only-of-type {\n",
       "        vertical-align: middle;\n",
       "    }\n",
       "\n",
       "    .dataframe tbody tr th {\n",
       "        vertical-align: top;\n",
       "    }\n",
       "\n",
       "    .dataframe thead tr th {\n",
       "        text-align: left;\n",
       "    }\n",
       "\n",
       "    .dataframe thead tr:last-of-type th {\n",
       "        text-align: right;\n",
       "    }\n",
       "</style>\n",
       "<table border=\"1\" class=\"dataframe\">\n",
       "  <thead>\n",
       "    <tr>\n",
       "      <th>Price</th>\n",
       "      <th>Close</th>\n",
       "      <th>High</th>\n",
       "      <th>Low</th>\n",
       "      <th>Open</th>\n",
       "      <th>Volume</th>\n",
       "    </tr>\n",
       "    <tr>\n",
       "      <th>Ticker</th>\n",
       "      <th>ES=F</th>\n",
       "      <th>ES=F</th>\n",
       "      <th>ES=F</th>\n",
       "      <th>ES=F</th>\n",
       "      <th>ES=F</th>\n",
       "    </tr>\n",
       "    <tr>\n",
       "      <th>Date</th>\n",
       "      <th></th>\n",
       "      <th></th>\n",
       "      <th></th>\n",
       "      <th></th>\n",
       "      <th></th>\n",
       "    </tr>\n",
       "  </thead>\n",
       "  <tbody>\n",
       "    <tr>\n",
       "      <th>2000-09-18</th>\n",
       "      <td>1467.50</td>\n",
       "      <td>1489.75</td>\n",
       "      <td>1462.25</td>\n",
       "      <td>1485.25</td>\n",
       "      <td>104794</td>\n",
       "    </tr>\n",
       "    <tr>\n",
       "      <th>2000-09-19</th>\n",
       "      <td>1478.50</td>\n",
       "      <td>1482.75</td>\n",
       "      <td>1466.75</td>\n",
       "      <td>1467.00</td>\n",
       "      <td>103371</td>\n",
       "    </tr>\n",
       "    <tr>\n",
       "      <th>2000-09-20</th>\n",
       "      <td>1469.50</td>\n",
       "      <td>1480.50</td>\n",
       "      <td>1450.25</td>\n",
       "      <td>1478.75</td>\n",
       "      <td>109667</td>\n",
       "    </tr>\n",
       "    <tr>\n",
       "      <th>2000-09-21</th>\n",
       "      <td>1469.50</td>\n",
       "      <td>1474.00</td>\n",
       "      <td>1455.50</td>\n",
       "      <td>1470.25</td>\n",
       "      <td>98528</td>\n",
       "    </tr>\n",
       "    <tr>\n",
       "      <th>2000-09-22</th>\n",
       "      <td>1468.50</td>\n",
       "      <td>1471.00</td>\n",
       "      <td>1436.75</td>\n",
       "      <td>1454.75</td>\n",
       "      <td>97416</td>\n",
       "    </tr>\n",
       "    <tr>\n",
       "      <th>...</th>\n",
       "      <td>...</td>\n",
       "      <td>...</td>\n",
       "      <td>...</td>\n",
       "      <td>...</td>\n",
       "      <td>...</td>\n",
       "    </tr>\n",
       "    <tr>\n",
       "      <th>2025-06-04</th>\n",
       "      <td>5981.00</td>\n",
       "      <td>5999.00</td>\n",
       "      <td>5974.00</td>\n",
       "      <td>5980.00</td>\n",
       "      <td>1097088</td>\n",
       "    </tr>\n",
       "    <tr>\n",
       "      <th>2025-06-05</th>\n",
       "      <td>5946.00</td>\n",
       "      <td>6016.50</td>\n",
       "      <td>5928.75</td>\n",
       "      <td>5974.25</td>\n",
       "      <td>0</td>\n",
       "    </tr>\n",
       "    <tr>\n",
       "      <th>2025-06-06</th>\n",
       "      <td>6006.75</td>\n",
       "      <td>6025.00</td>\n",
       "      <td>5930.00</td>\n",
       "      <td>5931.75</td>\n",
       "      <td>1278102</td>\n",
       "    </tr>\n",
       "    <tr>\n",
       "      <th>2025-06-09</th>\n",
       "      <td>6010.25</td>\n",
       "      <td>6027.75</td>\n",
       "      <td>5992.25</td>\n",
       "      <td>6010.00</td>\n",
       "      <td>1278102</td>\n",
       "    </tr>\n",
       "    <tr>\n",
       "      <th>2025-06-10</th>\n",
       "      <td>6032.25</td>\n",
       "      <td>6040.75</td>\n",
       "      <td>6009.00</td>\n",
       "      <td>6012.25</td>\n",
       "      <td>42996</td>\n",
       "    </tr>\n",
       "  </tbody>\n",
       "</table>\n",
       "<p>6244 rows × 5 columns</p>\n",
       "</div>"
      ],
      "text/plain": [
       "Price         Close     High      Low     Open   Volume\n",
       "Ticker         ES=F     ES=F     ES=F     ES=F     ES=F\n",
       "Date                                                   \n",
       "2000-09-18  1467.50  1489.75  1462.25  1485.25   104794\n",
       "2000-09-19  1478.50  1482.75  1466.75  1467.00   103371\n",
       "2000-09-20  1469.50  1480.50  1450.25  1478.75   109667\n",
       "2000-09-21  1469.50  1474.00  1455.50  1470.25    98528\n",
       "2000-09-22  1468.50  1471.00  1436.75  1454.75    97416\n",
       "...             ...      ...      ...      ...      ...\n",
       "2025-06-04  5981.00  5999.00  5974.00  5980.00  1097088\n",
       "2025-06-05  5946.00  6016.50  5928.75  5974.25        0\n",
       "2025-06-06  6006.75  6025.00  5930.00  5931.75  1278102\n",
       "2025-06-09  6010.25  6027.75  5992.25  6010.00  1278102\n",
       "2025-06-10  6032.25  6040.75  6009.00  6012.25    42996\n",
       "\n",
       "[6244 rows x 5 columns]"
      ]
     },
     "execution_count": 4,
     "metadata": {},
     "output_type": "execute_result"
    }
   ],
   "source": [
    "data"
   ]
  },
  {
   "cell_type": "code",
   "execution_count": 5,
   "id": "36a1ed09-b8bd-4530-8fb8-fc48e3f48aa9",
   "metadata": {},
   "outputs": [],
   "source": [
    "daily_returns = data['Close'].pct_change()"
   ]
  },
  {
   "cell_type": "code",
   "execution_count": 12,
   "id": "6ed5ac27-fe04-4844-8c62-5c29f8378b45",
   "metadata": {},
   "outputs": [
    {
     "data": {
      "text/html": [
       "<div>\n",
       "<style scoped>\n",
       "    .dataframe tbody tr th:only-of-type {\n",
       "        vertical-align: middle;\n",
       "    }\n",
       "\n",
       "    .dataframe tbody tr th {\n",
       "        vertical-align: top;\n",
       "    }\n",
       "\n",
       "    .dataframe thead th {\n",
       "        text-align: right;\n",
       "    }\n",
       "</style>\n",
       "<table border=\"1\" class=\"dataframe\">\n",
       "  <thead>\n",
       "    <tr style=\"text-align: right;\">\n",
       "      <th>Ticker</th>\n",
       "      <th>ES=F</th>\n",
       "    </tr>\n",
       "    <tr>\n",
       "      <th>Date</th>\n",
       "      <th></th>\n",
       "    </tr>\n",
       "  </thead>\n",
       "  <tbody>\n",
       "    <tr>\n",
       "      <th>2000-09-18</th>\n",
       "      <td>NaN</td>\n",
       "    </tr>\n",
       "    <tr>\n",
       "      <th>2000-09-19</th>\n",
       "      <td>0.007496</td>\n",
       "    </tr>\n",
       "    <tr>\n",
       "      <th>2000-09-20</th>\n",
       "      <td>-0.006087</td>\n",
       "    </tr>\n",
       "    <tr>\n",
       "      <th>2000-09-21</th>\n",
       "      <td>0.000000</td>\n",
       "    </tr>\n",
       "    <tr>\n",
       "      <th>2000-09-22</th>\n",
       "      <td>-0.000681</td>\n",
       "    </tr>\n",
       "    <tr>\n",
       "      <th>...</th>\n",
       "      <td>...</td>\n",
       "    </tr>\n",
       "    <tr>\n",
       "      <th>2025-06-04</th>\n",
       "      <td>-0.000084</td>\n",
       "    </tr>\n",
       "    <tr>\n",
       "      <th>2025-06-05</th>\n",
       "      <td>-0.005852</td>\n",
       "    </tr>\n",
       "    <tr>\n",
       "      <th>2025-06-06</th>\n",
       "      <td>0.010217</td>\n",
       "    </tr>\n",
       "    <tr>\n",
       "      <th>2025-06-09</th>\n",
       "      <td>0.000583</td>\n",
       "    </tr>\n",
       "    <tr>\n",
       "      <th>2025-06-10</th>\n",
       "      <td>0.003660</td>\n",
       "    </tr>\n",
       "  </tbody>\n",
       "</table>\n",
       "<p>6244 rows × 1 columns</p>\n",
       "</div>"
      ],
      "text/plain": [
       "Ticker          ES=F\n",
       "Date                \n",
       "2000-09-18       NaN\n",
       "2000-09-19  0.007496\n",
       "2000-09-20 -0.006087\n",
       "2000-09-21  0.000000\n",
       "2000-09-22 -0.000681\n",
       "...              ...\n",
       "2025-06-04 -0.000084\n",
       "2025-06-05 -0.005852\n",
       "2025-06-06  0.010217\n",
       "2025-06-09  0.000583\n",
       "2025-06-10  0.003660\n",
       "\n",
       "[6244 rows x 1 columns]"
      ]
     },
     "execution_count": 12,
     "metadata": {},
     "output_type": "execute_result"
    }
   ],
   "source": [
    "daily_returns"
   ]
  },
  {
   "cell_type": "code",
   "execution_count": 13,
   "id": "4590b3f1-83e0-4d09-813d-6b02771d4284",
   "metadata": {},
   "outputs": [],
   "source": [
    "returns_skewness = daily_returns.skew()\n",
    "returns_kurtosis = daily_returns.kurtosis() + 3"
   ]
  },
  {
   "cell_type": "code",
   "execution_count": 14,
   "id": "c540de16-8289-47a8-a5cb-1f5d5cb0721c",
   "metadata": {},
   "outputs": [
    {
     "data": {
      "text/plain": [
       "Ticker\n",
       "ES=F    0.00421\n",
       "dtype: float64"
      ]
     },
     "execution_count": 14,
     "metadata": {},
     "output_type": "execute_result"
    }
   ],
   "source": [
    "returns_skewness"
   ]
  },
  {
   "cell_type": "code",
   "execution_count": 15,
   "id": "14cad54d-493b-4dc4-9fd3-b1b6053be14b",
   "metadata": {},
   "outputs": [
    {
     "data": {
      "text/plain": [
       "Ticker\n",
       "ES=F    15.607551\n",
       "dtype: float64"
      ]
     },
     "execution_count": 15,
     "metadata": {},
     "output_type": "execute_result"
    }
   ],
   "source": [
    "returns_kurtosis"
   ]
  },
  {
   "cell_type": "code",
   "execution_count": null,
   "id": "bfbb52fe-5e81-44a2-8025-b0a31651bb74",
   "metadata": {},
   "outputs": [],
   "source": []
  }
 ],
 "metadata": {
  "kernelspec": {
   "display_name": "Python 3 (ipykernel)",
   "language": "python",
   "name": "python3"
  },
  "language_info": {
   "codemirror_mode": {
    "name": "ipython",
    "version": 3
   },
   "file_extension": ".py",
   "mimetype": "text/x-python",
   "name": "python",
   "nbconvert_exporter": "python",
   "pygments_lexer": "ipython3",
   "version": "3.10.18"
  }
 },
 "nbformat": 4,
 "nbformat_minor": 5
}
