{
 "cells": [
  {
   "cell_type": "code",
   "execution_count": 1,
   "id": "ccf7b81a",
   "metadata": {},
   "outputs": [],
   "source": [
    "# Import libraries\n",
    "import numpy as np\n",
    "import yfinance as yf"
   ]
  },
  {
   "cell_type": "code",
   "execution_count": 3,
   "id": "68118f93",
   "metadata": {},
   "outputs": [
    {
     "name": "stderr",
     "output_type": "stream",
     "text": [
      "[*********************100%***********************]  1 of 1 completed\n"
     ]
    }
   ],
   "source": [
    "# Use the `yfinance` library to download the front month S&P500 futures price data.\n",
    "sp500_prices = yf.download('ES=F', auto_adjust=False)['Adj Close']"
   ]
  },
  {
   "cell_type": "code",
   "execution_count": 4,
   "id": "724dd554",
   "metadata": {},
   "outputs": [],
   "source": [
    "# Calculate the daily logarithmic returns of the futures prices.\n",
    "log_returns = np.log(sp500_prices).diff()"
   ]
  },
  {
   "cell_type": "code",
   "execution_count": 5,
   "id": "a7f24f8e",
   "metadata": {},
   "outputs": [],
   "source": [
    "# Calculate the standard deviation (volatility) of the logarithmic returns\n",
    "volatility = log_returns.std()"
   ]
  },
  {
   "cell_type": "code",
   "execution_count": 6,
   "id": "73b3df3c",
   "metadata": {},
   "outputs": [
    {
     "name": "stdout",
     "output_type": "stream",
     "text": [
      "\n",
      "annualized_volatility: Ticker\n",
      "ES=F    19.58\n",
      "dtype: float64%\n",
      "\n"
     ]
    }
   ],
   "source": [
    "# Annualize the volatility\n",
    "# There are approximately 252 trading days in a year\n",
    "annualized_volatility = volatility * np.sqrt(252)\n",
    "print()\n",
    "print(f\"annualized_volatility: {np.round(annualized_volatility * 100, 2)}%\")\n",
    "print()"
   ]
  },
  {
   "cell_type": "code",
   "execution_count": null,
   "id": "37e07f79-b3ff-4533-9d22-1d238d075969",
   "metadata": {},
   "outputs": [],
   "source": []
  }
 ],
 "metadata": {
  "jupytext": {
   "cell_metadata_filter": "-all",
   "main_language": "python",
   "notebook_metadata_filter": "-all"
  },
  "kernelspec": {
   "display_name": "Python 3 (ipykernel)",
   "language": "python",
   "name": "python3"
  },
  "language_info": {
   "codemirror_mode": {
    "name": "ipython",
    "version": 3
   },
   "file_extension": ".py",
   "mimetype": "text/x-python",
   "name": "python",
   "nbconvert_exporter": "python",
   "pygments_lexer": "ipython3",
   "version": "3.10.18"
  }
 },
 "nbformat": 4,
 "nbformat_minor": 5
}
