{
 "cells": [
  {
   "cell_type": "markdown",
   "id": "d5ee8916-2732-4970-93d3-7424af847aa2",
   "metadata": {},
   "source": [
    "# "
   ]
  },
  {
   "cell_type": "code",
   "execution_count": 1,
   "id": "08d5eec1-1f48-46db-ac2e-1e9c9720fe52",
   "metadata": {},
   "outputs": [],
   "source": [
    "# Visualizing drawdown\n",
    "\n"
   ]
  },
  {
   "cell_type": "code",
   "execution_count": 2,
   "id": "32bcdb0f-7408-4423-837e-a3d5cd499385",
   "metadata": {},
   "outputs": [],
   "source": [
    "import numpy as np\n",
    "import yfinance as yf"
   ]
  },
  {
   "cell_type": "code",
   "execution_count": 3,
   "id": "1e14549e-1eb9-4686-b50a-fad09d1ba42e",
   "metadata": {},
   "outputs": [
    {
     "name": "stdout",
     "output_type": "stream",
     "text": [
      "YF.download() has changed argument auto_adjust default to True\n"
     ]
    },
    {
     "name": "stderr",
     "output_type": "stream",
     "text": [
      "[*********************100%***********************]  1 of 1 completed\n"
     ]
    }
   ],
   "source": [
    "data = yf.download(\"ES=F\")"
   ]
  },
  {
   "cell_type": "code",
   "execution_count": 4,
   "id": "65e791bf-5039-4a2f-a8e8-2bf0aabcb8e3",
   "metadata": {},
   "outputs": [
    {
     "data": {
      "text/html": [
       "<div>\n",
       "<style scoped>\n",
       "    .dataframe tbody tr th:only-of-type {\n",
       "        vertical-align: middle;\n",
       "    }\n",
       "\n",
       "    .dataframe tbody tr th {\n",
       "        vertical-align: top;\n",
       "    }\n",
       "\n",
       "    .dataframe thead tr th {\n",
       "        text-align: left;\n",
       "    }\n",
       "\n",
       "    .dataframe thead tr:last-of-type th {\n",
       "        text-align: right;\n",
       "    }\n",
       "</style>\n",
       "<table border=\"1\" class=\"dataframe\">\n",
       "  <thead>\n",
       "    <tr>\n",
       "      <th>Price</th>\n",
       "      <th>Close</th>\n",
       "      <th>High</th>\n",
       "      <th>Low</th>\n",
       "      <th>Open</th>\n",
       "      <th>Volume</th>\n",
       "    </tr>\n",
       "    <tr>\n",
       "      <th>Ticker</th>\n",
       "      <th>ES=F</th>\n",
       "      <th>ES=F</th>\n",
       "      <th>ES=F</th>\n",
       "      <th>ES=F</th>\n",
       "      <th>ES=F</th>\n",
       "    </tr>\n",
       "    <tr>\n",
       "      <th>Date</th>\n",
       "      <th></th>\n",
       "      <th></th>\n",
       "      <th></th>\n",
       "      <th></th>\n",
       "      <th></th>\n",
       "    </tr>\n",
       "  </thead>\n",
       "  <tbody>\n",
       "    <tr>\n",
       "      <th>2000-09-18</th>\n",
       "      <td>1467.50</td>\n",
       "      <td>1489.75</td>\n",
       "      <td>1462.25</td>\n",
       "      <td>1485.25</td>\n",
       "      <td>104794</td>\n",
       "    </tr>\n",
       "    <tr>\n",
       "      <th>2000-09-19</th>\n",
       "      <td>1478.50</td>\n",
       "      <td>1482.75</td>\n",
       "      <td>1466.75</td>\n",
       "      <td>1467.00</td>\n",
       "      <td>103371</td>\n",
       "    </tr>\n",
       "    <tr>\n",
       "      <th>2000-09-20</th>\n",
       "      <td>1469.50</td>\n",
       "      <td>1480.50</td>\n",
       "      <td>1450.25</td>\n",
       "      <td>1478.75</td>\n",
       "      <td>109667</td>\n",
       "    </tr>\n",
       "    <tr>\n",
       "      <th>2000-09-21</th>\n",
       "      <td>1469.50</td>\n",
       "      <td>1474.00</td>\n",
       "      <td>1455.50</td>\n",
       "      <td>1470.25</td>\n",
       "      <td>98528</td>\n",
       "    </tr>\n",
       "    <tr>\n",
       "      <th>2000-09-22</th>\n",
       "      <td>1468.50</td>\n",
       "      <td>1471.00</td>\n",
       "      <td>1436.75</td>\n",
       "      <td>1454.75</td>\n",
       "      <td>97416</td>\n",
       "    </tr>\n",
       "    <tr>\n",
       "      <th>...</th>\n",
       "      <td>...</td>\n",
       "      <td>...</td>\n",
       "      <td>...</td>\n",
       "      <td>...</td>\n",
       "      <td>...</td>\n",
       "    </tr>\n",
       "    <tr>\n",
       "      <th>2025-06-05</th>\n",
       "      <td>5946.00</td>\n",
       "      <td>6016.50</td>\n",
       "      <td>5928.75</td>\n",
       "      <td>5974.25</td>\n",
       "      <td>0</td>\n",
       "    </tr>\n",
       "    <tr>\n",
       "      <th>2025-06-06</th>\n",
       "      <td>6006.75</td>\n",
       "      <td>6025.00</td>\n",
       "      <td>5930.00</td>\n",
       "      <td>5931.75</td>\n",
       "      <td>1278102</td>\n",
       "    </tr>\n",
       "    <tr>\n",
       "      <th>2025-06-09</th>\n",
       "      <td>6010.25</td>\n",
       "      <td>6027.75</td>\n",
       "      <td>5992.25</td>\n",
       "      <td>6010.00</td>\n",
       "      <td>912371</td>\n",
       "    </tr>\n",
       "    <tr>\n",
       "      <th>2025-06-10</th>\n",
       "      <td>6045.00</td>\n",
       "      <td>6049.50</td>\n",
       "      <td>5991.25</td>\n",
       "      <td>6012.25</td>\n",
       "      <td>912371</td>\n",
       "    </tr>\n",
       "    <tr>\n",
       "      <th>2025-06-11</th>\n",
       "      <td>6029.50</td>\n",
       "      <td>6052.25</td>\n",
       "      <td>6024.25</td>\n",
       "      <td>6038.75</td>\n",
       "      <td>44180</td>\n",
       "    </tr>\n",
       "  </tbody>\n",
       "</table>\n",
       "<p>6245 rows × 5 columns</p>\n",
       "</div>"
      ],
      "text/plain": [
       "Price         Close     High      Low     Open   Volume\n",
       "Ticker         ES=F     ES=F     ES=F     ES=F     ES=F\n",
       "Date                                                   \n",
       "2000-09-18  1467.50  1489.75  1462.25  1485.25   104794\n",
       "2000-09-19  1478.50  1482.75  1466.75  1467.00   103371\n",
       "2000-09-20  1469.50  1480.50  1450.25  1478.75   109667\n",
       "2000-09-21  1469.50  1474.00  1455.50  1470.25    98528\n",
       "2000-09-22  1468.50  1471.00  1436.75  1454.75    97416\n",
       "...             ...      ...      ...      ...      ...\n",
       "2025-06-05  5946.00  6016.50  5928.75  5974.25        0\n",
       "2025-06-06  6006.75  6025.00  5930.00  5931.75  1278102\n",
       "2025-06-09  6010.25  6027.75  5992.25  6010.00   912371\n",
       "2025-06-10  6045.00  6049.50  5991.25  6012.25   912371\n",
       "2025-06-11  6029.50  6052.25  6024.25  6038.75    44180\n",
       "\n",
       "[6245 rows x 5 columns]"
      ]
     },
     "execution_count": 4,
     "metadata": {},
     "output_type": "execute_result"
    }
   ],
   "source": [
    "data"
   ]
  },
  {
   "cell_type": "code",
   "execution_count": 5,
   "id": "36a1ed09-b8bd-4530-8fb8-fc48e3f48aa9",
   "metadata": {},
   "outputs": [],
   "source": [
    "daily_returns = data['Close'].pct_change()"
   ]
  },
  {
   "cell_type": "code",
   "execution_count": 6,
   "id": "6ed5ac27-fe04-4844-8c62-5c29f8378b45",
   "metadata": {},
   "outputs": [
    {
     "data": {
      "text/html": [
       "<div>\n",
       "<style scoped>\n",
       "    .dataframe tbody tr th:only-of-type {\n",
       "        vertical-align: middle;\n",
       "    }\n",
       "\n",
       "    .dataframe tbody tr th {\n",
       "        vertical-align: top;\n",
       "    }\n",
       "\n",
       "    .dataframe thead th {\n",
       "        text-align: right;\n",
       "    }\n",
       "</style>\n",
       "<table border=\"1\" class=\"dataframe\">\n",
       "  <thead>\n",
       "    <tr style=\"text-align: right;\">\n",
       "      <th>Ticker</th>\n",
       "      <th>ES=F</th>\n",
       "    </tr>\n",
       "    <tr>\n",
       "      <th>Date</th>\n",
       "      <th></th>\n",
       "    </tr>\n",
       "  </thead>\n",
       "  <tbody>\n",
       "    <tr>\n",
       "      <th>2000-09-18</th>\n",
       "      <td>NaN</td>\n",
       "    </tr>\n",
       "    <tr>\n",
       "      <th>2000-09-19</th>\n",
       "      <td>0.007496</td>\n",
       "    </tr>\n",
       "    <tr>\n",
       "      <th>2000-09-20</th>\n",
       "      <td>-0.006087</td>\n",
       "    </tr>\n",
       "    <tr>\n",
       "      <th>2000-09-21</th>\n",
       "      <td>0.000000</td>\n",
       "    </tr>\n",
       "    <tr>\n",
       "      <th>2000-09-22</th>\n",
       "      <td>-0.000681</td>\n",
       "    </tr>\n",
       "    <tr>\n",
       "      <th>...</th>\n",
       "      <td>...</td>\n",
       "    </tr>\n",
       "    <tr>\n",
       "      <th>2025-06-05</th>\n",
       "      <td>-0.005852</td>\n",
       "    </tr>\n",
       "    <tr>\n",
       "      <th>2025-06-06</th>\n",
       "      <td>0.010217</td>\n",
       "    </tr>\n",
       "    <tr>\n",
       "      <th>2025-06-09</th>\n",
       "      <td>0.000583</td>\n",
       "    </tr>\n",
       "    <tr>\n",
       "      <th>2025-06-10</th>\n",
       "      <td>0.005782</td>\n",
       "    </tr>\n",
       "    <tr>\n",
       "      <th>2025-06-11</th>\n",
       "      <td>-0.002564</td>\n",
       "    </tr>\n",
       "  </tbody>\n",
       "</table>\n",
       "<p>6245 rows × 1 columns</p>\n",
       "</div>"
      ],
      "text/plain": [
       "Ticker          ES=F\n",
       "Date                \n",
       "2000-09-18       NaN\n",
       "2000-09-19  0.007496\n",
       "2000-09-20 -0.006087\n",
       "2000-09-21  0.000000\n",
       "2000-09-22 -0.000681\n",
       "...              ...\n",
       "2025-06-05 -0.005852\n",
       "2025-06-06  0.010217\n",
       "2025-06-09  0.000583\n",
       "2025-06-10  0.005782\n",
       "2025-06-11 -0.002564\n",
       "\n",
       "[6245 rows x 1 columns]"
      ]
     },
     "execution_count": 6,
     "metadata": {},
     "output_type": "execute_result"
    }
   ],
   "source": [
    "daily_returns"
   ]
  },
  {
   "cell_type": "code",
   "execution_count": 8,
   "id": "bfbb52fe-5e81-44a2-8025-b0a31651bb74",
   "metadata": {},
   "outputs": [],
   "source": [
    "prices = data['Close']"
   ]
  },
  {
   "cell_type": "code",
   "execution_count": 9,
   "id": "ebc3c064-0b79-4c8a-ac49-a8e0411b5312",
   "metadata": {},
   "outputs": [
    {
     "data": {
      "text/plain": [
       "<Axes: xlabel='Date'>"
      ]
     },
     "execution_count": 9,
     "metadata": {},
     "output_type": "execute_result"
    },
    {
     "data": {
      "image/png": "[encoded data removed]",
      "text/plain": [
       "<Figure size 640x480 with 1 Axes>"
      ]
     },
     "metadata": {},
     "output_type": "display_data"
    }
   ],
   "source": [
    "prices.plot()"
   ]
  },
  {
   "cell_type": "code",
   "execution_count": 10,
   "id": "4145578b-6023-4c00-9d89-41d2e5e1845e",
   "metadata": {},
   "outputs": [],
   "source": [
    "returns = prices.pct_change()"
   ]
  },
  {
   "cell_type": "code",
   "execution_count": 11,
   "id": "4ec50408-4835-4012-9847-11fee85efc92",
   "metadata": {},
   "outputs": [],
   "source": [
    "cum_returns = (1 + returns).cumprod()"
   ]
  },
  {
   "cell_type": "code",
   "execution_count": 14,
   "id": "e2b861cd-64fa-45c0-8685-5c6b99b962a8",
   "metadata": {},
   "outputs": [
    {
     "data": {
      "text/html": [
       "<div>\n",
       "<style scoped>\n",
       "    .dataframe tbody tr th:only-of-type {\n",
       "        vertical-align: middle;\n",
       "    }\n",
       "\n",
       "    .dataframe tbody tr th {\n",
       "        vertical-align: top;\n",
       "    }\n",
       "\n",
       "    .dataframe thead th {\n",
       "        text-align: right;\n",
       "    }\n",
       "</style>\n",
       "<table border=\"1\" class=\"dataframe\">\n",
       "  <thead>\n",
       "    <tr style=\"text-align: right;\">\n",
       "      <th>Ticker</th>\n",
       "      <th>ES=F</th>\n",
       "    </tr>\n",
       "    <tr>\n",
       "      <th>Date</th>\n",
       "      <th></th>\n",
       "    </tr>\n",
       "  </thead>\n",
       "  <tbody>\n",
       "    <tr>\n",
       "      <th>2025-06-05</th>\n",
       "      <td>-0.005852</td>\n",
       "    </tr>\n",
       "    <tr>\n",
       "      <th>2025-06-06</th>\n",
       "      <td>0.010217</td>\n",
       "    </tr>\n",
       "    <tr>\n",
       "      <th>2025-06-09</th>\n",
       "      <td>0.000583</td>\n",
       "    </tr>\n",
       "    <tr>\n",
       "      <th>2025-06-10</th>\n",
       "      <td>0.005782</td>\n",
       "    </tr>\n",
       "    <tr>\n",
       "      <th>2025-06-11</th>\n",
       "      <td>-0.002564</td>\n",
       "    </tr>\n",
       "  </tbody>\n",
       "</table>\n",
       "</div>"
      ],
      "text/plain": [
       "Ticker          ES=F\n",
       "Date                \n",
       "2025-06-05 -0.005852\n",
       "2025-06-06  0.010217\n",
       "2025-06-09  0.000583\n",
       "2025-06-10  0.005782\n",
       "2025-06-11 -0.002564"
      ]
     },
     "execution_count": 14,
     "metadata": {},
     "output_type": "execute_result"
    }
   ],
   "source": [
    "returns.tail()"
   ]
  },
  {
   "cell_type": "code",
   "execution_count": 15,
   "id": "a38b2856-c9dd-45b0-85c7-c2308df35a6d",
   "metadata": {},
   "outputs": [
    {
     "data": {
      "text/html": [
       "<div>\n",
       "<style scoped>\n",
       "    .dataframe tbody tr th:only-of-type {\n",
       "        vertical-align: middle;\n",
       "    }\n",
       "\n",
       "    .dataframe tbody tr th {\n",
       "        vertical-align: top;\n",
       "    }\n",
       "\n",
       "    .dataframe thead th {\n",
       "        text-align: right;\n",
       "    }\n",
       "</style>\n",
       "<table border=\"1\" class=\"dataframe\">\n",
       "  <thead>\n",
       "    <tr style=\"text-align: right;\">\n",
       "      <th>Ticker</th>\n",
       "      <th>ES=F</th>\n",
       "    </tr>\n",
       "    <tr>\n",
       "      <th>Date</th>\n",
       "      <th></th>\n",
       "    </tr>\n",
       "  </thead>\n",
       "  <tbody>\n",
       "    <tr>\n",
       "      <th>2025-06-05</th>\n",
       "      <td>4.051789</td>\n",
       "    </tr>\n",
       "    <tr>\n",
       "      <th>2025-06-06</th>\n",
       "      <td>4.093186</td>\n",
       "    </tr>\n",
       "    <tr>\n",
       "      <th>2025-06-09</th>\n",
       "      <td>4.095571</td>\n",
       "    </tr>\n",
       "    <tr>\n",
       "      <th>2025-06-10</th>\n",
       "      <td>4.119250</td>\n",
       "    </tr>\n",
       "    <tr>\n",
       "      <th>2025-06-11</th>\n",
       "      <td>4.108688</td>\n",
       "    </tr>\n",
       "  </tbody>\n",
       "</table>\n",
       "</div>"
      ],
      "text/plain": [
       "Ticker          ES=F\n",
       "Date                \n",
       "2025-06-05  4.051789\n",
       "2025-06-06  4.093186\n",
       "2025-06-09  4.095571\n",
       "2025-06-10  4.119250\n",
       "2025-06-11  4.108688"
      ]
     },
     "execution_count": 15,
     "metadata": {},
     "output_type": "execute_result"
    }
   ],
   "source": [
    "cum_returns.tail()"
   ]
  },
  {
   "cell_type": "code",
   "execution_count": 16,
   "id": "32d32a34-eb8d-4672-91f8-bcbeedadd600",
   "metadata": {},
   "outputs": [
    {
     "data": {
      "text/plain": [
       "<Axes: xlabel='Date'>"
      ]
     },
     "execution_count": 16,
     "metadata": {},
     "output_type": "execute_result"
    },
    {
     "data": {
      "image/png": "[encoded data removed]",
      "text/plain": [
       "<Figure size 640x480 with 1 Axes>"
      ]
     },
     "metadata": {},
     "output_type": "display_data"
    }
   ],
   "source": [
    "cum_returns.plot()"
   ]
  },
  {
   "cell_type": "code",
   "execution_count": 21,
   "id": "5f59dd39-fc5a-4d20-a65d-22128a98379a",
   "metadata": {},
   "outputs": [],
   "source": [
    "cum_returns_max = cum_returns.cummax()"
   ]
  },
  {
   "cell_type": "code",
   "execution_count": 34,
   "id": "2a7ca966-8742-4cc9-93c9-cfb9cb6726c4",
   "metadata": {},
   "outputs": [],
   "source": [
    "import matplotlib.pyplot as plt\n",
    "import pandas as pd"
   ]
  },
  {
   "cell_type": "code",
   "execution_count": 37,
   "id": "689d1d0f-b6a6-44f1-8f9d-0f7b32fba1ec",
   "metadata": {},
   "outputs": [
    {
     "data": {
      "text/html": [
       "<div>\n",
       "<style scoped>\n",
       "    .dataframe tbody tr th:only-of-type {\n",
       "        vertical-align: middle;\n",
       "    }\n",
       "\n",
       "    .dataframe tbody tr th {\n",
       "        vertical-align: top;\n",
       "    }\n",
       "\n",
       "    .dataframe thead th {\n",
       "        text-align: right;\n",
       "    }\n",
       "</style>\n",
       "<table border=\"1\" class=\"dataframe\">\n",
       "  <thead>\n",
       "    <tr style=\"text-align: right;\">\n",
       "      <th>Ticker</th>\n",
       "      <th>ES=F</th>\n",
       "    </tr>\n",
       "    <tr>\n",
       "      <th>Date</th>\n",
       "      <th></th>\n",
       "    </tr>\n",
       "  </thead>\n",
       "  <tbody>\n",
       "    <tr>\n",
       "      <th>2000-09-18</th>\n",
       "      <td>NaN</td>\n",
       "    </tr>\n",
       "    <tr>\n",
       "      <th>2000-09-19</th>\n",
       "      <td>1.007496</td>\n",
       "    </tr>\n",
       "    <tr>\n",
       "      <th>2000-09-20</th>\n",
       "      <td>1.001363</td>\n",
       "    </tr>\n",
       "    <tr>\n",
       "      <th>2000-09-21</th>\n",
       "      <td>1.001363</td>\n",
       "    </tr>\n",
       "    <tr>\n",
       "      <th>2000-09-22</th>\n",
       "      <td>1.000681</td>\n",
       "    </tr>\n",
       "  </tbody>\n",
       "</table>\n",
       "</div>"
      ],
      "text/plain": [
       "Ticker          ES=F\n",
       "Date                \n",
       "2000-09-18       NaN\n",
       "2000-09-19  1.007496\n",
       "2000-09-20  1.001363\n",
       "2000-09-21  1.001363\n",
       "2000-09-22  1.000681"
      ]
     },
     "execution_count": 37,
     "metadata": {},
     "output_type": "execute_result"
    }
   ],
   "source": [
    "cum_returns.head()"
   ]
  },
  {
   "cell_type": "code",
   "execution_count": 38,
   "id": "6b8d5289-c4ec-458c-a8cb-a09cff767b66",
   "metadata": {},
   "outputs": [],
   "source": [
    "cum_returns_series = cum_returns['ES=F']\n",
    "cum_returns_max_series = cum_returns_max['ES=F']"
   ]
  },
  {
   "cell_type": "code",
   "execution_count": 39,
   "id": "41fc0395-3f6e-438c-8ec6-bca7324d96f8",
   "metadata": {},
   "outputs": [
    {
     "data": {
      "image/png": "[encoded data removed]",
      "text/plain": [
       "<Figure size 640x480 with 1 Axes>"
      ]
     },
     "metadata": {},
     "output_type": "display_data"
    }
   ],
   "source": [
    "# cum_returns.plot()\n",
    "# cum_returns_max.plot()\n",
    "# plt.show()\n",
    "\n",
    "ax = cum_returns.plot(label='Cumulative Returns')  # first line\n",
    "cum_returns_max.plot(ax=ax, label='Rolling Max')   # second line on same axis\n",
    "plt.legend()\n",
    "plt.show()"
   ]
  },
  {
   "cell_type": "code",
   "execution_count": 40,
   "id": "28d927ab-0f6c-4c0c-9d63-8f63315d9b79",
   "metadata": {},
   "outputs": [],
   "source": [
    "drawdown = (cum_returns_max - cum_returns) / cum_returns_max"
   ]
  },
  {
   "cell_type": "code",
   "execution_count": 58,
   "id": "293d9031-826d-45e8-8f40-95049c2479a1",
   "metadata": {},
   "outputs": [
    {
     "name": "stdout",
     "output_type": "stream",
     "text": [
      "2009-03-09 00:00:00\n"
     ]
    },
    {
     "data": {
      "image/png": "[encoded data removed]",
      "text/plain": [
       "<Figure size 640x480 with 1 Axes>"
      ]
     },
     "metadata": {},
     "output_type": "display_data"
    }
   ],
   "source": [
    "fig, ax = plt.subplots()\n",
    "ax.plot(cum_returns_series.index, cum_returns_series, label='Cumulative Returns')\n",
    "ax.fill_between(cum_returns_max_series.index, cum_returns_series, cum_returns_max_series, alpha=0.2, label='Drawdown')\n",
    "\n",
    "max_drawdown_idx = drawdown.idxmax()['ES=F']\n",
    "print(max_drawdown_idx)\n",
    "max_drawdown_value = drawdown.loc[max_drawdown_idx, 'ES=F']\n",
    "ax.scatter(max_drawdown_idx, max_drawdown_value, label=\"Max Drawdown\")\n",
    "plt.legend()\n",
    "plt.show()"
   ]
  },
  {
   "cell_type": "code",
   "execution_count": null,
   "id": "8b709225-7ad7-4830-88e7-c9bd19ade344",
   "metadata": {},
   "outputs": [],
   "source": []
  },
  {
   "cell_type": "code",
   "execution_count": 15,
   "id": "14cad54d-493b-4dc4-9fd3-b1b6053be14b",
   "metadata": {},
   "outputs": [
    {
     "data": {
      "text/plain": [
       "Ticker\n",
       "ES=F    15.607551\n",
       "dtype: float64"
      ]
     },
     "execution_count": 15,
     "metadata": {},
     "output_type": "execute_result"
    }
   ],
   "source": [
    "returns_kurtosis"
   ]
  }
 ],
 "metadata": {
  "kernelspec": {
   "display_name": "Python 3 (ipykernel)",
   "language": "python",
   "name": "python3"
  },
  "language_info": {
   "codemirror_mode": {
    "name": "ipython",
    "version": 3
   },
   "file_extension": ".py",
   "mimetype": "text/x-python",
   "name": "python",
   "nbconvert_exporter": "python",
   "pygments_lexer": "ipython3",
   "version": "3.10.18"
  }
 },
 "nbformat": 4,
 "nbformat_minor": 5
}
